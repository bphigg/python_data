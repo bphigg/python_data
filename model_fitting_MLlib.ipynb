{
 "cells": [
  {
   "cell_type": "markdown",
   "id": "9f374b05-a2d4-462b-a527-899d4d2a6d22",
   "metadata": {},
   "source": [
    "# Model Fitting with MLlib\n",
    "brian higginbotham"
   ]
  },
  {
   "cell_type": "markdown",
   "id": "bb4a3e94-e09c-4d52-8fac-3a5797a1253f",
   "metadata": {},
   "source": [
    "In this example we will fit three different types of machine learning models using the ```MLlib``` library from ```pyspark```. To do this, we will use the **Abalone** data set available [here at the UCI Machine Learning Library](https://archive.ics.uci.edu/dataset/1/abalone). This data set contains seven continuous (measured) features and one categorical feature of over 4,000 abalone and one target variable - rings. We will use the ring variable to predict the age of the abalone.\n",
    "\n",
    "To begin with, let's import some libraries that we will be using."
   ]
  },
  {
   "cell_type": "code",
   "execution_count": 2,
   "id": "2945adad-d6fe-46ee-850a-73f7ee114d49",
   "metadata": {},
   "outputs": [],
   "source": [
    "import pandas as pd\n",
    "import numpy as np\n",
    "import pyspark.pandas as ps\n",
    "from pyspark.sql import SparkSession"
   ]
  },
  {
   "cell_type": "markdown",
   "id": "b85924be-01a9-45ec-8442-246cac992b7d",
   "metadata": {},
   "source": [
    "Inspecting the dataset outside of the pyspark environment (just open it in a text file) we'll notice the set does not have any associated column names. The column names are in a companion file which we'll use to create a list of the column names that we can add to the dataset when we read it in."
   ]
  },
  {
   "cell_type": "code",
   "execution_count": 3,
   "id": "b0666691-f066-43e1-b419-233d8a02539e",
   "metadata": {},
   "outputs": [],
   "source": [
    "cols = ['sex', 'length', 'diameter', 'height', 'whole_weight', 'shucked_weight', 'viscera_weight', 'shell_weight', 'rings']"
   ]
  },
  {
   "cell_type": "markdown",
   "id": "3dc44825-09f8-40c9-a7ce-293e2ddc6570",
   "metadata": {},
   "source": [
    "Now we'll create a spark session and read in the dataset and inspect the first 5 rows."
   ]
  },
  {
   "cell_type": "code",
   "execution_count": 5,
   "id": "c5613160-9359-4f5e-b1f3-d251a968c1e2",
   "metadata": {},
   "outputs": [
    {
     "name": "stdout",
     "output_type": "stream",
     "text": [
      "+---+------+--------+------+------------+--------------+--------------+------------+-----+\n",
      "|sex|length|diameter|height|whole_weight|shucked_weight|viscera_weight|shell_weight|rings|\n",
      "+---+------+--------+------+------------+--------------+--------------+------------+-----+\n",
      "|  M| 0.455|   0.365| 0.095|       0.514|        0.2245|         0.101|        0.15|   15|\n",
      "|  M|  0.35|   0.265|  0.09|      0.2255|        0.0995|        0.0485|        0.07|    7|\n",
      "|  F|  0.53|    0.42| 0.135|       0.677|        0.2565|        0.1415|        0.21|    9|\n",
      "|  M|  0.44|   0.365| 0.125|       0.516|        0.2155|         0.114|       0.155|   10|\n",
      "|  I|  0.33|   0.255|  0.08|       0.205|        0.0895|        0.0395|       0.055|    7|\n",
      "+---+------+--------+------+------------+--------------+--------------+------------+-----+\n",
      "only showing top 5 rows\n",
      "\n"
     ]
    }
   ],
   "source": [
    "spark = SparkSession.builder.getOrCreate()\n",
    "abalone = spark.createDataFrame(pd.read_csv('abalone.data', names=cols))\n",
    "abalone.show(5)"
   ]
  },
  {
   "cell_type": "markdown",
   "id": "79f97122-dd0d-4584-957f-e7d2c3f4f44f",
   "metadata": {},
   "source": [
    "For our ML models, we'll want to split the data into a train and test set. We can do this using ```.randomSplit()```. We'll print out the length of each split just to make sure we get the right proportions."
   ]
  },
  {
   "cell_type": "code",
   "execution_count": 7,
   "id": "c4bbd2b1-a6c3-4b1d-be3e-d7a275175363",
   "metadata": {},
   "outputs": [
    {
     "name": "stdout",
     "output_type": "stream",
     "text": [
      "3331 846\n"
     ]
    }
   ],
   "source": [
    "train, test = abalone.randomSplit([0.8, 0.2], seed=54)\n",
    "print(train.count(), test.count())"
   ]
  },
  {
   "cell_type": "markdown",
   "id": "17d25c24-a076-4d3e-9fcd-9c8d6071bad9",
   "metadata": {},
   "source": [
    "Additionally, we will want to make sure that our categorical variable, 'sex', is roughly equally proportioned in the training set. We wouldn't want there to be an overly disproportionate number of one of these categories as that could negatively affect the model fitting and the resultant predictions."
   ]
  },
  {
   "cell_type": "code",
   "execution_count": 8,
   "id": "6b28beb6-62d3-4776-9951-697e036a423b",
   "metadata": {},
   "outputs": [
    {
     "name": "stdout",
     "output_type": "stream",
     "text": [
      "1026\n",
      "1227\n",
      "1078\n"
     ]
    }
   ],
   "source": [
    "print(train.filter(abalone['sex']=='F').count())\n",
    "print(train.filter(abalone['sex']=='M').count())\n",
    "print(train.filter(abalone['sex']=='I').count())"
   ]
  },
  {
   "cell_type": "markdown",
   "id": "bdcb4515-019b-4b47-a317-7a1a3a4fcc53",
   "metadata": {},
   "source": [
    "looks pretty good! If the proportions were significantly off, we would need to check the proportions of the category in the overall dataset and see if it is similar to the training set. If there was a significant difference between the two, we would want to look into ```stratify```ing the train and test set by the categorical variable. We probably should have done this before the train and test split, but since it looks pretty good we'll leave it as is."
   ]
  },
  {
   "cell_type": "markdown",
   "id": "fcfde51b-c8af-45bf-8454-a63342a0730d",
   "metadata": {},
   "source": [
    "# MLR/Regularized Regression"
   ]
  },
  {
   "cell_type": "markdown",
   "id": "cca37f4d-6611-4404-9817-a4dfef0125d0",
   "metadata": {},
   "source": [
    "The first model will be a **Regularized Regression** model. These models are based on the Multiple Linear Regression models but with a penalty assessement that influences feature selection.\n",
    "\n",
    "In a MLR model, multiple features are used to determine a target or outcome. These features can be considered individually (known as Main Effect), combined (Interactive Effect), exponentiated (Polynomial Effect), or any combination thereof.  Depending on the number of features in the dataset, it can quickly get difficult and time consuming to try and determine the best combination of features to include in a MLR model. This is where **Regularized Regression** can be helpful. These models add a penalty term to the MLR model that influences the ‘weight’ of each feature so that the model performs feature selection. \n",
    "\n",
    "There are three types of **Regularized Regression models**: LASSO, Ridge, and ElasticNet.\n",
    "\n",
    "**LASSO**: the error assessment on a LASSO is determined by a ‘tuning parameter’ (alpha) applied to the sum of the absolute values of the parameters or coefficients. This parameter can range from 0 (which means the penalty is not applied and the model reverts to a MLR model) to very large. The higher the alpha, the greater the shrinkage will be in the parameters and thus fewer features will be determining the target or outcome.\n",
    "\n",
    "**Ridge**: the error assessment on a Ridge is determined by the ‘tuning parameter” applied to the sum of the parameters or coefficients squared. Similar to the LASSO, the parameter can range from 0 (penalty not applied - MLR model) to very large.  By squaring the coeffiecients the deviations from 1 are emphasized.\n",
    "\n",
    "**ElasticNet**: This is a combination of the LASSO and the Ridge Models. A ratio (L1) is used to determine to proportion of the LASSO and Ridge to be used in the model.\n",
    "\n",
    "As with the MLR, it can be difficult and time consuming to determine which alpha to use for the LASSO, the Ridge, and which alpha and L1 to use for the ElasticNet. Adding to this calculation, we’ll also need to decide which model, with optimal parameters, performs best.\n",
    "\n",
    "With the MLlib ```LinearRegression()``` and ```crossValidator()``` functions, we’ll be able to enter in a range of parameters for both alpha and L1 and produce a model with the optimal parameters! Depending the range of parameters, the crossValidator will automatically determine if the best model is a MLR (alpha = 0), LASSO (L1 = 1), Ridge (L1= 0), or ElasticNet (0<alpha<1)."
   ]
  },
  {
   "cell_type": "markdown",
   "id": "a91e4270-3b1e-4b49-bf9b-fc75b5ef7631",
   "metadata": {},
   "source": [
    "To get started, we'll need to prep our data for the model fit."
   ]
  },
  {
   "cell_type": "code",
   "execution_count": 9,
   "id": "c041f8e1-b25f-4c51-8a5b-2f19de2d83e6",
   "metadata": {},
   "outputs": [],
   "source": [
    "from pyspark.ml.feature import SQLTransformer, StringIndexer, Binarizer, VectorAssembler, VectorIndexer"
   ]
  },
  {
   "cell_type": "markdown",
   "id": "f55e93c9-bf50-42f2-b423-4ea18b75a8a7",
   "metadata": {},
   "source": [
    "The one categorical feature, 'sex', has three values - female ('F'), male ('M'), and infant ('I'). We'll need to create dummy variables for these values. We'll start by using ```StringIndexer()``` which creates a column with numerical values for each category in a categorical column. We then fit the ```StringIndexer``` instance to the data and then ```.transform()``` the data to create the numerical column."
   ]
  },
  {
   "cell_type": "code",
   "execution_count": 11,
   "id": "24849534-ec44-4942-8ca0-6f9035028a5c",
   "metadata": {},
   "outputs": [
    {
     "name": "stdout",
     "output_type": "stream",
     "text": [
      "+---+------+--------+------+------------+--------------+--------------+------------+-----+-----+\n",
      "|sex|length|diameter|height|whole_weight|shucked_weight|viscera_weight|shell_weight|rings|sex_F|\n",
      "+---+------+--------+------+------------+--------------+--------------+------------+-----+-----+\n",
      "|  F|  0.44|    0.34|   0.1|       0.451|         0.188|         0.087|        0.13|   10|  2.0|\n",
      "|  F|  0.47|   0.355|   0.1|      0.4755|        0.1675|        0.0805|       0.185|   10|  2.0|\n",
      "|  F| 0.525|    0.38|  0.14|      0.6065|         0.194|        0.1475|        0.21|   14|  2.0|\n",
      "|  F|  0.53|   0.415|  0.15|      0.7775|         0.237|        0.1415|        0.33|   20|  2.0|\n",
      "|  F|  0.53|    0.42| 0.135|       0.677|        0.2565|        0.1415|        0.21|    9|  2.0|\n",
      "|  F| 0.535|   0.405| 0.145|      0.6845|        0.2725|         0.171|       0.205|   10|  2.0|\n",
      "|  F| 0.545|   0.425| 0.125|       0.768|         0.294|        0.1495|        0.26|   16|  2.0|\n",
      "|  F|  0.55|    0.44|  0.15|      0.8945|        0.3145|         0.151|        0.32|   19|  2.0|\n",
      "|  F|  0.56|    0.44|  0.14|      0.9285|        0.3825|         0.188|         0.3|   11|  2.0|\n",
      "|  F|  0.58|    0.45| 0.185|      0.9955|        0.3945|         0.272|       0.285|   11|  2.0|\n",
      "|  F| 0.615|    0.48| 0.165|      1.1615|         0.513|         0.301|       0.305|   10|  2.0|\n",
      "|  F|  0.68|    0.56| 0.165|       1.639|        0.6055|        0.2805|        0.46|   15|  2.0|\n",
      "|  I| 0.355|    0.28| 0.085|      0.2905|         0.095|        0.0395|       0.115|    7|  1.0|\n",
      "|  I| 0.425|     0.3| 0.095|      0.3515|         0.141|        0.0775|        0.12|    8|  1.0|\n",
      "|  M|  0.35|   0.265|  0.09|      0.2255|        0.0995|        0.0485|        0.07|    7|  0.0|\n",
      "|  M| 0.365|   0.295|  0.08|      0.2555|         0.097|         0.043|         0.1|    7|  0.0|\n",
      "|  M|  0.43|    0.35|  0.11|       0.406|        0.1675|         0.081|       0.135|   10|  0.0|\n",
      "|  M|  0.44|   0.365| 0.125|       0.516|        0.2155|         0.114|       0.155|   10|  0.0|\n",
      "|  M|  0.45|    0.32|   0.1|       0.381|        0.1705|         0.075|       0.115|    9|  0.0|\n",
      "|  M| 0.455|   0.365| 0.095|       0.514|        0.2245|         0.101|        0.15|   15|  0.0|\n",
      "+---+------+--------+------+------------+--------------+--------------+------------+-----+-----+\n",
      "only showing top 20 rows\n",
      "\n"
     ]
    }
   ],
   "source": [
    "indexer_f = StringIndexer(inputCols=['sex'], outputCols=['sex_F'])\n",
    "indexer_fTrans = indexer_f.fit(train)\n",
    "indexer_fTrans.transform(train).show(20)"
   ]
  },
  {
   "cell_type": "markdown",
   "id": "8fc28213-19c6-4dfd-81a0-77e5c7158501",
   "metadata": {},
   "source": [
    "Now we 'binarize' the column using ```Binarizer()```. Since 'F' were assigned 2.0 in the indexer, which happens to be the highest of the three values, we'll use a threshold of 1.5 to 'binarize' on. This means everthing above a 1.5 gets assigned '1' and everything else '0' in the 'female' column."
   ]
  },
  {
   "cell_type": "code",
   "execution_count": 12,
   "id": "fd8f1302-6a80-48ce-87cc-669ecc146846",
   "metadata": {},
   "outputs": [
    {
     "name": "stdout",
     "output_type": "stream",
     "text": [
      "+---+------+--------+------+------------+--------------+--------------+------------+-----+-----+------+\n",
      "|sex|length|diameter|height|whole_weight|shucked_weight|viscera_weight|shell_weight|rings|sex_F|female|\n",
      "+---+------+--------+------+------------+--------------+--------------+------------+-----+-----+------+\n",
      "|  F|  0.44|    0.34|   0.1|       0.451|         0.188|         0.087|        0.13|   10|  2.0|   1.0|\n",
      "|  F|  0.47|   0.355|   0.1|      0.4755|        0.1675|        0.0805|       0.185|   10|  2.0|   1.0|\n",
      "|  F| 0.525|    0.38|  0.14|      0.6065|         0.194|        0.1475|        0.21|   14|  2.0|   1.0|\n",
      "|  F|  0.53|   0.415|  0.15|      0.7775|         0.237|        0.1415|        0.33|   20|  2.0|   1.0|\n",
      "|  F|  0.53|    0.42| 0.135|       0.677|        0.2565|        0.1415|        0.21|    9|  2.0|   1.0|\n",
      "+---+------+--------+------+------------+--------------+--------------+------------+-----+-----+------+\n",
      "only showing top 5 rows\n",
      "\n"
     ]
    }
   ],
   "source": [
    "binary_fTrans = Binarizer(threshold = 1.5, inputCol='sex_F', outputCol='female')\n",
    "binary_fTrans.transform(indexer_fTrans.transform(train)).show(5)"
   ]
  },
  {
   "cell_type": "markdown",
   "id": "7588a5fc-8752-433d-b8ed-5416cf83b102",
   "metadata": {},
   "source": [
    "Now we need to create a dummy variable for the men or infants, but not both. Once we create a dummy variable for one of the reamining two, the remaining variable will be automatically considered by the model through it's absence (for example, if we dummy variable 'F' and 'M', then 'I' will be automatically considered when 'F'=0 and 'M'=0).\n",
    "\n",
    "However, ```StringIndexer()``` automatically assigns numbers based on frequency of the category. Thus 'F' was assigned 2.0 because it was the least frequent category (0.0 being the most frequent). This creates a problem with our threshold argument in ```Binarizer()```, which will only assign '1' above a certain threshold. We can remedy this by using the argument ```stringOrderType=``` in ```StringIndexer()```. By changing ```stringOrderType='frequencyAsc'``` we'll now get 'M' to be assigned 2.0 and from there we can use the same ```Binarizer()``` threshold for a 'male' dummy column."
   ]
  },
  {
   "cell_type": "code",
   "execution_count": 13,
   "id": "ef99770d-a85b-47a8-ae89-d0ce0a7c43e2",
   "metadata": {},
   "outputs": [
    {
     "name": "stdout",
     "output_type": "stream",
     "text": [
      "+---+------+--------+------+------------+--------------+--------------+------------+-----+-----+\n",
      "|sex|length|diameter|height|whole_weight|shucked_weight|viscera_weight|shell_weight|rings|sex_M|\n",
      "+---+------+--------+------+------------+--------------+--------------+------------+-----+-----+\n",
      "|  F|  0.44|    0.34|   0.1|       0.451|         0.188|         0.087|        0.13|   10|  0.0|\n",
      "|  F|  0.47|   0.355|   0.1|      0.4755|        0.1675|        0.0805|       0.185|   10|  0.0|\n",
      "|  F| 0.525|    0.38|  0.14|      0.6065|         0.194|        0.1475|        0.21|   14|  0.0|\n",
      "|  F|  0.53|   0.415|  0.15|      0.7775|         0.237|        0.1415|        0.33|   20|  0.0|\n",
      "|  F|  0.53|    0.42| 0.135|       0.677|        0.2565|        0.1415|        0.21|    9|  0.0|\n",
      "|  F| 0.535|   0.405| 0.145|      0.6845|        0.2725|         0.171|       0.205|   10|  0.0|\n",
      "|  F| 0.545|   0.425| 0.125|       0.768|         0.294|        0.1495|        0.26|   16|  0.0|\n",
      "|  F|  0.55|    0.44|  0.15|      0.8945|        0.3145|         0.151|        0.32|   19|  0.0|\n",
      "|  F|  0.56|    0.44|  0.14|      0.9285|        0.3825|         0.188|         0.3|   11|  0.0|\n",
      "|  F|  0.58|    0.45| 0.185|      0.9955|        0.3945|         0.272|       0.285|   11|  0.0|\n",
      "|  F| 0.615|    0.48| 0.165|      1.1615|         0.513|         0.301|       0.305|   10|  0.0|\n",
      "|  F|  0.68|    0.56| 0.165|       1.639|        0.6055|        0.2805|        0.46|   15|  0.0|\n",
      "|  I| 0.355|    0.28| 0.085|      0.2905|         0.095|        0.0395|       0.115|    7|  1.0|\n",
      "|  I| 0.425|     0.3| 0.095|      0.3515|         0.141|        0.0775|        0.12|    8|  1.0|\n",
      "|  M|  0.35|   0.265|  0.09|      0.2255|        0.0995|        0.0485|        0.07|    7|  2.0|\n",
      "|  M| 0.365|   0.295|  0.08|      0.2555|         0.097|         0.043|         0.1|    7|  2.0|\n",
      "|  M|  0.43|    0.35|  0.11|       0.406|        0.1675|         0.081|       0.135|   10|  2.0|\n",
      "|  M|  0.44|   0.365| 0.125|       0.516|        0.2155|         0.114|       0.155|   10|  2.0|\n",
      "|  M|  0.45|    0.32|   0.1|       0.381|        0.1705|         0.075|       0.115|    9|  2.0|\n",
      "|  M| 0.455|   0.365| 0.095|       0.514|        0.2245|         0.101|        0.15|   15|  2.0|\n",
      "+---+------+--------+------+------------+--------------+--------------+------------+-----+-----+\n",
      "only showing top 20 rows\n",
      "\n"
     ]
    }
   ],
   "source": [
    "indexer_m = StringIndexer(inputCols=['sex'], outputCols=['sex_M'], stringOrderType='frequencyAsc')\n",
    "indexer_mTrans = indexer_m.fit(train)\n",
    "indexer_mTrans.transform(train).show(20)"
   ]
  },
  {
   "cell_type": "code",
   "execution_count": 14,
   "id": "c0c7db71-097c-4028-9d6e-fce139cca51c",
   "metadata": {},
   "outputs": [
    {
     "name": "stdout",
     "output_type": "stream",
     "text": [
      "+---+------+--------+------+------------+--------------+--------------+------------+-----+-----+------+-----+----+\n",
      "|sex|length|diameter|height|whole_weight|shucked_weight|viscera_weight|shell_weight|rings|sex_F|female|sex_M|male|\n",
      "+---+------+--------+------+------------+--------------+--------------+------------+-----+-----+------+-----+----+\n",
      "|  F|  0.44|    0.34|   0.1|       0.451|         0.188|         0.087|        0.13|   10|  2.0|   1.0|  0.0| 0.0|\n",
      "|  F|  0.47|   0.355|   0.1|      0.4755|        0.1675|        0.0805|       0.185|   10|  2.0|   1.0|  0.0| 0.0|\n",
      "|  F| 0.525|    0.38|  0.14|      0.6065|         0.194|        0.1475|        0.21|   14|  2.0|   1.0|  0.0| 0.0|\n",
      "|  F|  0.53|   0.415|  0.15|      0.7775|         0.237|        0.1415|        0.33|   20|  2.0|   1.0|  0.0| 0.0|\n",
      "|  F|  0.53|    0.42| 0.135|       0.677|        0.2565|        0.1415|        0.21|    9|  2.0|   1.0|  0.0| 0.0|\n",
      "|  F| 0.535|   0.405| 0.145|      0.6845|        0.2725|         0.171|       0.205|   10|  2.0|   1.0|  0.0| 0.0|\n",
      "|  F| 0.545|   0.425| 0.125|       0.768|         0.294|        0.1495|        0.26|   16|  2.0|   1.0|  0.0| 0.0|\n",
      "|  F|  0.55|    0.44|  0.15|      0.8945|        0.3145|         0.151|        0.32|   19|  2.0|   1.0|  0.0| 0.0|\n",
      "|  F|  0.56|    0.44|  0.14|      0.9285|        0.3825|         0.188|         0.3|   11|  2.0|   1.0|  0.0| 0.0|\n",
      "|  F|  0.58|    0.45| 0.185|      0.9955|        0.3945|         0.272|       0.285|   11|  2.0|   1.0|  0.0| 0.0|\n",
      "|  F| 0.615|    0.48| 0.165|      1.1615|         0.513|         0.301|       0.305|   10|  2.0|   1.0|  0.0| 0.0|\n",
      "|  F|  0.68|    0.56| 0.165|       1.639|        0.6055|        0.2805|        0.46|   15|  2.0|   1.0|  0.0| 0.0|\n",
      "|  I| 0.355|    0.28| 0.085|      0.2905|         0.095|        0.0395|       0.115|    7|  1.0|   0.0|  1.0| 0.0|\n",
      "|  I| 0.425|     0.3| 0.095|      0.3515|         0.141|        0.0775|        0.12|    8|  1.0|   0.0|  1.0| 0.0|\n",
      "|  M|  0.35|   0.265|  0.09|      0.2255|        0.0995|        0.0485|        0.07|    7|  0.0|   0.0|  2.0| 1.0|\n",
      "|  M| 0.365|   0.295|  0.08|      0.2555|         0.097|         0.043|         0.1|    7|  0.0|   0.0|  2.0| 1.0|\n",
      "|  M|  0.43|    0.35|  0.11|       0.406|        0.1675|         0.081|       0.135|   10|  0.0|   0.0|  2.0| 1.0|\n",
      "|  M|  0.44|   0.365| 0.125|       0.516|        0.2155|         0.114|       0.155|   10|  0.0|   0.0|  2.0| 1.0|\n",
      "|  M|  0.45|    0.32|   0.1|       0.381|        0.1705|         0.075|       0.115|    9|  0.0|   0.0|  2.0| 1.0|\n",
      "|  M| 0.455|   0.365| 0.095|       0.514|        0.2245|         0.101|        0.15|   15|  0.0|   0.0|  2.0| 1.0|\n",
      "+---+------+--------+------+------------+--------------+--------------+------------+-----+-----+------+-----+----+\n",
      "only showing top 20 rows\n",
      "\n"
     ]
    }
   ],
   "source": [
    "binary_mTrans = Binarizer(threshold = 1.5, inputCol='sex_M', outputCol='male')\n",
    "binary_mTrans.transform(indexer_mTrans.transform(binary_fTrans.transform(indexer_fTrans.transform(train)))).show(20)"
   ]
  },
  {
   "cell_type": "markdown",
   "id": "f95508fa-3091-444d-a0ba-8ce1539f549b",
   "metadata": {},
   "source": [
    "Now we have the dummy columns for 'female' and 'male' along with the implied column for 'infant'.\n",
    "\n",
    "```SQLTransformer()``` can be used to create, select, and name columns that will be used in the model.\n",
    "\n",
    "The initial dataset had the column 'rings' as the target to be used to determine age by adding 1.5 to the value. We can go ahead and make that transformation in the ```SQLTransform()``` function as well as adding a few interaction terms. Remember, an interaction term is when we combine two (or more) features to create a new feature that may be influential in fitting the model. Here, we'll combine two continuous and categorical features to create two new features - 'intact1' and 'intact2'"
   ]
  },
  {
   "cell_type": "code",
   "execution_count": 15,
   "id": "47b5183e-4547-4c30-9ce9-c41d95b979ca",
   "metadata": {},
   "outputs": [],
   "source": [
    "sqlTrans_lr = SQLTransformer(statement = '''SELECT length, diameter, height, whole_weight, shucked_weight, \\\n",
    "viscera_weight, shell_weight, rings+1.5 as label, male, female, whole_weight*male as intact1, length*female as intact2 \\\n",
    "FROM __THIS__''')"
   ]
  },
  {
   "cell_type": "code",
   "execution_count": 16,
   "id": "fb54e28a-b22d-4614-b0fb-c204564929b0",
   "metadata": {},
   "outputs": [
    {
     "name": "stdout",
     "output_type": "stream",
     "text": [
      "+------+--------+------+------------+--------------+--------------+------------+-----+----+------+-------+-------+\n",
      "|length|diameter|height|whole_weight|shucked_weight|viscera_weight|shell_weight|label|male|female|intact1|intact2|\n",
      "+------+--------+------+------------+--------------+--------------+------------+-----+----+------+-------+-------+\n",
      "|  0.44|    0.34|   0.1|       0.451|         0.188|         0.087|        0.13| 11.5| 0.0|   1.0|    0.0|   0.44|\n",
      "|  0.47|   0.355|   0.1|      0.4755|        0.1675|        0.0805|       0.185| 11.5| 0.0|   1.0|    0.0|   0.47|\n",
      "| 0.525|    0.38|  0.14|      0.6065|         0.194|        0.1475|        0.21| 15.5| 0.0|   1.0|    0.0|  0.525|\n",
      "|  0.53|   0.415|  0.15|      0.7775|         0.237|        0.1415|        0.33| 21.5| 0.0|   1.0|    0.0|   0.53|\n",
      "|  0.53|    0.42| 0.135|       0.677|        0.2565|        0.1415|        0.21| 10.5| 0.0|   1.0|    0.0|   0.53|\n",
      "| 0.535|   0.405| 0.145|      0.6845|        0.2725|         0.171|       0.205| 11.5| 0.0|   1.0|    0.0|  0.535|\n",
      "| 0.545|   0.425| 0.125|       0.768|         0.294|        0.1495|        0.26| 17.5| 0.0|   1.0|    0.0|  0.545|\n",
      "|  0.55|    0.44|  0.15|      0.8945|        0.3145|         0.151|        0.32| 20.5| 0.0|   1.0|    0.0|   0.55|\n",
      "|  0.56|    0.44|  0.14|      0.9285|        0.3825|         0.188|         0.3| 12.5| 0.0|   1.0|    0.0|   0.56|\n",
      "|  0.58|    0.45| 0.185|      0.9955|        0.3945|         0.272|       0.285| 12.5| 0.0|   1.0|    0.0|   0.58|\n",
      "| 0.615|    0.48| 0.165|      1.1615|         0.513|         0.301|       0.305| 11.5| 0.0|   1.0|    0.0|  0.615|\n",
      "|  0.68|    0.56| 0.165|       1.639|        0.6055|        0.2805|        0.46| 16.5| 0.0|   1.0|    0.0|   0.68|\n",
      "| 0.355|    0.28| 0.085|      0.2905|         0.095|        0.0395|       0.115|  8.5| 0.0|   0.0|    0.0|    0.0|\n",
      "| 0.425|     0.3| 0.095|      0.3515|         0.141|        0.0775|        0.12|  9.5| 0.0|   0.0|    0.0|    0.0|\n",
      "|  0.35|   0.265|  0.09|      0.2255|        0.0995|        0.0485|        0.07|  8.5| 1.0|   0.0| 0.2255|    0.0|\n",
      "| 0.365|   0.295|  0.08|      0.2555|         0.097|         0.043|         0.1|  8.5| 1.0|   0.0| 0.2555|    0.0|\n",
      "|  0.43|    0.35|  0.11|       0.406|        0.1675|         0.081|       0.135| 11.5| 1.0|   0.0|  0.406|    0.0|\n",
      "|  0.44|   0.365| 0.125|       0.516|        0.2155|         0.114|       0.155| 11.5| 1.0|   0.0|  0.516|    0.0|\n",
      "|  0.45|    0.32|   0.1|       0.381|        0.1705|         0.075|       0.115| 10.5| 1.0|   0.0|  0.381|    0.0|\n",
      "| 0.455|   0.365| 0.095|       0.514|        0.2245|         0.101|        0.15| 16.5| 1.0|   0.0|  0.514|    0.0|\n",
      "+------+--------+------+------------+--------------+--------------+------------+-----+----+------+-------+-------+\n",
      "only showing top 20 rows\n",
      "\n"
     ]
    }
   ],
   "source": [
    "sqlTrans_lr.transform(binary_mTrans.transform(indexer_mTrans.transform\\\n",
    "        (binary_fTrans.transform(indexer_fTrans.transform(train))))).show(20)"
   ]
  },
  {
   "cell_type": "markdown",
   "id": "d0e1115c-8ac3-4df2-82da-33c1b286d579",
   "metadata": {},
   "source": [
    "The last step in the data preparation phase is to take all of our features and add them to one column as a vector. This is the only input column the model will use in the ```.fit()``` method. We can use ```VectorAssembler()``` to accomplish this."
   ]
  },
  {
   "cell_type": "code",
   "execution_count": 17,
   "id": "097feee1-dc7d-43b2-ba01-651873d789a9",
   "metadata": {},
   "outputs": [],
   "source": [
    "assembler_lr = VectorAssembler(inputCols=['length', 'diameter', 'height', 'whole_weight', \\\n",
    "                'shucked_weight', 'viscera_weight', 'shell_weight', \\\n",
    "                'male', 'female', 'intact1', 'intact2'], outputCol='features', handleInvalid='keep')"
   ]
  },
  {
   "cell_type": "markdown",
   "id": "f622595f-02ad-4f03-8a64-d2eb5323657d",
   "metadata": {},
   "source": [
    "**Note** how we iteritively use ```.transform()``` over and over again on each of our successive methods to produce the desired dataframe. This will be used to create our ```Pipeline()``` in the model fitting."
   ]
  },
  {
   "cell_type": "code",
   "execution_count": 18,
   "id": "cc66d2f6-e391-46c9-b665-de4e906d9da4",
   "metadata": {},
   "outputs": [
    {
     "name": "stdout",
     "output_type": "stream",
     "text": [
      "+------+--------+------+------------+--------------+--------------+------------+-----+----+------+-------+-------+--------------------+\n",
      "|length|diameter|height|whole_weight|shucked_weight|viscera_weight|shell_weight|label|male|female|intact1|intact2|            features|\n",
      "+------+--------+------+------------+--------------+--------------+------------+-----+----+------+-------+-------+--------------------+\n",
      "|  0.44|    0.34|   0.1|       0.451|         0.188|         0.087|        0.13| 11.5| 0.0|   1.0|    0.0|   0.44|[0.44,0.34,0.1,0....|\n",
      "|  0.47|   0.355|   0.1|      0.4755|        0.1675|        0.0805|       0.185| 11.5| 0.0|   1.0|    0.0|   0.47|[0.47,0.355,0.1,0...|\n",
      "| 0.525|    0.38|  0.14|      0.6065|         0.194|        0.1475|        0.21| 15.5| 0.0|   1.0|    0.0|  0.525|[0.525,0.38,0.14,...|\n",
      "|  0.53|   0.415|  0.15|      0.7775|         0.237|        0.1415|        0.33| 21.5| 0.0|   1.0|    0.0|   0.53|[0.53,0.415,0.15,...|\n",
      "|  0.53|    0.42| 0.135|       0.677|        0.2565|        0.1415|        0.21| 10.5| 0.0|   1.0|    0.0|   0.53|[0.53,0.42,0.135,...|\n",
      "+------+--------+------+------------+--------------+--------------+------------+-----+----+------+-------+-------+--------------------+\n",
      "only showing top 5 rows\n",
      "\n"
     ]
    }
   ],
   "source": [
    "assembler_lr.transform(sqlTrans_lr.transform(binary_mTrans.transform\\\n",
    "            (indexer_mTrans.transform(binary_fTrans.transform\\\n",
    "            (indexer_fTrans.transform(train)))))).show(5)"
   ]
  },
  {
   "cell_type": "markdown",
   "id": "0bdd813f-9a3a-47c9-aff2-e658cb2fc522",
   "metadata": {},
   "source": [
    "Now that the data is ready to be fit, we can set up the cross validation function that will iterate through selected parameters and choose the optimal parameters for the fitted model.\n",
    "\n",
    "Here are the libraries we'll use."
   ]
  },
  {
   "cell_type": "code",
   "execution_count": 19,
   "id": "e4206fe5-d6b9-4b7d-8f06-65a2e9a914fe",
   "metadata": {},
   "outputs": [],
   "source": [
    "from pyspark.ml.regression import LinearRegression\n",
    "from pyspark.ml.tuning import CrossValidator, ParamGridBuilder\n",
    "from pyspark.ml.evaluation import RegressionEvaluator\n",
    "from pyspark.ml import Pipeline"
   ]
  },
  {
   "cell_type": "markdown",
   "id": "70e5885e-7df0-455a-93d3-1048c6729d9e",
   "metadata": {},
   "source": [
    "Now set up an instance for ```LinearRegression()``` that will be used in ```pipeline_lr``` and ```paramGrid_lr```.\n",
    "\n",
    "Use ```ParamGridBuilder()``` to set up the list of **alphas** (```regParam```) and **L1**'s (```elasticNetParam```) to be tested.\n",
    "\n",
    "```Pipeline()``` is a list of the transformations we used to prep the data for fitting. Start with the first transformation and end with the Linear Regression instance 'lr'.\n",
    "\n",
    "```CrossValidator()``` combines all these pieces into one object that can be used to fit the model. It also includes the argument ```evaluator=RegressionEvaluator```. This input specifies the metric to be used to measure the cross-validation folds. The default value is **RMSE**.\n",
    "\n",
    "**RMSE** (Root Mean Squared Error): The difference between the prediction and the actual value sqaured; then summed for all squared differences; from this sum the mean is calculated; the square root of the mean. Since the difference was squared in the beginning, taking the square root at the end converts the value back to the same units as the measurements. When comparing model training and performance, the lower the 'RMSE', the better the model."
   ]
  },
  {
   "cell_type": "code",
   "execution_count": 21,
   "id": "9da26674-ff7e-4bdc-9640-f5caf38b468d",
   "metadata": {},
   "outputs": [],
   "source": [
    "lr = LinearRegression()\n",
    "paramGrid_lr = ParamGridBuilder().addGrid(lr.regParam,[0, 0.01, 0.05, 0.1])\\\n",
    ".addGrid(lr.elasticNetParam,[0, .5, .75, .9, .95, 1])\\\n",
    ".build()\n",
    "pipeline_lr=Pipeline(stages=[indexer_fTrans, binary_fTrans, indexer_mTrans, \\\n",
    "                             binary_mTrans, sqlTrans_lr, assembler_lr, lr])\n",
    "crossval_lr=CrossValidator(estimator=pipeline_lr,\n",
    "                        estimatorParamMaps=paramGrid_lr,\n",
    "                        evaluator=RegressionEvaluator(),\n",
    "                        numFolds=5)"
   ]
  },
  {
   "cell_type": "markdown",
   "id": "619cc967-2b70-4a30-a45b-a76a41b020c6",
   "metadata": {},
   "source": [
    "Use the ```.fit()``` method on the training data to fit the model.\n",
    "\n",
    "Note that the train data is the same unchanged data from the initial test/train split. The **pipeline** will perform all the data transformations for us!"
   ]
  },
  {
   "cell_type": "code",
   "execution_count": null,
   "id": "1bf91cf5-073b-4b04-bc6f-12d14ccd7071",
   "metadata": {},
   "outputs": [],
   "source": [
    "cv_lr_Model=crossval_lr.fit(train)"
   ]
  },
  {
   "cell_type": "markdown",
   "id": "474e1e82-d05e-489a-abe8-670dfb1d65e4",
   "metadata": {},
   "source": [
    "Now we'll view the **RMSE** for each combination of alpha and L1."
   ]
  },
  {
   "cell_type": "code",
   "execution_count": 23,
   "id": "a0c5c380-304a-46d6-a285-08cdea6e4ffb",
   "metadata": {},
   "outputs": [],
   "source": [
    "my_list = []\n",
    "for i in range(len(paramGrid_lr)):\n",
    "    my_list.append([cv_lr_Model.avgMetrics[i], paramGrid_lr[i].values()])"
   ]
  },
  {
   "cell_type": "code",
   "execution_count": 24,
   "id": "5641a1f8-b79c-4b6b-9069-16517446d79e",
   "metadata": {},
   "outputs": [
    {
     "data": {
      "text/plain": [
       "[[2.240841778433401, dict_values([0.0, 0.0])],\n",
       " [2.2408417784333965, dict_values([0.0, 0.5])],\n",
       " [2.2408417784334054, dict_values([0.0, 0.75])],\n",
       " [2.2408417784334005, dict_values([0.0, 0.9])],\n",
       " [2.240841778433398, dict_values([0.0, 0.95])],\n",
       " [2.2408417784334005, dict_values([0.0, 1.0])],\n",
       " [2.25267676836313, dict_values([0.01, 0.0])],\n",
       " [2.260743591656917, dict_values([0.01, 0.5])],\n",
       " [2.266270937241732, dict_values([0.01, 0.75])],\n",
       " [2.27678870254163, dict_values([0.01, 0.9])],\n",
       " [2.2737135047268895, dict_values([0.01, 0.95])],\n",
       " [2.2783504660262612, dict_values([0.01, 1.0])],\n",
       " [2.2917163478500067, dict_values([0.05, 0.0])],\n",
       " [2.3148706086291506, dict_values([0.05, 0.5])],\n",
       " [2.3255559117430638, dict_values([0.05, 0.75])],\n",
       " [2.3320902239181533, dict_values([0.05, 0.9])],\n",
       " [2.3328185941148996, dict_values([0.05, 0.95])],\n",
       " [2.3335951639851147, dict_values([0.05, 1.0])],\n",
       " [2.3166678013918527, dict_values([0.1, 0.0])],\n",
       " [2.3481170694593, dict_values([0.1, 0.5])],\n",
       " [2.3599841777881876, dict_values([0.1, 0.75])],\n",
       " [2.3694213153679073, dict_values([0.1, 0.9])],\n",
       " [2.372945298759457, dict_values([0.1, 0.95])],\n",
       " [2.3767088510306147, dict_values([0.1, 1.0])]]"
      ]
     },
     "execution_count": 24,
     "metadata": {},
     "output_type": "execute_result"
    }
   ],
   "source": [
    "my_list"
   ]
  },
  {
   "cell_type": "markdown",
   "id": "b419c82f-1936-41b5-a85f-d1d87b715f91",
   "metadata": {},
   "source": [
    "It looks like the best parameters are **alpha**=0 and **L1**=0.75. However, if **alpha** is 0, then we have an **MLR** model. This makes sense looking at the output - all values for 'RMSE' for **alpha**=0 are equal up to 13 decimal points!\n",
    "\n",
    "So really, the best parameter is **alpha**=0 - an **MLR** model.\n",
    "\n",
    "Now we'll use this model to make predictions by using the ```transform()``` method on the model object. We can view a portion of the results to compare the predictions to the actual values ('labels' column)"
   ]
  },
  {
   "cell_type": "code",
   "execution_count": 25,
   "id": "368b0b3f-7a63-4052-adb7-b80d5353ea99",
   "metadata": {},
   "outputs": [
    {
     "name": "stdout",
     "output_type": "stream",
     "text": [
      "+------+--------+------+------------+--------------+--------------+------------+-----+----+------+-------+-------+--------------------+------------------+\n",
      "|length|diameter|height|whole_weight|shucked_weight|viscera_weight|shell_weight|label|male|female|intact1|intact2|            features|        prediction|\n",
      "+------+--------+------+------------+--------------+--------------+------------+-----+----+------+-------+-------+--------------------+------------------+\n",
      "|  0.55|   0.415| 0.135|      0.7635|         0.318|          0.21|         0.2| 10.5| 0.0|   1.0|    0.0|   0.55|[0.55,0.415,0.135...| 11.22553523529227|\n",
      "| 0.565|    0.44| 0.155|      0.9395|        0.4275|         0.214|        0.27| 13.5| 0.0|   1.0|    0.0|  0.565|[0.565,0.44,0.155...|11.755413465129166|\n",
      "|  0.33|   0.255|  0.08|       0.205|        0.0895|        0.0395|       0.055|  8.5| 0.0|   0.0|    0.0|    0.0|[0.33,0.255,0.08,...|  7.98469848282023|\n",
      "|  0.38|   0.275|   0.1|      0.2255|          0.08|         0.049|       0.085| 11.5| 0.0|   0.0|    0.0|    0.0|[0.38,0.275,0.1,0...|  8.88166067693163|\n",
      "| 0.355|    0.28| 0.095|      0.2455|        0.0955|         0.062|       0.075| 12.5| 1.0|   0.0| 0.2455|    0.0|[0.355,0.28,0.095...| 9.805748201213925|\n",
      "|  0.58|    0.47| 0.165|      0.9975|        0.3935|         0.242|        0.33| 11.5| 1.0|   0.0| 0.9975|    0.0|[0.58,0.47,0.165,...|13.596232357603352|\n",
      "|  0.45|   0.335| 0.105|       0.425|        0.1865|         0.091|       0.115| 10.5| 0.0|   1.0|    0.0|   0.45|[0.45,0.335,0.105...|10.805088219440952|\n",
      "|  0.45|   0.355| 0.105|      0.5225|         0.237|        0.1165|       0.145|  9.5| 0.0|   1.0|    0.0|   0.45|[0.45,0.355,0.105...|11.091756791866606|\n",
      "|  0.53|    0.41|  0.13|      0.6965|         0.302|        0.1935|         0.2| 11.5| 0.0|   1.0|    0.0|   0.53|[0.53,0.41,0.13,0...|11.151406590114103|\n",
      "| 0.575|   0.445| 0.135|       0.883|         0.381|        0.2035|        0.26| 12.5| 0.0|   1.0|    0.0|  0.575|[0.575,0.445,0.13...| 11.82263515234716|\n",
      "| 0.325|   0.245|  0.07|       0.161|        0.0755|        0.0255|       0.045|  7.5| 0.0|   0.0|    0.0|    0.0|[0.325,0.245,0.07...|   7.6614581663827|\n",
      "|  0.45|   0.345| 0.105|      0.4115|          0.18|        0.1125|       0.135|  8.5| 1.0|   0.0| 0.4115|    0.0|[0.45,0.345,0.105...|10.372290623543988|\n",
      "|  0.47|    0.37|  0.12|      0.5795|         0.293|         0.227|        0.14| 10.5| 1.0|   0.0| 0.5795|    0.0|[0.47,0.37,0.12,0...| 9.061848197405746|\n",
      "|  0.47|   0.385| 0.135|      0.5895|        0.2765|          0.12|        0.17|  9.5| 1.0|   0.0| 0.5895|    0.0|[0.47,0.385,0.135...|10.905031778450438|\n",
      "|   0.4|    0.32|  0.11|       0.353|        0.1405|        0.0985|         0.1|  9.5| 0.0|   1.0|    0.0|    0.4|[0.4,0.32,0.11,0....|11.278741463359118|\n",
      "| 0.565|    0.44|  0.16|       0.915|         0.354|        0.1935|        0.32| 13.5| 0.0|   1.0|    0.0|  0.565|[0.565,0.44,0.16,...|13.585076440794314|\n",
      "| 0.595|   0.465| 0.175|       1.115|        0.4015|         0.254|        0.39| 14.5| 1.0|   0.0|  1.115|    0.0|[0.595,0.465,0.17...|14.947633315508494|\n",
      "| 0.595|   0.475|  0.16|      1.3175|         0.408|         0.234|        0.58| 22.5| 1.0|   0.0| 1.3175|    0.0|[0.595,0.475,0.16...|18.509387343973454|\n",
      "| 0.625|   0.465|  0.14|       1.195|        0.4825|         0.205|         0.4| 14.5| 1.0|   0.0|  1.195|    0.0|[0.625,0.465,0.14...|14.341157791909062|\n",
      "|  0.47|    0.37|  0.13|      0.5225|         0.201|         0.133|       0.165|  8.5| 1.0|   0.0| 0.5225|    0.0|[0.47,0.37,0.13,0...|11.438562987804254|\n",
      "+------+--------+------+------------+--------------+--------------+------------+-----+----+------+-------+-------+--------------------+------------------+\n",
      "only showing top 20 rows\n",
      "\n"
     ]
    }
   ],
   "source": [
    "cv_lr_Model.transform(test).show(20)"
   ]
  },
  {
   "cell_type": "markdown",
   "id": "85b92542-a89b-44c8-8abd-20d6a94ca7e2",
   "metadata": {},
   "source": [
    "Finally, run ```RegressionEvaluator()``` with ```.evaluate()``` method to get an **RMSE** score on the test set.\n",
    "\n",
    "We'll change the metric to **mae** - 'mean absolute error'. This metric takes the sums up the absolute difference between each prediction and the label/actual value and then takes the average of that value."
   ]
  },
  {
   "cell_type": "code",
   "execution_count": 26,
   "id": "9b4d1c72-92ca-48a7-a9f9-257e4b11f10d",
   "metadata": {},
   "outputs": [
    {
     "data": {
      "text/plain": [
       "1.4557640125829179"
      ]
     },
     "execution_count": 26,
     "metadata": {},
     "output_type": "execute_result"
    }
   ],
   "source": [
    "RegressionEvaluator(metricName='mae').evaluate(cv_lr_Model.transform(test))"
   ]
  },
  {
   "cell_type": "markdown",
   "id": "fa50ddca-4cbc-45f7-8a4e-f2e3e182c917",
   "metadata": {},
   "source": [
    "# Random Forest"
   ]
  },
  {
   "cell_type": "markdown",
   "id": "69ca5912-2f08-43dd-9440-f6de96e9efef",
   "metadata": {},
   "source": [
    "The next model we'll look at is a **Random Forest**. Random Forest is an expansion of the Regression Tree model. In a Regression Tree model, the prediction space is split into regions and the predicted output is based on the average of observations within a region. The region split is based on values of the features - the model determines the most predominate features to split on and then may include subsequent splits based on other feature values. This is the same as interaction terms, so for tree models we do not need to include interaction features.\n",
    "\n",
    "**Random Forest** fit multiple trees (ensemble) and takes the average of the averages to use in prediction. This method reduces variance over an individual tree fit. Additionally, Random Forest performs random feature selection for each tree fit. By using a random subset of features for each tree fit, the model *reduces* the influence of really strong features which may introduce bias into the predictions.\n",
    "\n",
    "The parameters to consider in a Random Forest are the **depth** and **number of trees**. Depth is the number of splits or regions the tree has - too few and the model is too general; too many and the model is overfit. Number of trees is how many different tree fits the model makes - too few loses accuracy; too many is computationally intensive for both time and resources."
   ]
  },
  {
   "cell_type": "markdown",
   "id": "ba1c3e84-4f8a-4399-8de3-421491a7b505",
   "metadata": {},
   "source": [
    "We've already done a lot of the heavy lifting with our Regularized Regression model, so we'll just need to make a few tweaks to get the Random Forest model up and running.\n",
    "\n",
    "We'll keep the binary transformations for the 'sex' column but we'll need to update the ```SQLTransformer()``` object. Remember that trees automatically account for interactions, so we can remove those from our column selection."
   ]
  },
  {
   "cell_type": "code",
   "execution_count": 27,
   "id": "3ebbfab6-af3f-4e13-ad77-e396da6adb7b",
   "metadata": {},
   "outputs": [],
   "source": [
    "sqlTrans_rf = SQLTransformer(statement = '''SELECT length, diameter, height, whole_weight, shucked_weight, \\\n",
    "viscera_weight, shell_weight, rings+1.5 as label, male, female FROM __THIS__''')"
   ]
  },
  {
   "cell_type": "code",
   "execution_count": 28,
   "id": "d2d88d17-8c95-4963-b1d0-882391036889",
   "metadata": {},
   "outputs": [
    {
     "name": "stdout",
     "output_type": "stream",
     "text": [
      "+------+--------+------+------------+--------------+--------------+------------+-----+----+------+\n",
      "|length|diameter|height|whole_weight|shucked_weight|viscera_weight|shell_weight|label|male|female|\n",
      "+------+--------+------+------------+--------------+--------------+------------+-----+----+------+\n",
      "|  0.44|    0.34|   0.1|       0.451|         0.188|         0.087|        0.13| 11.5| 0.0|   1.0|\n",
      "|  0.47|   0.355|   0.1|      0.4755|        0.1675|        0.0805|       0.185| 11.5| 0.0|   1.0|\n",
      "| 0.525|    0.38|  0.14|      0.6065|         0.194|        0.1475|        0.21| 15.5| 0.0|   1.0|\n",
      "|  0.53|   0.415|  0.15|      0.7775|         0.237|        0.1415|        0.33| 21.5| 0.0|   1.0|\n",
      "|  0.53|    0.42| 0.135|       0.677|        0.2565|        0.1415|        0.21| 10.5| 0.0|   1.0|\n",
      "| 0.535|   0.405| 0.145|      0.6845|        0.2725|         0.171|       0.205| 11.5| 0.0|   1.0|\n",
      "| 0.545|   0.425| 0.125|       0.768|         0.294|        0.1495|        0.26| 17.5| 0.0|   1.0|\n",
      "|  0.55|    0.44|  0.15|      0.8945|        0.3145|         0.151|        0.32| 20.5| 0.0|   1.0|\n",
      "|  0.56|    0.44|  0.14|      0.9285|        0.3825|         0.188|         0.3| 12.5| 0.0|   1.0|\n",
      "|  0.58|    0.45| 0.185|      0.9955|        0.3945|         0.272|       0.285| 12.5| 0.0|   1.0|\n",
      "| 0.615|    0.48| 0.165|      1.1615|         0.513|         0.301|       0.305| 11.5| 0.0|   1.0|\n",
      "|  0.68|    0.56| 0.165|       1.639|        0.6055|        0.2805|        0.46| 16.5| 0.0|   1.0|\n",
      "| 0.355|    0.28| 0.085|      0.2905|         0.095|        0.0395|       0.115|  8.5| 0.0|   0.0|\n",
      "| 0.425|     0.3| 0.095|      0.3515|         0.141|        0.0775|        0.12|  9.5| 0.0|   0.0|\n",
      "|  0.35|   0.265|  0.09|      0.2255|        0.0995|        0.0485|        0.07|  8.5| 1.0|   0.0|\n",
      "| 0.365|   0.295|  0.08|      0.2555|         0.097|         0.043|         0.1|  8.5| 1.0|   0.0|\n",
      "|  0.43|    0.35|  0.11|       0.406|        0.1675|         0.081|       0.135| 11.5| 1.0|   0.0|\n",
      "|  0.44|   0.365| 0.125|       0.516|        0.2155|         0.114|       0.155| 11.5| 1.0|   0.0|\n",
      "|  0.45|    0.32|   0.1|       0.381|        0.1705|         0.075|       0.115| 10.5| 1.0|   0.0|\n",
      "| 0.455|   0.365| 0.095|       0.514|        0.2245|         0.101|        0.15| 16.5| 1.0|   0.0|\n",
      "+------+--------+------+------------+--------------+--------------+------------+-----+----+------+\n",
      "only showing top 20 rows\n",
      "\n"
     ]
    }
   ],
   "source": [
    "sqlTrans_rf.transform(binary_mTrans.transform(indexer_mTrans.transform\\\n",
    "            (binary_fTrans.transform(indexer_fTrans.transform(train))))).show(20)"
   ]
  },
  {
   "cell_type": "markdown",
   "id": "dc08ed13-0f96-4214-85ea-915b00fedbf2",
   "metadata": {},
   "source": [
    "We'll need to remove those interactions from the ```VectorAssembler()``` as well."
   ]
  },
  {
   "cell_type": "code",
   "execution_count": 29,
   "id": "3ab28fe2-be44-410a-a31a-3696b8d544bd",
   "metadata": {},
   "outputs": [],
   "source": [
    "assembler_rf = VectorAssembler(inputCols=['length', 'diameter', 'height', 'whole_weight', \\\n",
    "                'shucked_weight', 'viscera_weight', 'shell_weight', \\\n",
    "                'male', 'female'], outputCol='features', handleInvalid='keep')"
   ]
  },
  {
   "cell_type": "code",
   "execution_count": 30,
   "id": "b9f85258-6589-41af-a040-e503b032f6df",
   "metadata": {},
   "outputs": [
    {
     "name": "stdout",
     "output_type": "stream",
     "text": [
      "+------+--------+------+------------+--------------+--------------+------------+-----+----+------+--------------------+\n",
      "|length|diameter|height|whole_weight|shucked_weight|viscera_weight|shell_weight|label|male|female|            features|\n",
      "+------+--------+------+------------+--------------+--------------+------------+-----+----+------+--------------------+\n",
      "|  0.44|    0.34|   0.1|       0.451|         0.188|         0.087|        0.13| 11.5| 0.0|   1.0|[0.44,0.34,0.1,0....|\n",
      "|  0.47|   0.355|   0.1|      0.4755|        0.1675|        0.0805|       0.185| 11.5| 0.0|   1.0|[0.47,0.355,0.1,0...|\n",
      "| 0.525|    0.38|  0.14|      0.6065|         0.194|        0.1475|        0.21| 15.5| 0.0|   1.0|[0.525,0.38,0.14,...|\n",
      "|  0.53|   0.415|  0.15|      0.7775|         0.237|        0.1415|        0.33| 21.5| 0.0|   1.0|[0.53,0.415,0.15,...|\n",
      "|  0.53|    0.42| 0.135|       0.677|        0.2565|        0.1415|        0.21| 10.5| 0.0|   1.0|[0.53,0.42,0.135,...|\n",
      "| 0.535|   0.405| 0.145|      0.6845|        0.2725|         0.171|       0.205| 11.5| 0.0|   1.0|[0.535,0.405,0.14...|\n",
      "| 0.545|   0.425| 0.125|       0.768|         0.294|        0.1495|        0.26| 17.5| 0.0|   1.0|[0.545,0.425,0.12...|\n",
      "|  0.55|    0.44|  0.15|      0.8945|        0.3145|         0.151|        0.32| 20.5| 0.0|   1.0|[0.55,0.44,0.15,0...|\n",
      "|  0.56|    0.44|  0.14|      0.9285|        0.3825|         0.188|         0.3| 12.5| 0.0|   1.0|[0.56,0.44,0.14,0...|\n",
      "|  0.58|    0.45| 0.185|      0.9955|        0.3945|         0.272|       0.285| 12.5| 0.0|   1.0|[0.58,0.45,0.185,...|\n",
      "| 0.615|    0.48| 0.165|      1.1615|         0.513|         0.301|       0.305| 11.5| 0.0|   1.0|[0.615,0.48,0.165...|\n",
      "|  0.68|    0.56| 0.165|       1.639|        0.6055|        0.2805|        0.46| 16.5| 0.0|   1.0|[0.68,0.56,0.165,...|\n",
      "| 0.355|    0.28| 0.085|      0.2905|         0.095|        0.0395|       0.115|  8.5| 0.0|   0.0|[0.355,0.28,0.085...|\n",
      "| 0.425|     0.3| 0.095|      0.3515|         0.141|        0.0775|        0.12|  9.5| 0.0|   0.0|[0.425,0.3,0.095,...|\n",
      "|  0.35|   0.265|  0.09|      0.2255|        0.0995|        0.0485|        0.07|  8.5| 1.0|   0.0|[0.35,0.265,0.09,...|\n",
      "| 0.365|   0.295|  0.08|      0.2555|         0.097|         0.043|         0.1|  8.5| 1.0|   0.0|[0.365,0.295,0.08...|\n",
      "|  0.43|    0.35|  0.11|       0.406|        0.1675|         0.081|       0.135| 11.5| 1.0|   0.0|[0.43,0.35,0.11,0...|\n",
      "|  0.44|   0.365| 0.125|       0.516|        0.2155|         0.114|       0.155| 11.5| 1.0|   0.0|[0.44,0.365,0.125...|\n",
      "|  0.45|    0.32|   0.1|       0.381|        0.1705|         0.075|       0.115| 10.5| 1.0|   0.0|[0.45,0.32,0.1,0....|\n",
      "| 0.455|   0.365| 0.095|       0.514|        0.2245|         0.101|        0.15| 16.5| 1.0|   0.0|[0.455,0.365,0.09...|\n",
      "+------+--------+------+------------+--------------+--------------+------------+-----+----+------+--------------------+\n",
      "only showing top 20 rows\n",
      "\n"
     ]
    }
   ],
   "source": [
    "assembler_rf.transform(sqlTrans_rf.transform(binary_mTrans.transform\\\n",
    "                (indexer_mTrans.transform(binary_fTrans.transform\\\n",
    "                (indexer_fTrans.transform(train)))))).show(20)"
   ]
  },
  {
   "cell_type": "markdown",
   "id": "8993f635-1260-4239-97d4-885d0382ab20",
   "metadata": {},
   "source": [
    "Add the ```RandomForestRegressor``` library"
   ]
  },
  {
   "cell_type": "code",
   "execution_count": 31,
   "id": "822002ff-cc9f-49ad-b84e-3ceeadbd2e13",
   "metadata": {},
   "outputs": [],
   "source": [
    "from pyspark.ml.regression import RandomForestRegressor"
   ]
  },
  {
   "cell_type": "markdown",
   "id": "f7fdadcb-2b1b-45b4-a5f5-3073fbfd8105",
   "metadata": {},
   "source": [
    "Now set up a ```CrossValidator()``` object with updated model instance, paramGrids, and pipelines.\n",
    "\n",
    "In ```ParamGridBuilder()``` specify the number of trees to iterate through and the maximum depth used for each tree iteration. ```Pipeline()``` remains the same and ```RegressionEvaluator()``` defaults to **rmse**."
   ]
  },
  {
   "cell_type": "code",
   "execution_count": 32,
   "id": "35204680-a550-447d-9e70-34fa34ba5c6c",
   "metadata": {},
   "outputs": [],
   "source": [
    "rf = RandomForestRegressor(labelCol='label', featuresCol='features')\n",
    "paramGrid_rf = ParamGridBuilder().addGrid(rf.numTrees,[10, 15, 20])\\\n",
    ".addGrid(rf.maxDepth,[1, 5, 10])\\\n",
    ".build()\n",
    "pipeline_rf=Pipeline(stages=[indexer_fTrans, binary_fTrans, indexer_mTrans, binary_mTrans, \\\n",
    "            sqlTrans_rf, assembler_rf, rf])\n",
    "crossval_rf=CrossValidator(estimator=pipeline_rf,\n",
    "                        estimatorParamMaps=paramGrid_rf,\n",
    "                        evaluator=RegressionEvaluator(),\n",
    "                        numFolds=3)"
   ]
  },
  {
   "cell_type": "markdown",
   "id": "c94ffa0d-d391-4db2-a119-a16582d7ea1b",
   "metadata": {},
   "source": [
    "Fit the model."
   ]
  },
  {
   "cell_type": "code",
   "execution_count": null,
   "id": "ce9a87e0-2ed7-4e84-8318-7d0ad43d01ca",
   "metadata": {},
   "outputs": [],
   "source": [
    "cv_rf_Model = crossval_rf.fit(train)"
   ]
  },
  {
   "cell_type": "markdown",
   "id": "598323f0-25a5-48e7-9020-8eb0011db832",
   "metadata": {},
   "source": [
    "Some results we can get from the fitted model include the optimal number of trees and features used."
   ]
  },
  {
   "cell_type": "code",
   "execution_count": 34,
   "id": "e1980a67-abe9-4307-8d54-075178dd420e",
   "metadata": {},
   "outputs": [
    {
     "data": {
      "text/plain": [
       "RandomForestRegressionModel: uid=RandomForestRegressor_bcb2c782ae5e, numTrees=20, numFeatures=9"
      ]
     },
     "execution_count": 34,
     "metadata": {},
     "output_type": "execute_result"
    }
   ],
   "source": [
    "cv_rf_Model.bestModel.stages[-1]"
   ]
  },
  {
   "cell_type": "markdown",
   "id": "0da544ba-199b-4948-8997-4119ace7c127",
   "metadata": {},
   "source": [
    "As well as a breakdown of weighted importance of each feature."
   ]
  },
  {
   "cell_type": "code",
   "execution_count": 35,
   "id": "ce09a661-ee68-4fec-baa5-feb41cb76380",
   "metadata": {},
   "outputs": [
    {
     "data": {
      "text/plain": [
       "SparseVector(9, {0: 0.0592, 1: 0.1005, 2: 0.1508, 3: 0.1028, 4: 0.1195, 5: 0.117, 6: 0.3162, 7: 0.0161, 8: 0.0178})"
      ]
     },
     "execution_count": 35,
     "metadata": {},
     "output_type": "execute_result"
    }
   ],
   "source": [
    "cv_rf_Model.bestModel.stages[-1].featureImportances"
   ]
  },
  {
   "cell_type": "markdown",
   "id": "5390e8c6-1536-48b2-9625-9c0c01e469b8",
   "metadata": {},
   "source": [
    "Run predictions on the test set."
   ]
  },
  {
   "cell_type": "code",
   "execution_count": 36,
   "id": "ba614ed6-49a8-41e5-8d36-99b4aea5fb49",
   "metadata": {},
   "outputs": [
    {
     "name": "stdout",
     "output_type": "stream",
     "text": [
      "+------+--------+------+------------+--------------+--------------+------------+-----+----+------+--------------------+------------------+\n",
      "|length|diameter|height|whole_weight|shucked_weight|viscera_weight|shell_weight|label|male|female|            features|        prediction|\n",
      "+------+--------+------+------------+--------------+--------------+------------+-----+----+------+--------------------+------------------+\n",
      "|  0.55|   0.415| 0.135|      0.7635|         0.318|          0.21|         0.2| 10.5| 0.0|   1.0|[0.55,0.415,0.135...|11.346372938355417|\n",
      "| 0.565|    0.44| 0.155|      0.9395|        0.4275|         0.214|        0.27| 13.5| 0.0|   1.0|[0.565,0.44,0.155...|11.643525221962573|\n",
      "|  0.33|   0.255|  0.08|       0.205|        0.0895|        0.0395|       0.055|  8.5| 0.0|   0.0|[0.33,0.255,0.08,...|  8.03042034870752|\n",
      "|  0.38|   0.275|   0.1|      0.2255|          0.08|         0.049|       0.085| 11.5| 0.0|   0.0|[0.38,0.275,0.1,0...| 9.078998983157696|\n",
      "| 0.355|    0.28| 0.095|      0.2455|        0.0955|         0.062|       0.075| 12.5| 1.0|   0.0|[0.355,0.28,0.095...| 9.926147810814713|\n",
      "|  0.58|    0.47| 0.165|      0.9975|        0.3935|         0.242|        0.33| 11.5| 1.0|   0.0|[0.58,0.47,0.165,...|13.698837038894334|\n",
      "|  0.45|   0.335| 0.105|       0.425|        0.1865|         0.091|       0.115| 10.5| 0.0|   1.0|[0.45,0.335,0.105...|10.260243898828032|\n",
      "|  0.45|   0.355| 0.105|      0.5225|         0.237|        0.1165|       0.145|  9.5| 0.0|   1.0|[0.45,0.355,0.105...|10.082924945655863|\n",
      "|  0.53|    0.41|  0.13|      0.6965|         0.302|        0.1935|         0.2| 11.5| 0.0|   1.0|[0.53,0.41,0.13,0...|11.067671425134135|\n",
      "| 0.575|   0.445| 0.135|       0.883|         0.381|        0.2035|        0.26| 12.5| 0.0|   1.0|[0.575,0.445,0.13...|11.974666974907192|\n",
      "| 0.325|   0.245|  0.07|       0.161|        0.0755|        0.0255|       0.045|  7.5| 0.0|   0.0|[0.325,0.245,0.07...| 7.796670587669377|\n",
      "|  0.45|   0.345| 0.105|      0.4115|          0.18|        0.1125|       0.135|  8.5| 1.0|   0.0|[0.45,0.345,0.105...|  9.98795734947989|\n",
      "|  0.47|    0.37|  0.12|      0.5795|         0.293|         0.227|        0.14| 10.5| 1.0|   0.0|[0.47,0.37,0.12,0...| 9.934745597102477|\n",
      "|  0.47|   0.385| 0.135|      0.5895|        0.2765|          0.12|        0.17|  9.5| 1.0|   0.0|[0.47,0.385,0.135...|10.645618406037295|\n",
      "|   0.4|    0.32|  0.11|       0.353|        0.1405|        0.0985|         0.1|  9.5| 0.0|   1.0|[0.4,0.32,0.11,0....|11.386556963738569|\n",
      "| 0.565|    0.44|  0.16|       0.915|         0.354|        0.1935|        0.32| 13.5| 0.0|   1.0|[0.565,0.44,0.16,...| 13.06778145042784|\n",
      "| 0.595|   0.465| 0.175|       1.115|        0.4015|         0.254|        0.39| 14.5| 1.0|   0.0|[0.595,0.465,0.17...|16.016691012532444|\n",
      "| 0.595|   0.475|  0.16|      1.3175|         0.408|         0.234|        0.58| 22.5| 1.0|   0.0|[0.595,0.475,0.16...|14.875492048363208|\n",
      "| 0.625|   0.465|  0.14|       1.195|        0.4825|         0.205|         0.4| 14.5| 1.0|   0.0|[0.625,0.465,0.14...|13.806398348202961|\n",
      "|  0.47|    0.37|  0.13|      0.5225|         0.201|         0.133|       0.165|  8.5| 1.0|   0.0|[0.47,0.37,0.13,0...|11.906215392037492|\n",
      "+------+--------+------+------------+--------------+--------------+------------+-----+----+------+--------------------+------------------+\n",
      "only showing top 20 rows\n",
      "\n"
     ]
    }
   ],
   "source": [
    "cv_rf_Model.transform(test).show(20)"
   ]
  },
  {
   "cell_type": "markdown",
   "id": "30a9bdfc-69d5-46b8-bb6f-c7ec0e918d81",
   "metadata": {},
   "source": [
    "Calculate the performance of the model to compare with our previous model. "
   ]
  },
  {
   "cell_type": "code",
   "execution_count": 37,
   "id": "e652191f-289b-49a1-922d-2b3ddd637660",
   "metadata": {},
   "outputs": [
    {
     "data": {
      "text/plain": [
       "1.4486161589442321"
      ]
     },
     "execution_count": 37,
     "metadata": {},
     "output_type": "execute_result"
    }
   ],
   "source": [
    "RegressionEvaluator(metricName='mae').evaluate(cv_rf_Model.transform(test))"
   ]
  },
  {
   "cell_type": "markdown",
   "id": "f0b3a81d-a80a-4f08-afaa-241acf73c662",
   "metadata": {},
   "source": [
    "# Gradient Boosting"
   ]
  },
  {
   "cell_type": "markdown",
   "id": "b496e31e-53bc-406c-9a5c-7ae5c1a2259a",
   "metadata": {},
   "source": [
    "Gradient Boosting is another ensemble method based on Regression Trees. As the name ensemble implies, it fits multiple regression trees but instead of taking an average of the results, as Random Forest does, Gradient Boosting takes the residuals of the tree fit and then fits another tree to the residuals and then repeats this pattern for a given number of times. The model is based on the sum of all the trees. The idea is that the first trees are very loose - small number of leaves and that each successive tree gradually increases leaves. The rate of increase is the learning rate and it becomes an additional parameter to be tested when fitting a Gradient Boosted Tree."
   ]
  },
  {
   "cell_type": "code",
   "execution_count": 38,
   "id": "2e2081d6-4503-4b2b-8bda-542e71d4866b",
   "metadata": {},
   "outputs": [],
   "source": [
    "from pyspark.ml.regression import GBTRegressor\n",
    "from pyspark.ml.feature import Normalizer"
   ]
  },
  {
   "cell_type": "markdown",
   "id": "737154a4-fa0e-4472-9b9c-8d238b1af2d6",
   "metadata": {},
   "source": [
    "Here we're going to try out the ```pyspark``` feature ```Normalizer()```. This will normalize all of the feature vectors in the column 'features.'\n",
    "\n",
    "Except for adding this 'Normalizer' to the end of our data prep, our data pipeline will remain exactly the same as it was for the Random Forest model."
   ]
  },
  {
   "cell_type": "code",
   "execution_count": 39,
   "id": "b6d44da8-42fa-4d75-9ada-94f70e05493b",
   "metadata": {},
   "outputs": [
    {
     "name": "stdout",
     "output_type": "stream",
     "text": [
      "+------+--------+------+------------+--------------+--------------+------------+-----+----+------+--------------------+--------------------+\n",
      "|length|diameter|height|whole_weight|shucked_weight|viscera_weight|shell_weight|label|male|female|            features|       features_norm|\n",
      "+------+--------+------+------------+--------------+--------------+------------+-----+----+------+--------------------+--------------------+\n",
      "|  0.44|    0.34|   0.1|       0.451|         0.188|         0.087|        0.13| 11.5| 0.0|   1.0|[0.44,0.34,0.1,0....|[0.16081871345029...|\n",
      "|  0.47|   0.355|   0.1|      0.4755|        0.1675|        0.0805|       0.185| 11.5| 0.0|   1.0|[0.47,0.355,0.1,0...|[0.16587259572966...|\n",
      "| 0.525|    0.38|  0.14|      0.6065|         0.194|        0.1475|        0.21| 15.5| 0.0|   1.0|[0.525,0.38,0.14,...|[0.16390883546674...|\n",
      "|  0.53|   0.415|  0.15|      0.7775|         0.237|        0.1415|        0.33| 21.5| 0.0|   1.0|[0.53,0.415,0.15,...|[0.14800335101926...|\n",
      "|  0.53|    0.42| 0.135|       0.677|        0.2565|        0.1415|        0.21| 10.5| 0.0|   1.0|[0.53,0.42,0.135,...|[0.15727002967359...|\n",
      "| 0.535|   0.405| 0.145|      0.6845|        0.2725|         0.171|       0.205| 11.5| 0.0|   1.0|[0.535,0.405,0.14...|[0.15652428320655...|\n",
      "| 0.545|   0.425| 0.125|       0.768|         0.294|        0.1495|        0.26| 17.5| 0.0|   1.0|[0.545,0.425,0.12...|[0.15281087901303...|\n",
      "|  0.55|    0.44|  0.15|      0.8945|        0.3145|         0.151|        0.32| 20.5| 0.0|   1.0|[0.55,0.44,0.15,0...|[0.14397905759162...|\n",
      "|  0.56|    0.44|  0.14|      0.9285|        0.3825|         0.188|         0.3| 12.5| 0.0|   1.0|[0.56,0.44,0.14,0...|[0.14216806296014...|\n",
      "|  0.58|    0.45| 0.185|      0.9955|        0.3945|         0.272|       0.285| 12.5| 0.0|   1.0|[0.58,0.45,0.185,...|[0.13935607880826...|\n",
      "| 0.615|    0.48| 0.165|      1.1615|         0.513|         0.301|       0.305| 11.5| 0.0|   1.0|[0.615,0.48,0.165...|[0.13544763792533...|\n",
      "|  0.68|    0.56| 0.165|       1.639|        0.6055|        0.2805|        0.46| 16.5| 0.0|   1.0|[0.68,0.56,0.165,...|[0.12615955473098...|\n",
      "| 0.355|    0.28| 0.085|      0.2905|         0.095|        0.0395|       0.115|  8.5| 0.0|   0.0|[0.355,0.28,0.085...|[0.28174603174603...|\n",
      "| 0.425|     0.3| 0.095|      0.3515|         0.141|        0.0775|        0.12|  9.5| 0.0|   0.0|[0.425,0.3,0.095,...|[0.28145695364238...|\n",
      "|  0.35|   0.265|  0.09|      0.2255|        0.0995|        0.0485|        0.07|  8.5| 1.0|   0.0|[0.35,0.265,0.09,...|[0.16290435187340...|\n",
      "| 0.365|   0.295|  0.08|      0.2555|         0.097|         0.043|         0.1|  8.5| 1.0|   0.0|[0.365,0.295,0.08...|[0.16327443524938...|\n",
      "|  0.43|    0.35|  0.11|       0.406|        0.1675|         0.081|       0.135| 11.5| 1.0|   0.0|[0.43,0.35,0.11,0...|[0.16047770106363...|\n",
      "|  0.44|   0.365| 0.125|       0.516|        0.2155|         0.114|       0.155| 11.5| 1.0|   0.0|[0.44,0.365,0.125...|[0.15014502644599...|\n",
      "|  0.45|    0.32|   0.1|       0.381|        0.1705|         0.075|       0.115| 10.5| 1.0|   0.0|[0.45,0.32,0.1,0....|[0.17231476163124...|\n",
      "| 0.455|   0.365| 0.095|       0.514|        0.2245|         0.101|        0.15| 16.5| 1.0|   0.0|[0.455,0.365,0.09...|[0.15665346875537...|\n",
      "+------+--------+------+------------+--------------+--------------+------------+-----+----+------+--------------------+--------------------+\n",
      "only showing top 20 rows\n",
      "\n"
     ]
    }
   ],
   "source": [
    "normalizer = Normalizer(inputCol=\"features\", outputCol=\"features_norm\", p=1.0)\n",
    "normalizer.transform(assembler_rf.transform(sqlTrans_rf.transform(binary_mTrans.transform(indexer_mTrans.transform \\\n",
    "                    (binary_fTrans.transform(indexer_fTrans.transform(train))))))).show(20)"
   ]
  },
  {
   "cell_type": "markdown",
   "id": "a6cf18a6-fd94-41a2-ba8a-37c6ae708803",
   "metadata": {},
   "source": [
    "Set up the CrossValidator() object with updated model instance, paramGrids, and pipelines. Note that the features column to be used in building the model has been updated to the normalized features column ('features_norm').\n",
    "\n",
    "In ParamGridBuilder() specify the number of trees to iterate through (maxIter), the maximum depth used for each tree iteration (maxDepth), and the learning rate (stepSize).\n",
    "\n",
    "Also note 'normalizer' added to the end of the pipeline."
   ]
  },
  {
   "cell_type": "code",
   "execution_count": 40,
   "id": "27ae49ea-d0a2-4335-ae50-dd05a14de0b4",
   "metadata": {},
   "outputs": [],
   "source": [
    "gb = GBTRegressor(labelCol='label', featuresCol='features_norm')\n",
    "paramGrid_gb = ParamGridBuilder() \\\n",
    ".addGrid(gb.maxIter,[10, 15, 20])\\\n",
    ".addGrid(gb.maxDepth,[1, 5, 8])\\\n",
    ".addGrid(gb.stepSize, [0.1, 0.01])\\\n",
    ".build()\n",
    "pipeline_gb = Pipeline(stages=[indexer_fTrans, binary_fTrans, indexer_mTrans, \\\n",
    "                binary_mTrans, sqlTrans_rf, assembler_rf, normalizer, gb])\n",
    "crossval_gb = CrossValidator(estimator=pipeline_gb,\n",
    "                        estimatorParamMaps=paramGrid_gb,\n",
    "                        evaluator=RegressionEvaluator(),\n",
    "                        numFolds=3)"
   ]
  },
  {
   "cell_type": "markdown",
   "id": "00a54ee7-4b1d-4f6c-846f-68672b3b80ff",
   "metadata": {},
   "source": [
    "fit the model on the training set"
   ]
  },
  {
   "cell_type": "code",
   "execution_count": 41,
   "id": "7ed8dabf-06af-445a-bfa1-348ba5cec08a",
   "metadata": {},
   "outputs": [
    {
     "name": "stderr",
     "output_type": "stream",
     "text": [
      "                                                                                \r"
     ]
    }
   ],
   "source": [
    "cv_gb_Model = crossval_gb.fit(train)"
   ]
  },
  {
   "cell_type": "markdown",
   "id": "b2b801f2-44fd-45dc-8c51-3cbf4c0d2f94",
   "metadata": {},
   "source": [
    "We can use the same attributes as in Random Forest to view the parameter results"
   ]
  },
  {
   "cell_type": "code",
   "execution_count": 42,
   "id": "7b379f0c-cfb1-42a1-be58-cffe8135ccc0",
   "metadata": {},
   "outputs": [
    {
     "data": {
      "text/plain": [
       "GBTRegressionModel: uid=GBTRegressor_e939eda97a25, numTrees=10, numFeatures=9"
      ]
     },
     "execution_count": 42,
     "metadata": {},
     "output_type": "execute_result"
    }
   ],
   "source": [
    "cv_gb_Model.bestModel.stages[-1]"
   ]
  },
  {
   "cell_type": "markdown",
   "id": "00fd08fd-ad7f-42ff-984f-bb840793b772",
   "metadata": {},
   "source": [
    "and feature importances"
   ]
  },
  {
   "cell_type": "code",
   "execution_count": 43,
   "id": "eadd920d-758a-4209-88a6-39c9e7609135",
   "metadata": {},
   "outputs": [
    {
     "data": {
      "text/plain": [
       "SparseVector(9, {0: 0.2179, 1: 0.0696, 2: 0.048, 3: 0.1221, 4: 0.1815, 5: 0.092, 6: 0.234, 7: 0.0092, 8: 0.0257})"
      ]
     },
     "execution_count": 43,
     "metadata": {},
     "output_type": "execute_result"
    }
   ],
   "source": [
    "cv_gb_Model.bestModel.stages[-1].featureImportances"
   ]
  },
  {
   "cell_type": "markdown",
   "id": "1edcf500-9001-4f9c-acd7-8c250d87c32f",
   "metadata": {},
   "source": [
    "Run predictions on the test set..."
   ]
  },
  {
   "cell_type": "code",
   "execution_count": 44,
   "id": "b535d86a-b9e4-4e81-a309-b85a13fb7325",
   "metadata": {},
   "outputs": [
    {
     "name": "stdout",
     "output_type": "stream",
     "text": [
      "+------+--------+------+------------+--------------+--------------+------------+-----+----+------+--------------------+--------------------+------------------+\n",
      "|length|diameter|height|whole_weight|shucked_weight|viscera_weight|shell_weight|label|male|female|            features|       features_norm|        prediction|\n",
      "+------+--------+------+------------+--------------+--------------+------------+-----+----+------+--------------------+--------------------+------------------+\n",
      "|  0.55|   0.415| 0.135|      0.7635|         0.318|          0.21|         0.2| 10.5| 0.0|   1.0|[0.55,0.415,0.135...|[0.15313935681470...|11.444813516423684|\n",
      "| 0.565|    0.44| 0.155|      0.9395|        0.4275|         0.214|        0.27| 13.5| 0.0|   1.0|[0.565,0.44,0.155...|[0.14086262777362...|11.528288359204032|\n",
      "|  0.33|   0.255|  0.08|       0.205|        0.0895|        0.0395|       0.055|  8.5| 0.0|   0.0|[0.33,0.255,0.08,...|[0.31309297912713...|  7.96364266726127|\n",
      "|  0.38|   0.275|   0.1|      0.2255|          0.08|         0.049|       0.085| 11.5| 0.0|   0.0|[0.38,0.275,0.1,0...|[0.31812473838426...| 9.528435442087654|\n",
      "| 0.355|    0.28| 0.095|      0.2455|        0.0955|         0.062|       0.075| 12.5| 1.0|   0.0|[0.355,0.28,0.095...|[0.16077898550724...| 10.41751661649438|\n",
      "|  0.58|    0.47| 0.165|      0.9975|        0.3935|         0.242|        0.33| 11.5| 1.0|   0.0|[0.58,0.47,0.165,...|[0.13882240306366...| 13.77226146041846|\n",
      "|  0.45|   0.335| 0.105|       0.425|        0.1865|         0.091|       0.115| 10.5| 0.0|   1.0|[0.45,0.335,0.105...|[0.16620498614958...|10.003905976694167|\n",
      "|  0.45|   0.355| 0.105|      0.5225|         0.237|        0.1165|       0.145|  9.5| 0.0|   1.0|[0.45,0.355,0.105...|[0.15353121801432...| 11.24876441734765|\n",
      "|  0.53|    0.41|  0.13|      0.6965|         0.302|        0.1935|         0.2| 11.5| 0.0|   1.0|[0.53,0.41,0.13,0...|[0.15309069901790...|13.678079708891755|\n",
      "| 0.575|   0.445| 0.135|       0.883|         0.381|        0.2035|        0.26| 12.5| 0.0|   1.0|[0.575,0.445,0.13...|[0.14810045074050...|11.301628437514072|\n",
      "| 0.325|   0.245|  0.07|       0.161|        0.0755|        0.0255|       0.045|  7.5| 0.0|   0.0|[0.325,0.245,0.07...|[0.34318901795142...|  7.96364266726127|\n",
      "|  0.45|   0.345| 0.105|      0.4115|          0.18|        0.1125|       0.135|  8.5| 1.0|   0.0|[0.45,0.345,0.105...|[0.16429353778751...|11.251103762125203|\n",
      "|  0.47|    0.37|  0.12|      0.5795|         0.293|         0.227|        0.14| 10.5| 1.0|   0.0|[0.47,0.37,0.12,0...|[0.14689795280512...|10.679361532377115|\n",
      "|  0.47|   0.385| 0.135|      0.5895|        0.2765|          0.12|        0.17|  9.5| 1.0|   0.0|[0.47,0.385,0.135...|[0.14939605848696...|11.565975957333116|\n",
      "|   0.4|    0.32|  0.11|       0.353|        0.1405|        0.0985|         0.1|  9.5| 0.0|   1.0|[0.4,0.32,0.11,0....|[0.15860428231562...| 10.67468287310939|\n",
      "| 0.565|    0.44|  0.16|       0.915|         0.354|        0.1935|        0.32| 13.5| 0.0|   1.0|[0.565,0.44,0.16,...|[0.14312856238125...|14.622153532158814|\n",
      "| 0.595|   0.465| 0.175|       1.115|        0.4015|         0.254|        0.39| 14.5| 1.0|   0.0|[0.595,0.465,0.17...|[0.13536571493572...| 15.82818130997043|\n",
      "| 0.595|   0.475|  0.16|      1.3175|         0.408|         0.234|        0.58| 22.5| 1.0|   0.0|[0.595,0.475,0.16...|[0.12475102211971...| 17.29589280503256|\n",
      "| 0.625|   0.465|  0.14|       1.195|        0.4825|         0.205|         0.4| 14.5| 1.0|   0.0|[0.625,0.465,0.14...|[0.13850415512465...|12.679631535880155|\n",
      "|  0.47|    0.37|  0.13|      0.5225|         0.201|         0.133|       0.165|  8.5| 1.0|   0.0|[0.47,0.37,0.13,0...|[0.15711181681430...|11.745754600621474|\n",
      "+------+--------+------+------------+--------------+--------------+------------+-----+----+------+--------------------+--------------------+------------------+\n",
      "only showing top 20 rows\n",
      "\n"
     ]
    }
   ],
   "source": [
    "cv_gb_Model.transform(test).show(20)"
   ]
  },
  {
   "cell_type": "markdown",
   "id": "a7adeba1-d6a5-44b6-9bca-4cf3a1bc2606",
   "metadata": {},
   "source": [
    "and calculate the **mae** to compare with the other models."
   ]
  },
  {
   "cell_type": "code",
   "execution_count": 45,
   "id": "a592401b-6842-4e15-814d-c1627cd9bf0e",
   "metadata": {},
   "outputs": [
    {
     "data": {
      "text/plain": [
       "1.4427118816091002"
      ]
     },
     "execution_count": 45,
     "metadata": {},
     "output_type": "execute_result"
    }
   ],
   "source": [
    "RegressionEvaluator(metricName='mae').evaluate(cv_gb_Model.transform(test))"
   ]
  },
  {
   "cell_type": "markdown",
   "id": "138d75a6-e5b3-4867-829b-088066d414f0",
   "metadata": {},
   "source": [
    "All three results are pretty close, but using **mae** as the metric, it looks like the best performing model on the test set was **gradient boosting**!"
   ]
  },
  {
   "cell_type": "code",
   "execution_count": null,
   "id": "b41c5ac9-1502-4e54-a93f-88e7cf3863b3",
   "metadata": {},
   "outputs": [],
   "source": []
  }
 ],
 "metadata": {
  "kernelspec": {
   "display_name": "pySpark",
   "language": "python",
   "name": "pyspark"
  },
  "language_info": {
   "codemirror_mode": {
    "name": "ipython",
    "version": 3
   },
   "file_extension": ".py",
   "mimetype": "text/x-python",
   "name": "python",
   "nbconvert_exporter": "python",
   "pygments_lexer": "ipython3",
   "version": "3.9.15"
  }
 },
 "nbformat": 4,
 "nbformat_minor": 5
}
