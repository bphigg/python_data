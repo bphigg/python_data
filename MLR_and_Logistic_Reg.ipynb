{
  "nbformat": 4,
  "nbformat_minor": 0,
  "metadata": {
    "colab": {
      "provenance": []
    },
    "kernelspec": {
      "name": "python3",
      "display_name": "Python 3"
    },
    "language_info": {
      "name": "python"
    }
  },
  "cells": [
    {
      "cell_type": "markdown",
      "source": [
        "# MLR and Logistic Regression with Python\n",
        "brian higginbotham"
      ],
      "metadata": {
        "id": "ri00AAFZKM_E"
      }
    },
    {
      "cell_type": "markdown",
      "source": [
        "# Introduction"
      ],
      "metadata": {
        "id": "HUMOyPuygknk"
      }
    },
    {
      "cell_type": "markdown",
      "source": [
        "In this notebook, we will practice fitting **MLR** and **Logistic Regression** models using the [wine quality dataset](https://archive.ics.uci.edu/dataset/186/wine+quality) from the Machine Learning Repository. We will first fit four different types of linear regression models to predict the quantitative or continuous response **```alchohol```** and compare their performance. Then we will fit four different logistic models to predict the categorical response **```type```** and compare their performance.\n",
        "\n",
        "To begin with, let's load in all the libraries we will need."
      ],
      "metadata": {
        "id": "fRz06GIPgpWd"
      }
    },
    {
      "cell_type": "code",
      "execution_count": 1,
      "metadata": {
        "id": "nEN5du3ctgGA"
      },
      "outputs": [],
      "source": [
        "import pandas as pd\n",
        "import numpy as np\n",
        "from sklearn.model_selection import train_test_split, cross_validate\n",
        "from sklearn.metrics import mean_squared_error, mean_absolute_error, log_loss, accuracy_score\n",
        "from sklearn.linear_model import LinearRegression, LassoCV, Lasso, Ridge, RidgeCV, ElasticNet, ElasticNetCV, LogisticRegression, LogisticRegressionCV\n",
        "from sklearn.preprocessing import PolynomialFeatures"
      ]
    },
    {
      "cell_type": "markdown",
      "source": [
        "# Data Prep"
      ],
      "metadata": {
        "id": "Qps63MKOts1j"
      }
    },
    {
      "cell_type": "markdown",
      "source": [
        "Our dataset has two separate CSV files - one for red wines and one for white wines. We will read in each file separately, add a categorical variable denoting the wine type, and the concat the two data frames into a single data frame."
      ],
      "metadata": {
        "id": "kOsn-Tc8ofwN"
      }
    },
    {
      "cell_type": "code",
      "source": [
        "red = pd.read_csv(\"winequality-red.csv\", delimiter=';')\n",
        "red['type'] = 'red'"
      ],
      "metadata": {
        "id": "7T-a8rmQt1sU"
      },
      "execution_count": 18,
      "outputs": []
    },
    {
      "cell_type": "code",
      "source": [
        "white = pd.read_csv(\"winequality-white.csv\", delimiter=';')\n",
        "white['type']='white'"
      ],
      "metadata": {
        "id": "h32Hgc9Uvj7x"
      },
      "execution_count": 19,
      "outputs": []
    },
    {
      "cell_type": "code",
      "source": [
        "wine_data = pd.concat([red, white], ignore_index=True)\n",
        "# set ignore_index to True to write a new index for the data frame, otherwise, the original indexing will stay in place causing duplicate\n",
        "# indexing values from the red and white data sets."
      ],
      "metadata": {
        "id": "-JgloMt6v5k6"
      },
      "execution_count": 20,
      "outputs": []
    },
    {
      "cell_type": "markdown",
      "source": [
        "Let's take a quick look at the concatenated data frame to see that everything excecuted correctly.\n",
        "\n",
        "Columns look good and the size (```RangeIndex```) also looks correct. (We can go back and note the size of each separate data set and see that their sum is equal to the new data set size.)"
      ],
      "metadata": {
        "id": "p-8KE6chp6Kd"
      }
    },
    {
      "cell_type": "code",
      "source": [
        "wine_data.info()"
      ],
      "metadata": {
        "colab": {
          "base_uri": "https://localhost:8080/"
        },
        "id": "TF2nAKxZp54f",
        "outputId": "57bde7dc-05e5-46ac-9857-15ff8f4b9fdc"
      },
      "execution_count": 21,
      "outputs": [
        {
          "output_type": "stream",
          "name": "stdout",
          "text": [
            "<class 'pandas.core.frame.DataFrame'>\n",
            "RangeIndex: 6497 entries, 0 to 6496\n",
            "Data columns (total 13 columns):\n",
            " #   Column                Non-Null Count  Dtype  \n",
            "---  ------                --------------  -----  \n",
            " 0   fixed acidity         6497 non-null   float64\n",
            " 1   volatile acidity      6497 non-null   float64\n",
            " 2   citric acid           6497 non-null   float64\n",
            " 3   residual sugar        6497 non-null   float64\n",
            " 4   chlorides             6497 non-null   float64\n",
            " 5   free sulfur dioxide   6497 non-null   float64\n",
            " 6   total sulfur dioxide  6497 non-null   float64\n",
            " 7   density               6497 non-null   float64\n",
            " 8   pH                    6497 non-null   float64\n",
            " 9   sulphates             6497 non-null   float64\n",
            " 10  alcohol               6497 non-null   float64\n",
            " 11  quality               6497 non-null   int64  \n",
            " 12  type                  6497 non-null   object \n",
            "dtypes: float64(11), int64(1), object(1)\n",
            "memory usage: 660.0+ KB\n"
          ]
        }
      ]
    },
    {
      "cell_type": "markdown",
      "source": [
        "A quick peak at the data also shows everything to be in expected order, especially note that the added categorical column ```type``` looks correct."
      ],
      "metadata": {
        "id": "bUWrh8Bqqy--"
      }
    },
    {
      "cell_type": "code",
      "source": [
        "wine_data"
      ],
      "metadata": {
        "colab": {
          "base_uri": "https://localhost:8080/",
          "height": 424
        },
        "id": "pDBhSSckx4p2",
        "outputId": "745b2e30-bdc4-4374-8447-8ad5d6611ede"
      },
      "execution_count": 22,
      "outputs": [
        {
          "output_type": "execute_result",
          "data": {
            "text/plain": [
              "      fixed acidity  volatile acidity  citric acid  residual sugar  chlorides  \\\n",
              "0               7.4              0.70         0.00             1.9      0.076   \n",
              "1               7.8              0.88         0.00             2.6      0.098   \n",
              "2               7.8              0.76         0.04             2.3      0.092   \n",
              "3              11.2              0.28         0.56             1.9      0.075   \n",
              "4               7.4              0.70         0.00             1.9      0.076   \n",
              "...             ...               ...          ...             ...        ...   \n",
              "6492            6.2              0.21         0.29             1.6      0.039   \n",
              "6493            6.6              0.32         0.36             8.0      0.047   \n",
              "6494            6.5              0.24         0.19             1.2      0.041   \n",
              "6495            5.5              0.29         0.30             1.1      0.022   \n",
              "6496            6.0              0.21         0.38             0.8      0.020   \n",
              "\n",
              "      free sulfur dioxide  total sulfur dioxide  density    pH  sulphates  \\\n",
              "0                    11.0                  34.0  0.99780  3.51       0.56   \n",
              "1                    25.0                  67.0  0.99680  3.20       0.68   \n",
              "2                    15.0                  54.0  0.99700  3.26       0.65   \n",
              "3                    17.0                  60.0  0.99800  3.16       0.58   \n",
              "4                    11.0                  34.0  0.99780  3.51       0.56   \n",
              "...                   ...                   ...      ...   ...        ...   \n",
              "6492                 24.0                  92.0  0.99114  3.27       0.50   \n",
              "6493                 57.0                 168.0  0.99490  3.15       0.46   \n",
              "6494                 30.0                 111.0  0.99254  2.99       0.46   \n",
              "6495                 20.0                 110.0  0.98869  3.34       0.38   \n",
              "6496                 22.0                  98.0  0.98941  3.26       0.32   \n",
              "\n",
              "      alcohol  quality   type  \n",
              "0         9.4        5    red  \n",
              "1         9.8        5    red  \n",
              "2         9.8        5    red  \n",
              "3         9.8        6    red  \n",
              "4         9.4        5    red  \n",
              "...       ...      ...    ...  \n",
              "6492     11.2        6  white  \n",
              "6493      9.6        5  white  \n",
              "6494      9.4        6  white  \n",
              "6495     12.8        7  white  \n",
              "6496     11.8        6  white  \n",
              "\n",
              "[6497 rows x 13 columns]"
            ],
            "text/html": [
              "\n",
              "  <div id=\"df-1c73837a-c4d7-47d2-9161-a51413c33c1d\" class=\"colab-df-container\">\n",
              "    <div>\n",
              "<style scoped>\n",
              "    .dataframe tbody tr th:only-of-type {\n",
              "        vertical-align: middle;\n",
              "    }\n",
              "\n",
              "    .dataframe tbody tr th {\n",
              "        vertical-align: top;\n",
              "    }\n",
              "\n",
              "    .dataframe thead th {\n",
              "        text-align: right;\n",
              "    }\n",
              "</style>\n",
              "<table border=\"1\" class=\"dataframe\">\n",
              "  <thead>\n",
              "    <tr style=\"text-align: right;\">\n",
              "      <th></th>\n",
              "      <th>fixed acidity</th>\n",
              "      <th>volatile acidity</th>\n",
              "      <th>citric acid</th>\n",
              "      <th>residual sugar</th>\n",
              "      <th>chlorides</th>\n",
              "      <th>free sulfur dioxide</th>\n",
              "      <th>total sulfur dioxide</th>\n",
              "      <th>density</th>\n",
              "      <th>pH</th>\n",
              "      <th>sulphates</th>\n",
              "      <th>alcohol</th>\n",
              "      <th>quality</th>\n",
              "      <th>type</th>\n",
              "    </tr>\n",
              "  </thead>\n",
              "  <tbody>\n",
              "    <tr>\n",
              "      <th>0</th>\n",
              "      <td>7.4</td>\n",
              "      <td>0.70</td>\n",
              "      <td>0.00</td>\n",
              "      <td>1.9</td>\n",
              "      <td>0.076</td>\n",
              "      <td>11.0</td>\n",
              "      <td>34.0</td>\n",
              "      <td>0.99780</td>\n",
              "      <td>3.51</td>\n",
              "      <td>0.56</td>\n",
              "      <td>9.4</td>\n",
              "      <td>5</td>\n",
              "      <td>red</td>\n",
              "    </tr>\n",
              "    <tr>\n",
              "      <th>1</th>\n",
              "      <td>7.8</td>\n",
              "      <td>0.88</td>\n",
              "      <td>0.00</td>\n",
              "      <td>2.6</td>\n",
              "      <td>0.098</td>\n",
              "      <td>25.0</td>\n",
              "      <td>67.0</td>\n",
              "      <td>0.99680</td>\n",
              "      <td>3.20</td>\n",
              "      <td>0.68</td>\n",
              "      <td>9.8</td>\n",
              "      <td>5</td>\n",
              "      <td>red</td>\n",
              "    </tr>\n",
              "    <tr>\n",
              "      <th>2</th>\n",
              "      <td>7.8</td>\n",
              "      <td>0.76</td>\n",
              "      <td>0.04</td>\n",
              "      <td>2.3</td>\n",
              "      <td>0.092</td>\n",
              "      <td>15.0</td>\n",
              "      <td>54.0</td>\n",
              "      <td>0.99700</td>\n",
              "      <td>3.26</td>\n",
              "      <td>0.65</td>\n",
              "      <td>9.8</td>\n",
              "      <td>5</td>\n",
              "      <td>red</td>\n",
              "    </tr>\n",
              "    <tr>\n",
              "      <th>3</th>\n",
              "      <td>11.2</td>\n",
              "      <td>0.28</td>\n",
              "      <td>0.56</td>\n",
              "      <td>1.9</td>\n",
              "      <td>0.075</td>\n",
              "      <td>17.0</td>\n",
              "      <td>60.0</td>\n",
              "      <td>0.99800</td>\n",
              "      <td>3.16</td>\n",
              "      <td>0.58</td>\n",
              "      <td>9.8</td>\n",
              "      <td>6</td>\n",
              "      <td>red</td>\n",
              "    </tr>\n",
              "    <tr>\n",
              "      <th>4</th>\n",
              "      <td>7.4</td>\n",
              "      <td>0.70</td>\n",
              "      <td>0.00</td>\n",
              "      <td>1.9</td>\n",
              "      <td>0.076</td>\n",
              "      <td>11.0</td>\n",
              "      <td>34.0</td>\n",
              "      <td>0.99780</td>\n",
              "      <td>3.51</td>\n",
              "      <td>0.56</td>\n",
              "      <td>9.4</td>\n",
              "      <td>5</td>\n",
              "      <td>red</td>\n",
              "    </tr>\n",
              "    <tr>\n",
              "      <th>...</th>\n",
              "      <td>...</td>\n",
              "      <td>...</td>\n",
              "      <td>...</td>\n",
              "      <td>...</td>\n",
              "      <td>...</td>\n",
              "      <td>...</td>\n",
              "      <td>...</td>\n",
              "      <td>...</td>\n",
              "      <td>...</td>\n",
              "      <td>...</td>\n",
              "      <td>...</td>\n",
              "      <td>...</td>\n",
              "      <td>...</td>\n",
              "    </tr>\n",
              "    <tr>\n",
              "      <th>6492</th>\n",
              "      <td>6.2</td>\n",
              "      <td>0.21</td>\n",
              "      <td>0.29</td>\n",
              "      <td>1.6</td>\n",
              "      <td>0.039</td>\n",
              "      <td>24.0</td>\n",
              "      <td>92.0</td>\n",
              "      <td>0.99114</td>\n",
              "      <td>3.27</td>\n",
              "      <td>0.50</td>\n",
              "      <td>11.2</td>\n",
              "      <td>6</td>\n",
              "      <td>white</td>\n",
              "    </tr>\n",
              "    <tr>\n",
              "      <th>6493</th>\n",
              "      <td>6.6</td>\n",
              "      <td>0.32</td>\n",
              "      <td>0.36</td>\n",
              "      <td>8.0</td>\n",
              "      <td>0.047</td>\n",
              "      <td>57.0</td>\n",
              "      <td>168.0</td>\n",
              "      <td>0.99490</td>\n",
              "      <td>3.15</td>\n",
              "      <td>0.46</td>\n",
              "      <td>9.6</td>\n",
              "      <td>5</td>\n",
              "      <td>white</td>\n",
              "    </tr>\n",
              "    <tr>\n",
              "      <th>6494</th>\n",
              "      <td>6.5</td>\n",
              "      <td>0.24</td>\n",
              "      <td>0.19</td>\n",
              "      <td>1.2</td>\n",
              "      <td>0.041</td>\n",
              "      <td>30.0</td>\n",
              "      <td>111.0</td>\n",
              "      <td>0.99254</td>\n",
              "      <td>2.99</td>\n",
              "      <td>0.46</td>\n",
              "      <td>9.4</td>\n",
              "      <td>6</td>\n",
              "      <td>white</td>\n",
              "    </tr>\n",
              "    <tr>\n",
              "      <th>6495</th>\n",
              "      <td>5.5</td>\n",
              "      <td>0.29</td>\n",
              "      <td>0.30</td>\n",
              "      <td>1.1</td>\n",
              "      <td>0.022</td>\n",
              "      <td>20.0</td>\n",
              "      <td>110.0</td>\n",
              "      <td>0.98869</td>\n",
              "      <td>3.34</td>\n",
              "      <td>0.38</td>\n",
              "      <td>12.8</td>\n",
              "      <td>7</td>\n",
              "      <td>white</td>\n",
              "    </tr>\n",
              "    <tr>\n",
              "      <th>6496</th>\n",
              "      <td>6.0</td>\n",
              "      <td>0.21</td>\n",
              "      <td>0.38</td>\n",
              "      <td>0.8</td>\n",
              "      <td>0.020</td>\n",
              "      <td>22.0</td>\n",
              "      <td>98.0</td>\n",
              "      <td>0.98941</td>\n",
              "      <td>3.26</td>\n",
              "      <td>0.32</td>\n",
              "      <td>11.8</td>\n",
              "      <td>6</td>\n",
              "      <td>white</td>\n",
              "    </tr>\n",
              "  </tbody>\n",
              "</table>\n",
              "<p>6497 rows × 13 columns</p>\n",
              "</div>\n",
              "    <div class=\"colab-df-buttons\">\n",
              "\n",
              "  <div class=\"colab-df-container\">\n",
              "    <button class=\"colab-df-convert\" onclick=\"convertToInteractive('df-1c73837a-c4d7-47d2-9161-a51413c33c1d')\"\n",
              "            title=\"Convert this dataframe to an interactive table.\"\n",
              "            style=\"display:none;\">\n",
              "\n",
              "  <svg xmlns=\"http://www.w3.org/2000/svg\" height=\"24px\" viewBox=\"0 -960 960 960\">\n",
              "    <path d=\"M120-120v-720h720v720H120Zm60-500h600v-160H180v160Zm220 220h160v-160H400v160Zm0 220h160v-160H400v160ZM180-400h160v-160H180v160Zm440 0h160v-160H620v160ZM180-180h160v-160H180v160Zm440 0h160v-160H620v160Z\"/>\n",
              "  </svg>\n",
              "    </button>\n",
              "\n",
              "  <style>\n",
              "    .colab-df-container {\n",
              "      display:flex;\n",
              "      gap: 12px;\n",
              "    }\n",
              "\n",
              "    .colab-df-convert {\n",
              "      background-color: #E8F0FE;\n",
              "      border: none;\n",
              "      border-radius: 50%;\n",
              "      cursor: pointer;\n",
              "      display: none;\n",
              "      fill: #1967D2;\n",
              "      height: 32px;\n",
              "      padding: 0 0 0 0;\n",
              "      width: 32px;\n",
              "    }\n",
              "\n",
              "    .colab-df-convert:hover {\n",
              "      background-color: #E2EBFA;\n",
              "      box-shadow: 0px 1px 2px rgba(60, 64, 67, 0.3), 0px 1px 3px 1px rgba(60, 64, 67, 0.15);\n",
              "      fill: #174EA6;\n",
              "    }\n",
              "\n",
              "    .colab-df-buttons div {\n",
              "      margin-bottom: 4px;\n",
              "    }\n",
              "\n",
              "    [theme=dark] .colab-df-convert {\n",
              "      background-color: #3B4455;\n",
              "      fill: #D2E3FC;\n",
              "    }\n",
              "\n",
              "    [theme=dark] .colab-df-convert:hover {\n",
              "      background-color: #434B5C;\n",
              "      box-shadow: 0px 1px 3px 1px rgba(0, 0, 0, 0.15);\n",
              "      filter: drop-shadow(0px 1px 2px rgba(0, 0, 0, 0.3));\n",
              "      fill: #FFFFFF;\n",
              "    }\n",
              "  </style>\n",
              "\n",
              "    <script>\n",
              "      const buttonEl =\n",
              "        document.querySelector('#df-1c73837a-c4d7-47d2-9161-a51413c33c1d button.colab-df-convert');\n",
              "      buttonEl.style.display =\n",
              "        google.colab.kernel.accessAllowed ? 'block' : 'none';\n",
              "\n",
              "      async function convertToInteractive(key) {\n",
              "        const element = document.querySelector('#df-1c73837a-c4d7-47d2-9161-a51413c33c1d');\n",
              "        const dataTable =\n",
              "          await google.colab.kernel.invokeFunction('convertToInteractive',\n",
              "                                                    [key], {});\n",
              "        if (!dataTable) return;\n",
              "\n",
              "        const docLinkHtml = 'Like what you see? Visit the ' +\n",
              "          '<a target=\"_blank\" href=https://colab.research.google.com/notebooks/data_table.ipynb>data table notebook</a>'\n",
              "          + ' to learn more about interactive tables.';\n",
              "        element.innerHTML = '';\n",
              "        dataTable['output_type'] = 'display_data';\n",
              "        await google.colab.output.renderOutput(dataTable, element);\n",
              "        const docLink = document.createElement('div');\n",
              "        docLink.innerHTML = docLinkHtml;\n",
              "        element.appendChild(docLink);\n",
              "      }\n",
              "    </script>\n",
              "  </div>\n",
              "\n",
              "\n",
              "<div id=\"df-7cdb71e1-9c47-4bde-946e-6feb7d15e7d6\">\n",
              "  <button class=\"colab-df-quickchart\" onclick=\"quickchart('df-7cdb71e1-9c47-4bde-946e-6feb7d15e7d6')\"\n",
              "            title=\"Suggest charts\"\n",
              "            style=\"display:none;\">\n",
              "\n",
              "<svg xmlns=\"http://www.w3.org/2000/svg\" height=\"24px\"viewBox=\"0 0 24 24\"\n",
              "     width=\"24px\">\n",
              "    <g>\n",
              "        <path d=\"M19 3H5c-1.1 0-2 .9-2 2v14c0 1.1.9 2 2 2h14c1.1 0 2-.9 2-2V5c0-1.1-.9-2-2-2zM9 17H7v-7h2v7zm4 0h-2V7h2v10zm4 0h-2v-4h2v4z\"/>\n",
              "    </g>\n",
              "</svg>\n",
              "  </button>\n",
              "\n",
              "<style>\n",
              "  .colab-df-quickchart {\n",
              "      --bg-color: #E8F0FE;\n",
              "      --fill-color: #1967D2;\n",
              "      --hover-bg-color: #E2EBFA;\n",
              "      --hover-fill-color: #174EA6;\n",
              "      --disabled-fill-color: #AAA;\n",
              "      --disabled-bg-color: #DDD;\n",
              "  }\n",
              "\n",
              "  [theme=dark] .colab-df-quickchart {\n",
              "      --bg-color: #3B4455;\n",
              "      --fill-color: #D2E3FC;\n",
              "      --hover-bg-color: #434B5C;\n",
              "      --hover-fill-color: #FFFFFF;\n",
              "      --disabled-bg-color: #3B4455;\n",
              "      --disabled-fill-color: #666;\n",
              "  }\n",
              "\n",
              "  .colab-df-quickchart {\n",
              "    background-color: var(--bg-color);\n",
              "    border: none;\n",
              "    border-radius: 50%;\n",
              "    cursor: pointer;\n",
              "    display: none;\n",
              "    fill: var(--fill-color);\n",
              "    height: 32px;\n",
              "    padding: 0;\n",
              "    width: 32px;\n",
              "  }\n",
              "\n",
              "  .colab-df-quickchart:hover {\n",
              "    background-color: var(--hover-bg-color);\n",
              "    box-shadow: 0 1px 2px rgba(60, 64, 67, 0.3), 0 1px 3px 1px rgba(60, 64, 67, 0.15);\n",
              "    fill: var(--button-hover-fill-color);\n",
              "  }\n",
              "\n",
              "  .colab-df-quickchart-complete:disabled,\n",
              "  .colab-df-quickchart-complete:disabled:hover {\n",
              "    background-color: var(--disabled-bg-color);\n",
              "    fill: var(--disabled-fill-color);\n",
              "    box-shadow: none;\n",
              "  }\n",
              "\n",
              "  .colab-df-spinner {\n",
              "    border: 2px solid var(--fill-color);\n",
              "    border-color: transparent;\n",
              "    border-bottom-color: var(--fill-color);\n",
              "    animation:\n",
              "      spin 1s steps(1) infinite;\n",
              "  }\n",
              "\n",
              "  @keyframes spin {\n",
              "    0% {\n",
              "      border-color: transparent;\n",
              "      border-bottom-color: var(--fill-color);\n",
              "      border-left-color: var(--fill-color);\n",
              "    }\n",
              "    20% {\n",
              "      border-color: transparent;\n",
              "      border-left-color: var(--fill-color);\n",
              "      border-top-color: var(--fill-color);\n",
              "    }\n",
              "    30% {\n",
              "      border-color: transparent;\n",
              "      border-left-color: var(--fill-color);\n",
              "      border-top-color: var(--fill-color);\n",
              "      border-right-color: var(--fill-color);\n",
              "    }\n",
              "    40% {\n",
              "      border-color: transparent;\n",
              "      border-right-color: var(--fill-color);\n",
              "      border-top-color: var(--fill-color);\n",
              "    }\n",
              "    60% {\n",
              "      border-color: transparent;\n",
              "      border-right-color: var(--fill-color);\n",
              "    }\n",
              "    80% {\n",
              "      border-color: transparent;\n",
              "      border-right-color: var(--fill-color);\n",
              "      border-bottom-color: var(--fill-color);\n",
              "    }\n",
              "    90% {\n",
              "      border-color: transparent;\n",
              "      border-bottom-color: var(--fill-color);\n",
              "    }\n",
              "  }\n",
              "</style>\n",
              "\n",
              "  <script>\n",
              "    async function quickchart(key) {\n",
              "      const quickchartButtonEl =\n",
              "        document.querySelector('#' + key + ' button');\n",
              "      quickchartButtonEl.disabled = true;  // To prevent multiple clicks.\n",
              "      quickchartButtonEl.classList.add('colab-df-spinner');\n",
              "      try {\n",
              "        const charts = await google.colab.kernel.invokeFunction(\n",
              "            'suggestCharts', [key], {});\n",
              "      } catch (error) {\n",
              "        console.error('Error during call to suggestCharts:', error);\n",
              "      }\n",
              "      quickchartButtonEl.classList.remove('colab-df-spinner');\n",
              "      quickchartButtonEl.classList.add('colab-df-quickchart-complete');\n",
              "    }\n",
              "    (() => {\n",
              "      let quickchartButtonEl =\n",
              "        document.querySelector('#df-7cdb71e1-9c47-4bde-946e-6feb7d15e7d6 button');\n",
              "      quickchartButtonEl.style.display =\n",
              "        google.colab.kernel.accessAllowed ? 'block' : 'none';\n",
              "    })();\n",
              "  </script>\n",
              "</div>\n",
              "\n",
              "  <div id=\"id_4a28f6e3-59a3-4659-906c-91b0f1067c69\">\n",
              "    <style>\n",
              "      .colab-df-generate {\n",
              "        background-color: #E8F0FE;\n",
              "        border: none;\n",
              "        border-radius: 50%;\n",
              "        cursor: pointer;\n",
              "        display: none;\n",
              "        fill: #1967D2;\n",
              "        height: 32px;\n",
              "        padding: 0 0 0 0;\n",
              "        width: 32px;\n",
              "      }\n",
              "\n",
              "      .colab-df-generate:hover {\n",
              "        background-color: #E2EBFA;\n",
              "        box-shadow: 0px 1px 2px rgba(60, 64, 67, 0.3), 0px 1px 3px 1px rgba(60, 64, 67, 0.15);\n",
              "        fill: #174EA6;\n",
              "      }\n",
              "\n",
              "      [theme=dark] .colab-df-generate {\n",
              "        background-color: #3B4455;\n",
              "        fill: #D2E3FC;\n",
              "      }\n",
              "\n",
              "      [theme=dark] .colab-df-generate:hover {\n",
              "        background-color: #434B5C;\n",
              "        box-shadow: 0px 1px 3px 1px rgba(0, 0, 0, 0.15);\n",
              "        filter: drop-shadow(0px 1px 2px rgba(0, 0, 0, 0.3));\n",
              "        fill: #FFFFFF;\n",
              "      }\n",
              "    </style>\n",
              "    <button class=\"colab-df-generate\" onclick=\"generateWithVariable('wine_data')\"\n",
              "            title=\"Generate code using this dataframe.\"\n",
              "            style=\"display:none;\">\n",
              "\n",
              "  <svg xmlns=\"http://www.w3.org/2000/svg\" height=\"24px\"viewBox=\"0 0 24 24\"\n",
              "       width=\"24px\">\n",
              "    <path d=\"M7,19H8.4L18.45,9,17,7.55,7,17.6ZM5,21V16.75L18.45,3.32a2,2,0,0,1,2.83,0l1.4,1.43a1.91,1.91,0,0,1,.58,1.4,1.91,1.91,0,0,1-.58,1.4L9.25,21ZM18.45,9,17,7.55Zm-12,3A5.31,5.31,0,0,0,4.9,8.1,5.31,5.31,0,0,0,1,6.5,5.31,5.31,0,0,0,4.9,4.9,5.31,5.31,0,0,0,6.5,1,5.31,5.31,0,0,0,8.1,4.9,5.31,5.31,0,0,0,12,6.5,5.46,5.46,0,0,0,6.5,12Z\"/>\n",
              "  </svg>\n",
              "    </button>\n",
              "    <script>\n",
              "      (() => {\n",
              "      const buttonEl =\n",
              "        document.querySelector('#id_4a28f6e3-59a3-4659-906c-91b0f1067c69 button.colab-df-generate');\n",
              "      buttonEl.style.display =\n",
              "        google.colab.kernel.accessAllowed ? 'block' : 'none';\n",
              "\n",
              "      buttonEl.onclick = () => {\n",
              "        google.colab.notebook.generateWithVariable('wine_data');\n",
              "      }\n",
              "      })();\n",
              "    </script>\n",
              "  </div>\n",
              "\n",
              "    </div>\n",
              "  </div>\n"
            ],
            "application/vnd.google.colaboratory.intrinsic+json": {
              "type": "dataframe",
              "variable_name": "wine_data",
              "summary": "{\n  \"name\": \"wine_data\",\n  \"rows\": 6497,\n  \"fields\": [\n    {\n      \"column\": \"fixed acidity\",\n      \"properties\": {\n        \"dtype\": \"number\",\n        \"std\": 1.2964337577998153,\n        \"min\": 3.8,\n        \"max\": 15.9,\n        \"num_unique_values\": 106,\n        \"samples\": [\n          7.15,\n          8.1,\n          7.3\n        ],\n        \"semantic_type\": \"\",\n        \"description\": \"\"\n      }\n    },\n    {\n      \"column\": \"volatile acidity\",\n      \"properties\": {\n        \"dtype\": \"number\",\n        \"std\": 0.16463647408467877,\n        \"min\": 0.08,\n        \"max\": 1.58,\n        \"num_unique_values\": 187,\n        \"samples\": [\n          0.405,\n          0.21,\n          0.695\n        ],\n        \"semantic_type\": \"\",\n        \"description\": \"\"\n      }\n    },\n    {\n      \"column\": \"citric acid\",\n      \"properties\": {\n        \"dtype\": \"number\",\n        \"std\": 0.14531786489759155,\n        \"min\": 0.0,\n        \"max\": 1.66,\n        \"num_unique_values\": 89,\n        \"samples\": [\n          0.1,\n          0.6,\n          0.37\n        ],\n        \"semantic_type\": \"\",\n        \"description\": \"\"\n      }\n    },\n    {\n      \"column\": \"residual sugar\",\n      \"properties\": {\n        \"dtype\": \"number\",\n        \"std\": 4.757803743147418,\n        \"min\": 0.6,\n        \"max\": 65.8,\n        \"num_unique_values\": 316,\n        \"samples\": [\n          18.95,\n          3.2,\n          9.3\n        ],\n        \"semantic_type\": \"\",\n        \"description\": \"\"\n      }\n    },\n    {\n      \"column\": \"chlorides\",\n      \"properties\": {\n        \"dtype\": \"number\",\n        \"std\": 0.03503360137245907,\n        \"min\": 0.009,\n        \"max\": 0.611,\n        \"num_unique_values\": 214,\n        \"samples\": [\n          0.089,\n          0.217,\n          0.1\n        ],\n        \"semantic_type\": \"\",\n        \"description\": \"\"\n      }\n    },\n    {\n      \"column\": \"free sulfur dioxide\",\n      \"properties\": {\n        \"dtype\": \"number\",\n        \"std\": 17.7493997720025,\n        \"min\": 1.0,\n        \"max\": 289.0,\n        \"num_unique_values\": 135,\n        \"samples\": [\n          77.5,\n          65.0,\n          128.0\n        ],\n        \"semantic_type\": \"\",\n        \"description\": \"\"\n      }\n    },\n    {\n      \"column\": \"total sulfur dioxide\",\n      \"properties\": {\n        \"dtype\": \"number\",\n        \"std\": 56.521854522630285,\n        \"min\": 6.0,\n        \"max\": 440.0,\n        \"num_unique_values\": 276,\n        \"samples\": [\n          14.0,\n          149.0,\n          227.0\n        ],\n        \"semantic_type\": \"\",\n        \"description\": \"\"\n      }\n    },\n    {\n      \"column\": \"density\",\n      \"properties\": {\n        \"dtype\": \"number\",\n        \"std\": 0.0029986730037190393,\n        \"min\": 0.98711,\n        \"max\": 1.03898,\n        \"num_unique_values\": 998,\n        \"samples\": [\n          0.9918,\n          0.99412,\n          0.99484\n        ],\n        \"semantic_type\": \"\",\n        \"description\": \"\"\n      }\n    },\n    {\n      \"column\": \"pH\",\n      \"properties\": {\n        \"dtype\": \"number\",\n        \"std\": 0.16078720210398764,\n        \"min\": 2.72,\n        \"max\": 4.01,\n        \"num_unique_values\": 108,\n        \"samples\": [\n          3.74,\n          3.17,\n          3.3\n        ],\n        \"semantic_type\": \"\",\n        \"description\": \"\"\n      }\n    },\n    {\n      \"column\": \"sulphates\",\n      \"properties\": {\n        \"dtype\": \"number\",\n        \"std\": 0.14880587361449027,\n        \"min\": 0.22,\n        \"max\": 2.0,\n        \"num_unique_values\": 111,\n        \"samples\": [\n          1.11,\n          1.56,\n          0.46\n        ],\n        \"semantic_type\": \"\",\n        \"description\": \"\"\n      }\n    },\n    {\n      \"column\": \"alcohol\",\n      \"properties\": {\n        \"dtype\": \"number\",\n        \"std\": 1.192711748870993,\n        \"min\": 8.0,\n        \"max\": 14.9,\n        \"num_unique_values\": 111,\n        \"samples\": [\n          10.9333333333333,\n          9.7,\n          10.5\n        ],\n        \"semantic_type\": \"\",\n        \"description\": \"\"\n      }\n    },\n    {\n      \"column\": \"quality\",\n      \"properties\": {\n        \"dtype\": \"number\",\n        \"std\": 0,\n        \"min\": 3,\n        \"max\": 9,\n        \"num_unique_values\": 7,\n        \"samples\": [\n          5,\n          6,\n          3\n        ],\n        \"semantic_type\": \"\",\n        \"description\": \"\"\n      }\n    },\n    {\n      \"column\": \"type\",\n      \"properties\": {\n        \"dtype\": \"category\",\n        \"num_unique_values\": 2,\n        \"samples\": [\n          \"white\",\n          \"red\"\n        ],\n        \"semantic_type\": \"\",\n        \"description\": \"\"\n      }\n    }\n  ]\n}"
            }
          },
          "metadata": {},
          "execution_count": 22
        }
      ]
    },
    {
      "cell_type": "markdown",
      "source": [
        "We'll convert our categorical variable ```type``` to a binary response: 1 for \"red\" and 0 for \"white.\" This will allow us to utilize this feature in our linear regression models to predict ```alchohol``` **AND** it will allow us to use this variable as our response in the logistic regression models.\n",
        "\n",
        "We'll just overwrite the ```type``` column utilizing ```pd.get_dummies()```"
      ],
      "metadata": {
        "id": "vpvUafMWrycq"
      }
    },
    {
      "cell_type": "code",
      "source": [
        "wine_data['type'] = pd.get_dummies(data=wine_data['type'], dtype=int)['red']"
      ],
      "metadata": {
        "id": "Rz7qQjbNeKGe"
      },
      "execution_count": 23,
      "outputs": []
    },
    {
      "cell_type": "markdown",
      "source": [
        "Another look to make sure the transformation is correct."
      ],
      "metadata": {
        "id": "Ua5nS4CotPKm"
      }
    },
    {
      "cell_type": "code",
      "source": [
        "wine_data"
      ],
      "metadata": {
        "colab": {
          "base_uri": "https://localhost:8080/",
          "height": 424
        },
        "id": "mWc22Yxze12W",
        "outputId": "576930e7-98d4-4fdb-9301-fa9b0ea5b15a"
      },
      "execution_count": 24,
      "outputs": [
        {
          "output_type": "execute_result",
          "data": {
            "text/plain": [
              "      fixed acidity  volatile acidity  citric acid  residual sugar  chlorides  \\\n",
              "0               7.4              0.70         0.00             1.9      0.076   \n",
              "1               7.8              0.88         0.00             2.6      0.098   \n",
              "2               7.8              0.76         0.04             2.3      0.092   \n",
              "3              11.2              0.28         0.56             1.9      0.075   \n",
              "4               7.4              0.70         0.00             1.9      0.076   \n",
              "...             ...               ...          ...             ...        ...   \n",
              "6492            6.2              0.21         0.29             1.6      0.039   \n",
              "6493            6.6              0.32         0.36             8.0      0.047   \n",
              "6494            6.5              0.24         0.19             1.2      0.041   \n",
              "6495            5.5              0.29         0.30             1.1      0.022   \n",
              "6496            6.0              0.21         0.38             0.8      0.020   \n",
              "\n",
              "      free sulfur dioxide  total sulfur dioxide  density    pH  sulphates  \\\n",
              "0                    11.0                  34.0  0.99780  3.51       0.56   \n",
              "1                    25.0                  67.0  0.99680  3.20       0.68   \n",
              "2                    15.0                  54.0  0.99700  3.26       0.65   \n",
              "3                    17.0                  60.0  0.99800  3.16       0.58   \n",
              "4                    11.0                  34.0  0.99780  3.51       0.56   \n",
              "...                   ...                   ...      ...   ...        ...   \n",
              "6492                 24.0                  92.0  0.99114  3.27       0.50   \n",
              "6493                 57.0                 168.0  0.99490  3.15       0.46   \n",
              "6494                 30.0                 111.0  0.99254  2.99       0.46   \n",
              "6495                 20.0                 110.0  0.98869  3.34       0.38   \n",
              "6496                 22.0                  98.0  0.98941  3.26       0.32   \n",
              "\n",
              "      alcohol  quality  type  \n",
              "0         9.4        5     1  \n",
              "1         9.8        5     1  \n",
              "2         9.8        5     1  \n",
              "3         9.8        6     1  \n",
              "4         9.4        5     1  \n",
              "...       ...      ...   ...  \n",
              "6492     11.2        6     0  \n",
              "6493      9.6        5     0  \n",
              "6494      9.4        6     0  \n",
              "6495     12.8        7     0  \n",
              "6496     11.8        6     0  \n",
              "\n",
              "[6497 rows x 13 columns]"
            ],
            "text/html": [
              "\n",
              "  <div id=\"df-1411901d-7a55-4fda-a3c1-eb976f511fed\" class=\"colab-df-container\">\n",
              "    <div>\n",
              "<style scoped>\n",
              "    .dataframe tbody tr th:only-of-type {\n",
              "        vertical-align: middle;\n",
              "    }\n",
              "\n",
              "    .dataframe tbody tr th {\n",
              "        vertical-align: top;\n",
              "    }\n",
              "\n",
              "    .dataframe thead th {\n",
              "        text-align: right;\n",
              "    }\n",
              "</style>\n",
              "<table border=\"1\" class=\"dataframe\">\n",
              "  <thead>\n",
              "    <tr style=\"text-align: right;\">\n",
              "      <th></th>\n",
              "      <th>fixed acidity</th>\n",
              "      <th>volatile acidity</th>\n",
              "      <th>citric acid</th>\n",
              "      <th>residual sugar</th>\n",
              "      <th>chlorides</th>\n",
              "      <th>free sulfur dioxide</th>\n",
              "      <th>total sulfur dioxide</th>\n",
              "      <th>density</th>\n",
              "      <th>pH</th>\n",
              "      <th>sulphates</th>\n",
              "      <th>alcohol</th>\n",
              "      <th>quality</th>\n",
              "      <th>type</th>\n",
              "    </tr>\n",
              "  </thead>\n",
              "  <tbody>\n",
              "    <tr>\n",
              "      <th>0</th>\n",
              "      <td>7.4</td>\n",
              "      <td>0.70</td>\n",
              "      <td>0.00</td>\n",
              "      <td>1.9</td>\n",
              "      <td>0.076</td>\n",
              "      <td>11.0</td>\n",
              "      <td>34.0</td>\n",
              "      <td>0.99780</td>\n",
              "      <td>3.51</td>\n",
              "      <td>0.56</td>\n",
              "      <td>9.4</td>\n",
              "      <td>5</td>\n",
              "      <td>1</td>\n",
              "    </tr>\n",
              "    <tr>\n",
              "      <th>1</th>\n",
              "      <td>7.8</td>\n",
              "      <td>0.88</td>\n",
              "      <td>0.00</td>\n",
              "      <td>2.6</td>\n",
              "      <td>0.098</td>\n",
              "      <td>25.0</td>\n",
              "      <td>67.0</td>\n",
              "      <td>0.99680</td>\n",
              "      <td>3.20</td>\n",
              "      <td>0.68</td>\n",
              "      <td>9.8</td>\n",
              "      <td>5</td>\n",
              "      <td>1</td>\n",
              "    </tr>\n",
              "    <tr>\n",
              "      <th>2</th>\n",
              "      <td>7.8</td>\n",
              "      <td>0.76</td>\n",
              "      <td>0.04</td>\n",
              "      <td>2.3</td>\n",
              "      <td>0.092</td>\n",
              "      <td>15.0</td>\n",
              "      <td>54.0</td>\n",
              "      <td>0.99700</td>\n",
              "      <td>3.26</td>\n",
              "      <td>0.65</td>\n",
              "      <td>9.8</td>\n",
              "      <td>5</td>\n",
              "      <td>1</td>\n",
              "    </tr>\n",
              "    <tr>\n",
              "      <th>3</th>\n",
              "      <td>11.2</td>\n",
              "      <td>0.28</td>\n",
              "      <td>0.56</td>\n",
              "      <td>1.9</td>\n",
              "      <td>0.075</td>\n",
              "      <td>17.0</td>\n",
              "      <td>60.0</td>\n",
              "      <td>0.99800</td>\n",
              "      <td>3.16</td>\n",
              "      <td>0.58</td>\n",
              "      <td>9.8</td>\n",
              "      <td>6</td>\n",
              "      <td>1</td>\n",
              "    </tr>\n",
              "    <tr>\n",
              "      <th>4</th>\n",
              "      <td>7.4</td>\n",
              "      <td>0.70</td>\n",
              "      <td>0.00</td>\n",
              "      <td>1.9</td>\n",
              "      <td>0.076</td>\n",
              "      <td>11.0</td>\n",
              "      <td>34.0</td>\n",
              "      <td>0.99780</td>\n",
              "      <td>3.51</td>\n",
              "      <td>0.56</td>\n",
              "      <td>9.4</td>\n",
              "      <td>5</td>\n",
              "      <td>1</td>\n",
              "    </tr>\n",
              "    <tr>\n",
              "      <th>...</th>\n",
              "      <td>...</td>\n",
              "      <td>...</td>\n",
              "      <td>...</td>\n",
              "      <td>...</td>\n",
              "      <td>...</td>\n",
              "      <td>...</td>\n",
              "      <td>...</td>\n",
              "      <td>...</td>\n",
              "      <td>...</td>\n",
              "      <td>...</td>\n",
              "      <td>...</td>\n",
              "      <td>...</td>\n",
              "      <td>...</td>\n",
              "    </tr>\n",
              "    <tr>\n",
              "      <th>6492</th>\n",
              "      <td>6.2</td>\n",
              "      <td>0.21</td>\n",
              "      <td>0.29</td>\n",
              "      <td>1.6</td>\n",
              "      <td>0.039</td>\n",
              "      <td>24.0</td>\n",
              "      <td>92.0</td>\n",
              "      <td>0.99114</td>\n",
              "      <td>3.27</td>\n",
              "      <td>0.50</td>\n",
              "      <td>11.2</td>\n",
              "      <td>6</td>\n",
              "      <td>0</td>\n",
              "    </tr>\n",
              "    <tr>\n",
              "      <th>6493</th>\n",
              "      <td>6.6</td>\n",
              "      <td>0.32</td>\n",
              "      <td>0.36</td>\n",
              "      <td>8.0</td>\n",
              "      <td>0.047</td>\n",
              "      <td>57.0</td>\n",
              "      <td>168.0</td>\n",
              "      <td>0.99490</td>\n",
              "      <td>3.15</td>\n",
              "      <td>0.46</td>\n",
              "      <td>9.6</td>\n",
              "      <td>5</td>\n",
              "      <td>0</td>\n",
              "    </tr>\n",
              "    <tr>\n",
              "      <th>6494</th>\n",
              "      <td>6.5</td>\n",
              "      <td>0.24</td>\n",
              "      <td>0.19</td>\n",
              "      <td>1.2</td>\n",
              "      <td>0.041</td>\n",
              "      <td>30.0</td>\n",
              "      <td>111.0</td>\n",
              "      <td>0.99254</td>\n",
              "      <td>2.99</td>\n",
              "      <td>0.46</td>\n",
              "      <td>9.4</td>\n",
              "      <td>6</td>\n",
              "      <td>0</td>\n",
              "    </tr>\n",
              "    <tr>\n",
              "      <th>6495</th>\n",
              "      <td>5.5</td>\n",
              "      <td>0.29</td>\n",
              "      <td>0.30</td>\n",
              "      <td>1.1</td>\n",
              "      <td>0.022</td>\n",
              "      <td>20.0</td>\n",
              "      <td>110.0</td>\n",
              "      <td>0.98869</td>\n",
              "      <td>3.34</td>\n",
              "      <td>0.38</td>\n",
              "      <td>12.8</td>\n",
              "      <td>7</td>\n",
              "      <td>0</td>\n",
              "    </tr>\n",
              "    <tr>\n",
              "      <th>6496</th>\n",
              "      <td>6.0</td>\n",
              "      <td>0.21</td>\n",
              "      <td>0.38</td>\n",
              "      <td>0.8</td>\n",
              "      <td>0.020</td>\n",
              "      <td>22.0</td>\n",
              "      <td>98.0</td>\n",
              "      <td>0.98941</td>\n",
              "      <td>3.26</td>\n",
              "      <td>0.32</td>\n",
              "      <td>11.8</td>\n",
              "      <td>6</td>\n",
              "      <td>0</td>\n",
              "    </tr>\n",
              "  </tbody>\n",
              "</table>\n",
              "<p>6497 rows × 13 columns</p>\n",
              "</div>\n",
              "    <div class=\"colab-df-buttons\">\n",
              "\n",
              "  <div class=\"colab-df-container\">\n",
              "    <button class=\"colab-df-convert\" onclick=\"convertToInteractive('df-1411901d-7a55-4fda-a3c1-eb976f511fed')\"\n",
              "            title=\"Convert this dataframe to an interactive table.\"\n",
              "            style=\"display:none;\">\n",
              "\n",
              "  <svg xmlns=\"http://www.w3.org/2000/svg\" height=\"24px\" viewBox=\"0 -960 960 960\">\n",
              "    <path d=\"M120-120v-720h720v720H120Zm60-500h600v-160H180v160Zm220 220h160v-160H400v160Zm0 220h160v-160H400v160ZM180-400h160v-160H180v160Zm440 0h160v-160H620v160ZM180-180h160v-160H180v160Zm440 0h160v-160H620v160Z\"/>\n",
              "  </svg>\n",
              "    </button>\n",
              "\n",
              "  <style>\n",
              "    .colab-df-container {\n",
              "      display:flex;\n",
              "      gap: 12px;\n",
              "    }\n",
              "\n",
              "    .colab-df-convert {\n",
              "      background-color: #E8F0FE;\n",
              "      border: none;\n",
              "      border-radius: 50%;\n",
              "      cursor: pointer;\n",
              "      display: none;\n",
              "      fill: #1967D2;\n",
              "      height: 32px;\n",
              "      padding: 0 0 0 0;\n",
              "      width: 32px;\n",
              "    }\n",
              "\n",
              "    .colab-df-convert:hover {\n",
              "      background-color: #E2EBFA;\n",
              "      box-shadow: 0px 1px 2px rgba(60, 64, 67, 0.3), 0px 1px 3px 1px rgba(60, 64, 67, 0.15);\n",
              "      fill: #174EA6;\n",
              "    }\n",
              "\n",
              "    .colab-df-buttons div {\n",
              "      margin-bottom: 4px;\n",
              "    }\n",
              "\n",
              "    [theme=dark] .colab-df-convert {\n",
              "      background-color: #3B4455;\n",
              "      fill: #D2E3FC;\n",
              "    }\n",
              "\n",
              "    [theme=dark] .colab-df-convert:hover {\n",
              "      background-color: #434B5C;\n",
              "      box-shadow: 0px 1px 3px 1px rgba(0, 0, 0, 0.15);\n",
              "      filter: drop-shadow(0px 1px 2px rgba(0, 0, 0, 0.3));\n",
              "      fill: #FFFFFF;\n",
              "    }\n",
              "  </style>\n",
              "\n",
              "    <script>\n",
              "      const buttonEl =\n",
              "        document.querySelector('#df-1411901d-7a55-4fda-a3c1-eb976f511fed button.colab-df-convert');\n",
              "      buttonEl.style.display =\n",
              "        google.colab.kernel.accessAllowed ? 'block' : 'none';\n",
              "\n",
              "      async function convertToInteractive(key) {\n",
              "        const element = document.querySelector('#df-1411901d-7a55-4fda-a3c1-eb976f511fed');\n",
              "        const dataTable =\n",
              "          await google.colab.kernel.invokeFunction('convertToInteractive',\n",
              "                                                    [key], {});\n",
              "        if (!dataTable) return;\n",
              "\n",
              "        const docLinkHtml = 'Like what you see? Visit the ' +\n",
              "          '<a target=\"_blank\" href=https://colab.research.google.com/notebooks/data_table.ipynb>data table notebook</a>'\n",
              "          + ' to learn more about interactive tables.';\n",
              "        element.innerHTML = '';\n",
              "        dataTable['output_type'] = 'display_data';\n",
              "        await google.colab.output.renderOutput(dataTable, element);\n",
              "        const docLink = document.createElement('div');\n",
              "        docLink.innerHTML = docLinkHtml;\n",
              "        element.appendChild(docLink);\n",
              "      }\n",
              "    </script>\n",
              "  </div>\n",
              "\n",
              "\n",
              "<div id=\"df-b186e6ed-8bb4-4dca-9ff9-7d5bbfa18c23\">\n",
              "  <button class=\"colab-df-quickchart\" onclick=\"quickchart('df-b186e6ed-8bb4-4dca-9ff9-7d5bbfa18c23')\"\n",
              "            title=\"Suggest charts\"\n",
              "            style=\"display:none;\">\n",
              "\n",
              "<svg xmlns=\"http://www.w3.org/2000/svg\" height=\"24px\"viewBox=\"0 0 24 24\"\n",
              "     width=\"24px\">\n",
              "    <g>\n",
              "        <path d=\"M19 3H5c-1.1 0-2 .9-2 2v14c0 1.1.9 2 2 2h14c1.1 0 2-.9 2-2V5c0-1.1-.9-2-2-2zM9 17H7v-7h2v7zm4 0h-2V7h2v10zm4 0h-2v-4h2v4z\"/>\n",
              "    </g>\n",
              "</svg>\n",
              "  </button>\n",
              "\n",
              "<style>\n",
              "  .colab-df-quickchart {\n",
              "      --bg-color: #E8F0FE;\n",
              "      --fill-color: #1967D2;\n",
              "      --hover-bg-color: #E2EBFA;\n",
              "      --hover-fill-color: #174EA6;\n",
              "      --disabled-fill-color: #AAA;\n",
              "      --disabled-bg-color: #DDD;\n",
              "  }\n",
              "\n",
              "  [theme=dark] .colab-df-quickchart {\n",
              "      --bg-color: #3B4455;\n",
              "      --fill-color: #D2E3FC;\n",
              "      --hover-bg-color: #434B5C;\n",
              "      --hover-fill-color: #FFFFFF;\n",
              "      --disabled-bg-color: #3B4455;\n",
              "      --disabled-fill-color: #666;\n",
              "  }\n",
              "\n",
              "  .colab-df-quickchart {\n",
              "    background-color: var(--bg-color);\n",
              "    border: none;\n",
              "    border-radius: 50%;\n",
              "    cursor: pointer;\n",
              "    display: none;\n",
              "    fill: var(--fill-color);\n",
              "    height: 32px;\n",
              "    padding: 0;\n",
              "    width: 32px;\n",
              "  }\n",
              "\n",
              "  .colab-df-quickchart:hover {\n",
              "    background-color: var(--hover-bg-color);\n",
              "    box-shadow: 0 1px 2px rgba(60, 64, 67, 0.3), 0 1px 3px 1px rgba(60, 64, 67, 0.15);\n",
              "    fill: var(--button-hover-fill-color);\n",
              "  }\n",
              "\n",
              "  .colab-df-quickchart-complete:disabled,\n",
              "  .colab-df-quickchart-complete:disabled:hover {\n",
              "    background-color: var(--disabled-bg-color);\n",
              "    fill: var(--disabled-fill-color);\n",
              "    box-shadow: none;\n",
              "  }\n",
              "\n",
              "  .colab-df-spinner {\n",
              "    border: 2px solid var(--fill-color);\n",
              "    border-color: transparent;\n",
              "    border-bottom-color: var(--fill-color);\n",
              "    animation:\n",
              "      spin 1s steps(1) infinite;\n",
              "  }\n",
              "\n",
              "  @keyframes spin {\n",
              "    0% {\n",
              "      border-color: transparent;\n",
              "      border-bottom-color: var(--fill-color);\n",
              "      border-left-color: var(--fill-color);\n",
              "    }\n",
              "    20% {\n",
              "      border-color: transparent;\n",
              "      border-left-color: var(--fill-color);\n",
              "      border-top-color: var(--fill-color);\n",
              "    }\n",
              "    30% {\n",
              "      border-color: transparent;\n",
              "      border-left-color: var(--fill-color);\n",
              "      border-top-color: var(--fill-color);\n",
              "      border-right-color: var(--fill-color);\n",
              "    }\n",
              "    40% {\n",
              "      border-color: transparent;\n",
              "      border-right-color: var(--fill-color);\n",
              "      border-top-color: var(--fill-color);\n",
              "    }\n",
              "    60% {\n",
              "      border-color: transparent;\n",
              "      border-right-color: var(--fill-color);\n",
              "    }\n",
              "    80% {\n",
              "      border-color: transparent;\n",
              "      border-right-color: var(--fill-color);\n",
              "      border-bottom-color: var(--fill-color);\n",
              "    }\n",
              "    90% {\n",
              "      border-color: transparent;\n",
              "      border-bottom-color: var(--fill-color);\n",
              "    }\n",
              "  }\n",
              "</style>\n",
              "\n",
              "  <script>\n",
              "    async function quickchart(key) {\n",
              "      const quickchartButtonEl =\n",
              "        document.querySelector('#' + key + ' button');\n",
              "      quickchartButtonEl.disabled = true;  // To prevent multiple clicks.\n",
              "      quickchartButtonEl.classList.add('colab-df-spinner');\n",
              "      try {\n",
              "        const charts = await google.colab.kernel.invokeFunction(\n",
              "            'suggestCharts', [key], {});\n",
              "      } catch (error) {\n",
              "        console.error('Error during call to suggestCharts:', error);\n",
              "      }\n",
              "      quickchartButtonEl.classList.remove('colab-df-spinner');\n",
              "      quickchartButtonEl.classList.add('colab-df-quickchart-complete');\n",
              "    }\n",
              "    (() => {\n",
              "      let quickchartButtonEl =\n",
              "        document.querySelector('#df-b186e6ed-8bb4-4dca-9ff9-7d5bbfa18c23 button');\n",
              "      quickchartButtonEl.style.display =\n",
              "        google.colab.kernel.accessAllowed ? 'block' : 'none';\n",
              "    })();\n",
              "  </script>\n",
              "</div>\n",
              "\n",
              "  <div id=\"id_c9f67a66-d192-40c2-9d67-03373cb7b663\">\n",
              "    <style>\n",
              "      .colab-df-generate {\n",
              "        background-color: #E8F0FE;\n",
              "        border: none;\n",
              "        border-radius: 50%;\n",
              "        cursor: pointer;\n",
              "        display: none;\n",
              "        fill: #1967D2;\n",
              "        height: 32px;\n",
              "        padding: 0 0 0 0;\n",
              "        width: 32px;\n",
              "      }\n",
              "\n",
              "      .colab-df-generate:hover {\n",
              "        background-color: #E2EBFA;\n",
              "        box-shadow: 0px 1px 2px rgba(60, 64, 67, 0.3), 0px 1px 3px 1px rgba(60, 64, 67, 0.15);\n",
              "        fill: #174EA6;\n",
              "      }\n",
              "\n",
              "      [theme=dark] .colab-df-generate {\n",
              "        background-color: #3B4455;\n",
              "        fill: #D2E3FC;\n",
              "      }\n",
              "\n",
              "      [theme=dark] .colab-df-generate:hover {\n",
              "        background-color: #434B5C;\n",
              "        box-shadow: 0px 1px 3px 1px rgba(0, 0, 0, 0.15);\n",
              "        filter: drop-shadow(0px 1px 2px rgba(0, 0, 0, 0.3));\n",
              "        fill: #FFFFFF;\n",
              "      }\n",
              "    </style>\n",
              "    <button class=\"colab-df-generate\" onclick=\"generateWithVariable('wine_data')\"\n",
              "            title=\"Generate code using this dataframe.\"\n",
              "            style=\"display:none;\">\n",
              "\n",
              "  <svg xmlns=\"http://www.w3.org/2000/svg\" height=\"24px\"viewBox=\"0 0 24 24\"\n",
              "       width=\"24px\">\n",
              "    <path d=\"M7,19H8.4L18.45,9,17,7.55,7,17.6ZM5,21V16.75L18.45,3.32a2,2,0,0,1,2.83,0l1.4,1.43a1.91,1.91,0,0,1,.58,1.4,1.91,1.91,0,0,1-.58,1.4L9.25,21ZM18.45,9,17,7.55Zm-12,3A5.31,5.31,0,0,0,4.9,8.1,5.31,5.31,0,0,0,1,6.5,5.31,5.31,0,0,0,4.9,4.9,5.31,5.31,0,0,0,6.5,1,5.31,5.31,0,0,0,8.1,4.9,5.31,5.31,0,0,0,12,6.5,5.46,5.46,0,0,0,6.5,12Z\"/>\n",
              "  </svg>\n",
              "    </button>\n",
              "    <script>\n",
              "      (() => {\n",
              "      const buttonEl =\n",
              "        document.querySelector('#id_c9f67a66-d192-40c2-9d67-03373cb7b663 button.colab-df-generate');\n",
              "      buttonEl.style.display =\n",
              "        google.colab.kernel.accessAllowed ? 'block' : 'none';\n",
              "\n",
              "      buttonEl.onclick = () => {\n",
              "        google.colab.notebook.generateWithVariable('wine_data');\n",
              "      }\n",
              "      })();\n",
              "    </script>\n",
              "  </div>\n",
              "\n",
              "    </div>\n",
              "  </div>\n"
            ],
            "application/vnd.google.colaboratory.intrinsic+json": {
              "type": "dataframe",
              "variable_name": "wine_data",
              "summary": "{\n  \"name\": \"wine_data\",\n  \"rows\": 6497,\n  \"fields\": [\n    {\n      \"column\": \"fixed acidity\",\n      \"properties\": {\n        \"dtype\": \"number\",\n        \"std\": 1.2964337577998153,\n        \"min\": 3.8,\n        \"max\": 15.9,\n        \"num_unique_values\": 106,\n        \"samples\": [\n          7.15,\n          8.1,\n          7.3\n        ],\n        \"semantic_type\": \"\",\n        \"description\": \"\"\n      }\n    },\n    {\n      \"column\": \"volatile acidity\",\n      \"properties\": {\n        \"dtype\": \"number\",\n        \"std\": 0.16463647408467877,\n        \"min\": 0.08,\n        \"max\": 1.58,\n        \"num_unique_values\": 187,\n        \"samples\": [\n          0.405,\n          0.21,\n          0.695\n        ],\n        \"semantic_type\": \"\",\n        \"description\": \"\"\n      }\n    },\n    {\n      \"column\": \"citric acid\",\n      \"properties\": {\n        \"dtype\": \"number\",\n        \"std\": 0.14531786489759155,\n        \"min\": 0.0,\n        \"max\": 1.66,\n        \"num_unique_values\": 89,\n        \"samples\": [\n          0.1,\n          0.6,\n          0.37\n        ],\n        \"semantic_type\": \"\",\n        \"description\": \"\"\n      }\n    },\n    {\n      \"column\": \"residual sugar\",\n      \"properties\": {\n        \"dtype\": \"number\",\n        \"std\": 4.757803743147418,\n        \"min\": 0.6,\n        \"max\": 65.8,\n        \"num_unique_values\": 316,\n        \"samples\": [\n          18.95,\n          3.2,\n          9.3\n        ],\n        \"semantic_type\": \"\",\n        \"description\": \"\"\n      }\n    },\n    {\n      \"column\": \"chlorides\",\n      \"properties\": {\n        \"dtype\": \"number\",\n        \"std\": 0.03503360137245907,\n        \"min\": 0.009,\n        \"max\": 0.611,\n        \"num_unique_values\": 214,\n        \"samples\": [\n          0.089,\n          0.217,\n          0.1\n        ],\n        \"semantic_type\": \"\",\n        \"description\": \"\"\n      }\n    },\n    {\n      \"column\": \"free sulfur dioxide\",\n      \"properties\": {\n        \"dtype\": \"number\",\n        \"std\": 17.7493997720025,\n        \"min\": 1.0,\n        \"max\": 289.0,\n        \"num_unique_values\": 135,\n        \"samples\": [\n          77.5,\n          65.0,\n          128.0\n        ],\n        \"semantic_type\": \"\",\n        \"description\": \"\"\n      }\n    },\n    {\n      \"column\": \"total sulfur dioxide\",\n      \"properties\": {\n        \"dtype\": \"number\",\n        \"std\": 56.521854522630285,\n        \"min\": 6.0,\n        \"max\": 440.0,\n        \"num_unique_values\": 276,\n        \"samples\": [\n          14.0,\n          149.0,\n          227.0\n        ],\n        \"semantic_type\": \"\",\n        \"description\": \"\"\n      }\n    },\n    {\n      \"column\": \"density\",\n      \"properties\": {\n        \"dtype\": \"number\",\n        \"std\": 0.0029986730037190393,\n        \"min\": 0.98711,\n        \"max\": 1.03898,\n        \"num_unique_values\": 998,\n        \"samples\": [\n          0.9918,\n          0.99412,\n          0.99484\n        ],\n        \"semantic_type\": \"\",\n        \"description\": \"\"\n      }\n    },\n    {\n      \"column\": \"pH\",\n      \"properties\": {\n        \"dtype\": \"number\",\n        \"std\": 0.16078720210398764,\n        \"min\": 2.72,\n        \"max\": 4.01,\n        \"num_unique_values\": 108,\n        \"samples\": [\n          3.74,\n          3.17,\n          3.3\n        ],\n        \"semantic_type\": \"\",\n        \"description\": \"\"\n      }\n    },\n    {\n      \"column\": \"sulphates\",\n      \"properties\": {\n        \"dtype\": \"number\",\n        \"std\": 0.14880587361449027,\n        \"min\": 0.22,\n        \"max\": 2.0,\n        \"num_unique_values\": 111,\n        \"samples\": [\n          1.11,\n          1.56,\n          0.46\n        ],\n        \"semantic_type\": \"\",\n        \"description\": \"\"\n      }\n    },\n    {\n      \"column\": \"alcohol\",\n      \"properties\": {\n        \"dtype\": \"number\",\n        \"std\": 1.192711748870993,\n        \"min\": 8.0,\n        \"max\": 14.9,\n        \"num_unique_values\": 111,\n        \"samples\": [\n          10.9333333333333,\n          9.7,\n          10.5\n        ],\n        \"semantic_type\": \"\",\n        \"description\": \"\"\n      }\n    },\n    {\n      \"column\": \"quality\",\n      \"properties\": {\n        \"dtype\": \"number\",\n        \"std\": 0,\n        \"min\": 3,\n        \"max\": 9,\n        \"num_unique_values\": 7,\n        \"samples\": [\n          5,\n          6,\n          3\n        ],\n        \"semantic_type\": \"\",\n        \"description\": \"\"\n      }\n    },\n    {\n      \"column\": \"type\",\n      \"properties\": {\n        \"dtype\": \"number\",\n        \"std\": 0,\n        \"min\": 0,\n        \"max\": 1,\n        \"num_unique_values\": 2,\n        \"samples\": [\n          0,\n          1\n        ],\n        \"semantic_type\": \"\",\n        \"description\": \"\"\n      }\n    }\n  ]\n}"
            }
          },
          "metadata": {},
          "execution_count": 24
        }
      ]
    },
    {
      "cell_type": "markdown",
      "source": [
        "Next, we'll split the data set up into training and test sets. This will allow us to run **Cross Validation** on the training sets to determine best model parameters while saving the test set for final model evaluation.\n",
        "\n",
        "For the MLR models, we will be predicting ```alcohol```, so we will drop that column from the predictor sets (```X_``` sets). Conversely, we will set up our prediction output (```y_```) as the column ```alcohol```.\n",
        "\n",
        "If we inspect the source files, we would notice that there is about three times more white wine data than red wine data. When randomly splitting the data, we want to maintain this proportion in both the test and training sets so as not to skew the model's performance. We can do this using the ```stratify=``` argument."
      ],
      "metadata": {
        "id": "uk3CRLHTtc4c"
      }
    },
    {
      "cell_type": "code",
      "source": [
        "X_train, X_test, y_train, y_test = train_test_split(\n",
        "  wine_data.drop(\"alcohol\", axis = 1),\n",
        "  wine_data[\"alcohol\"],\n",
        "  test_size=0.20,\n",
        "  random_state=15,\n",
        "  stratify=wine_data['type'])"
      ],
      "metadata": {
        "id": "SoJKC3rS2CgJ"
      },
      "execution_count": 25,
      "outputs": []
    },
    {
      "cell_type": "markdown",
      "source": [
        "Again, we can take a quick look at the output to see that the data was split appropriately."
      ],
      "metadata": {
        "id": "1OFKzgI4xNzo"
      }
    },
    {
      "cell_type": "code",
      "source": [
        "# X_train.info()\n",
        "# X_test.info()\n",
        "# We won't print the results here in order to save space, but you can quickly check the sizes of each data frame to ensure a 20/80 split."
      ],
      "metadata": {
        "id": "i1MjU-BRgDBH"
      },
      "execution_count": 27,
      "outputs": []
    },
    {
      "cell_type": "markdown",
      "source": [
        "Lastly, we're going to scale our training and test predictors to 0 with a standard deviation of 1. This will help with the model fitting by reducing the variance of our coefficients.\n",
        "\n",
        "***Because the model is fit on the scaled training data, we will need to scale our test data using the training data mean and std***   \n",
        "Therefore, we need to collect the ```mean``` and ```std``` of the testing data to use with the training data ***before*** we scale the training data."
      ],
      "metadata": {
        "id": "dUvS2qDKxtRw"
      }
    },
    {
      "cell_type": "code",
      "source": [
        "means = X_train.apply(np.mean, axis = 0)\n",
        "stds = X_train.apply(np.std, axis = 0)"
      ],
      "metadata": {
        "id": "8moONaLH3cMg"
      },
      "execution_count": 29,
      "outputs": []
    },
    {
      "cell_type": "markdown",
      "source": [
        "We'll use these ```pandaSeries``` a little further down.\n",
        "\n",
        "For now, we'll go ahead and scale our training data using a ```lambda``` function."
      ],
      "metadata": {
        "id": "7WJQQ_3vffgd"
      }
    },
    {
      "cell_type": "code",
      "source": [
        "X_train = X_train.apply(lambda x: (x-np.mean(x))/np.std(x), axis = 0)\n",
        "X_train"
      ],
      "metadata": {
        "colab": {
          "base_uri": "https://localhost:8080/",
          "height": 424
        },
        "id": "EE3VVUeXQak-",
        "outputId": "8776ac08-082f-4d73-d0b8-f07351ae68d5"
      },
      "execution_count": 30,
      "outputs": [
        {
          "output_type": "execute_result",
          "data": {
            "text/plain": [
              "      fixed acidity  volatile acidity  citric acid  residual sugar  chlorides  \\\n",
              "2228      -1.086711         -0.174704     0.084614       -0.884794  -0.562192   \n",
              "6128       0.071818         -0.478993     1.454725        1.509241  -0.251630   \n",
              "2425      -0.314358         -0.539851     0.427142        0.551627  -0.279863   \n",
              "2939      -0.005417         -1.087572     0.016108       -0.968065  -0.449261   \n",
              "5702      -1.163947         -0.174704    -0.257914       -0.281081  -0.731590   \n",
              "...             ...               ...          ...             ...        ...   \n",
              "2971       2.697819         -0.722425     1.660242        0.572445  -0.336329   \n",
              "4960      -0.623299         -1.026714    -0.326420        0.926346  -0.251630   \n",
              "278        2.388878         -0.113846     0.906681        0.197726   0.482426   \n",
              "729       -0.623299          3.202905    -1.970554       -0.468440   0.425960   \n",
              "1391       0.612465          1.833604    -0.668948       -0.634982   1.075318   \n",
              "\n",
              "      free sulfur dioxide  total sulfur dioxide   density        pH  \\\n",
              "2228            -0.415710             -0.285777 -1.020920 -0.242051   \n",
              "6128             1.672485              0.865182  1.227780 -0.985406   \n",
              "2425            -0.360025              0.698249  0.301844  0.687142   \n",
              "2939             1.087790              0.100804 -0.822506  0.315464   \n",
              "5702            -0.471396             -0.514212 -1.344998  0.563249   \n",
              "...                   ...                   ...       ...       ...   \n",
              "2971             0.363883              1.155118  1.095503 -2.162384   \n",
              "4960            -0.248655             -0.250634  0.420893  0.749088   \n",
              "278             -1.418044             -1.796960  0.963227  0.067680   \n",
              "729             -0.192970             -1.006225  0.103430  2.421635   \n",
              "1391            -1.418044             -1.445522  0.473804  0.934926   \n",
              "\n",
              "      sulphates   quality      type  \n",
              "2228   0.470217  0.208377 -0.571351  \n",
              "6128  -0.534629  0.208377 -0.571351  \n",
              "2425   0.403227  0.208377 -0.571351  \n",
              "2939  -1.338505  0.208377 -0.571351  \n",
              "5702  -1.003557  1.353127 -0.571351  \n",
              "...         ...       ...       ...  \n",
              "2971   1.006135  0.208377 -0.571351  \n",
              "4960  -0.199680  0.208377 -0.571351  \n",
              "278    1.943991  2.497878  1.750237  \n",
              "729   -0.266670  0.208377  1.750237  \n",
              "1391   0.336238 -0.936374  1.750237  \n",
              "\n",
              "[5197 rows x 12 columns]"
            ],
            "text/html": [
              "\n",
              "  <div id=\"df-bb8122ff-1063-4fdd-bc59-c3d43439d2aa\" class=\"colab-df-container\">\n",
              "    <div>\n",
              "<style scoped>\n",
              "    .dataframe tbody tr th:only-of-type {\n",
              "        vertical-align: middle;\n",
              "    }\n",
              "\n",
              "    .dataframe tbody tr th {\n",
              "        vertical-align: top;\n",
              "    }\n",
              "\n",
              "    .dataframe thead th {\n",
              "        text-align: right;\n",
              "    }\n",
              "</style>\n",
              "<table border=\"1\" class=\"dataframe\">\n",
              "  <thead>\n",
              "    <tr style=\"text-align: right;\">\n",
              "      <th></th>\n",
              "      <th>fixed acidity</th>\n",
              "      <th>volatile acidity</th>\n",
              "      <th>citric acid</th>\n",
              "      <th>residual sugar</th>\n",
              "      <th>chlorides</th>\n",
              "      <th>free sulfur dioxide</th>\n",
              "      <th>total sulfur dioxide</th>\n",
              "      <th>density</th>\n",
              "      <th>pH</th>\n",
              "      <th>sulphates</th>\n",
              "      <th>quality</th>\n",
              "      <th>type</th>\n",
              "    </tr>\n",
              "  </thead>\n",
              "  <tbody>\n",
              "    <tr>\n",
              "      <th>2228</th>\n",
              "      <td>-1.086711</td>\n",
              "      <td>-0.174704</td>\n",
              "      <td>0.084614</td>\n",
              "      <td>-0.884794</td>\n",
              "      <td>-0.562192</td>\n",
              "      <td>-0.415710</td>\n",
              "      <td>-0.285777</td>\n",
              "      <td>-1.020920</td>\n",
              "      <td>-0.242051</td>\n",
              "      <td>0.470217</td>\n",
              "      <td>0.208377</td>\n",
              "      <td>-0.571351</td>\n",
              "    </tr>\n",
              "    <tr>\n",
              "      <th>6128</th>\n",
              "      <td>0.071818</td>\n",
              "      <td>-0.478993</td>\n",
              "      <td>1.454725</td>\n",
              "      <td>1.509241</td>\n",
              "      <td>-0.251630</td>\n",
              "      <td>1.672485</td>\n",
              "      <td>0.865182</td>\n",
              "      <td>1.227780</td>\n",
              "      <td>-0.985406</td>\n",
              "      <td>-0.534629</td>\n",
              "      <td>0.208377</td>\n",
              "      <td>-0.571351</td>\n",
              "    </tr>\n",
              "    <tr>\n",
              "      <th>2425</th>\n",
              "      <td>-0.314358</td>\n",
              "      <td>-0.539851</td>\n",
              "      <td>0.427142</td>\n",
              "      <td>0.551627</td>\n",
              "      <td>-0.279863</td>\n",
              "      <td>-0.360025</td>\n",
              "      <td>0.698249</td>\n",
              "      <td>0.301844</td>\n",
              "      <td>0.687142</td>\n",
              "      <td>0.403227</td>\n",
              "      <td>0.208377</td>\n",
              "      <td>-0.571351</td>\n",
              "    </tr>\n",
              "    <tr>\n",
              "      <th>2939</th>\n",
              "      <td>-0.005417</td>\n",
              "      <td>-1.087572</td>\n",
              "      <td>0.016108</td>\n",
              "      <td>-0.968065</td>\n",
              "      <td>-0.449261</td>\n",
              "      <td>1.087790</td>\n",
              "      <td>0.100804</td>\n",
              "      <td>-0.822506</td>\n",
              "      <td>0.315464</td>\n",
              "      <td>-1.338505</td>\n",
              "      <td>0.208377</td>\n",
              "      <td>-0.571351</td>\n",
              "    </tr>\n",
              "    <tr>\n",
              "      <th>5702</th>\n",
              "      <td>-1.163947</td>\n",
              "      <td>-0.174704</td>\n",
              "      <td>-0.257914</td>\n",
              "      <td>-0.281081</td>\n",
              "      <td>-0.731590</td>\n",
              "      <td>-0.471396</td>\n",
              "      <td>-0.514212</td>\n",
              "      <td>-1.344998</td>\n",
              "      <td>0.563249</td>\n",
              "      <td>-1.003557</td>\n",
              "      <td>1.353127</td>\n",
              "      <td>-0.571351</td>\n",
              "    </tr>\n",
              "    <tr>\n",
              "      <th>...</th>\n",
              "      <td>...</td>\n",
              "      <td>...</td>\n",
              "      <td>...</td>\n",
              "      <td>...</td>\n",
              "      <td>...</td>\n",
              "      <td>...</td>\n",
              "      <td>...</td>\n",
              "      <td>...</td>\n",
              "      <td>...</td>\n",
              "      <td>...</td>\n",
              "      <td>...</td>\n",
              "      <td>...</td>\n",
              "    </tr>\n",
              "    <tr>\n",
              "      <th>2971</th>\n",
              "      <td>2.697819</td>\n",
              "      <td>-0.722425</td>\n",
              "      <td>1.660242</td>\n",
              "      <td>0.572445</td>\n",
              "      <td>-0.336329</td>\n",
              "      <td>0.363883</td>\n",
              "      <td>1.155118</td>\n",
              "      <td>1.095503</td>\n",
              "      <td>-2.162384</td>\n",
              "      <td>1.006135</td>\n",
              "      <td>0.208377</td>\n",
              "      <td>-0.571351</td>\n",
              "    </tr>\n",
              "    <tr>\n",
              "      <th>4960</th>\n",
              "      <td>-0.623299</td>\n",
              "      <td>-1.026714</td>\n",
              "      <td>-0.326420</td>\n",
              "      <td>0.926346</td>\n",
              "      <td>-0.251630</td>\n",
              "      <td>-0.248655</td>\n",
              "      <td>-0.250634</td>\n",
              "      <td>0.420893</td>\n",
              "      <td>0.749088</td>\n",
              "      <td>-0.199680</td>\n",
              "      <td>0.208377</td>\n",
              "      <td>-0.571351</td>\n",
              "    </tr>\n",
              "    <tr>\n",
              "      <th>278</th>\n",
              "      <td>2.388878</td>\n",
              "      <td>-0.113846</td>\n",
              "      <td>0.906681</td>\n",
              "      <td>0.197726</td>\n",
              "      <td>0.482426</td>\n",
              "      <td>-1.418044</td>\n",
              "      <td>-1.796960</td>\n",
              "      <td>0.963227</td>\n",
              "      <td>0.067680</td>\n",
              "      <td>1.943991</td>\n",
              "      <td>2.497878</td>\n",
              "      <td>1.750237</td>\n",
              "    </tr>\n",
              "    <tr>\n",
              "      <th>729</th>\n",
              "      <td>-0.623299</td>\n",
              "      <td>3.202905</td>\n",
              "      <td>-1.970554</td>\n",
              "      <td>-0.468440</td>\n",
              "      <td>0.425960</td>\n",
              "      <td>-0.192970</td>\n",
              "      <td>-1.006225</td>\n",
              "      <td>0.103430</td>\n",
              "      <td>2.421635</td>\n",
              "      <td>-0.266670</td>\n",
              "      <td>0.208377</td>\n",
              "      <td>1.750237</td>\n",
              "    </tr>\n",
              "    <tr>\n",
              "      <th>1391</th>\n",
              "      <td>0.612465</td>\n",
              "      <td>1.833604</td>\n",
              "      <td>-0.668948</td>\n",
              "      <td>-0.634982</td>\n",
              "      <td>1.075318</td>\n",
              "      <td>-1.418044</td>\n",
              "      <td>-1.445522</td>\n",
              "      <td>0.473804</td>\n",
              "      <td>0.934926</td>\n",
              "      <td>0.336238</td>\n",
              "      <td>-0.936374</td>\n",
              "      <td>1.750237</td>\n",
              "    </tr>\n",
              "  </tbody>\n",
              "</table>\n",
              "<p>5197 rows × 12 columns</p>\n",
              "</div>\n",
              "    <div class=\"colab-df-buttons\">\n",
              "\n",
              "  <div class=\"colab-df-container\">\n",
              "    <button class=\"colab-df-convert\" onclick=\"convertToInteractive('df-bb8122ff-1063-4fdd-bc59-c3d43439d2aa')\"\n",
              "            title=\"Convert this dataframe to an interactive table.\"\n",
              "            style=\"display:none;\">\n",
              "\n",
              "  <svg xmlns=\"http://www.w3.org/2000/svg\" height=\"24px\" viewBox=\"0 -960 960 960\">\n",
              "    <path d=\"M120-120v-720h720v720H120Zm60-500h600v-160H180v160Zm220 220h160v-160H400v160Zm0 220h160v-160H400v160ZM180-400h160v-160H180v160Zm440 0h160v-160H620v160ZM180-180h160v-160H180v160Zm440 0h160v-160H620v160Z\"/>\n",
              "  </svg>\n",
              "    </button>\n",
              "\n",
              "  <style>\n",
              "    .colab-df-container {\n",
              "      display:flex;\n",
              "      gap: 12px;\n",
              "    }\n",
              "\n",
              "    .colab-df-convert {\n",
              "      background-color: #E8F0FE;\n",
              "      border: none;\n",
              "      border-radius: 50%;\n",
              "      cursor: pointer;\n",
              "      display: none;\n",
              "      fill: #1967D2;\n",
              "      height: 32px;\n",
              "      padding: 0 0 0 0;\n",
              "      width: 32px;\n",
              "    }\n",
              "\n",
              "    .colab-df-convert:hover {\n",
              "      background-color: #E2EBFA;\n",
              "      box-shadow: 0px 1px 2px rgba(60, 64, 67, 0.3), 0px 1px 3px 1px rgba(60, 64, 67, 0.15);\n",
              "      fill: #174EA6;\n",
              "    }\n",
              "\n",
              "    .colab-df-buttons div {\n",
              "      margin-bottom: 4px;\n",
              "    }\n",
              "\n",
              "    [theme=dark] .colab-df-convert {\n",
              "      background-color: #3B4455;\n",
              "      fill: #D2E3FC;\n",
              "    }\n",
              "\n",
              "    [theme=dark] .colab-df-convert:hover {\n",
              "      background-color: #434B5C;\n",
              "      box-shadow: 0px 1px 3px 1px rgba(0, 0, 0, 0.15);\n",
              "      filter: drop-shadow(0px 1px 2px rgba(0, 0, 0, 0.3));\n",
              "      fill: #FFFFFF;\n",
              "    }\n",
              "  </style>\n",
              "\n",
              "    <script>\n",
              "      const buttonEl =\n",
              "        document.querySelector('#df-bb8122ff-1063-4fdd-bc59-c3d43439d2aa button.colab-df-convert');\n",
              "      buttonEl.style.display =\n",
              "        google.colab.kernel.accessAllowed ? 'block' : 'none';\n",
              "\n",
              "      async function convertToInteractive(key) {\n",
              "        const element = document.querySelector('#df-bb8122ff-1063-4fdd-bc59-c3d43439d2aa');\n",
              "        const dataTable =\n",
              "          await google.colab.kernel.invokeFunction('convertToInteractive',\n",
              "                                                    [key], {});\n",
              "        if (!dataTable) return;\n",
              "\n",
              "        const docLinkHtml = 'Like what you see? Visit the ' +\n",
              "          '<a target=\"_blank\" href=https://colab.research.google.com/notebooks/data_table.ipynb>data table notebook</a>'\n",
              "          + ' to learn more about interactive tables.';\n",
              "        element.innerHTML = '';\n",
              "        dataTable['output_type'] = 'display_data';\n",
              "        await google.colab.output.renderOutput(dataTable, element);\n",
              "        const docLink = document.createElement('div');\n",
              "        docLink.innerHTML = docLinkHtml;\n",
              "        element.appendChild(docLink);\n",
              "      }\n",
              "    </script>\n",
              "  </div>\n",
              "\n",
              "\n",
              "<div id=\"df-017a04e1-c1d5-491b-9e80-af100c90d141\">\n",
              "  <button class=\"colab-df-quickchart\" onclick=\"quickchart('df-017a04e1-c1d5-491b-9e80-af100c90d141')\"\n",
              "            title=\"Suggest charts\"\n",
              "            style=\"display:none;\">\n",
              "\n",
              "<svg xmlns=\"http://www.w3.org/2000/svg\" height=\"24px\"viewBox=\"0 0 24 24\"\n",
              "     width=\"24px\">\n",
              "    <g>\n",
              "        <path d=\"M19 3H5c-1.1 0-2 .9-2 2v14c0 1.1.9 2 2 2h14c1.1 0 2-.9 2-2V5c0-1.1-.9-2-2-2zM9 17H7v-7h2v7zm4 0h-2V7h2v10zm4 0h-2v-4h2v4z\"/>\n",
              "    </g>\n",
              "</svg>\n",
              "  </button>\n",
              "\n",
              "<style>\n",
              "  .colab-df-quickchart {\n",
              "      --bg-color: #E8F0FE;\n",
              "      --fill-color: #1967D2;\n",
              "      --hover-bg-color: #E2EBFA;\n",
              "      --hover-fill-color: #174EA6;\n",
              "      --disabled-fill-color: #AAA;\n",
              "      --disabled-bg-color: #DDD;\n",
              "  }\n",
              "\n",
              "  [theme=dark] .colab-df-quickchart {\n",
              "      --bg-color: #3B4455;\n",
              "      --fill-color: #D2E3FC;\n",
              "      --hover-bg-color: #434B5C;\n",
              "      --hover-fill-color: #FFFFFF;\n",
              "      --disabled-bg-color: #3B4455;\n",
              "      --disabled-fill-color: #666;\n",
              "  }\n",
              "\n",
              "  .colab-df-quickchart {\n",
              "    background-color: var(--bg-color);\n",
              "    border: none;\n",
              "    border-radius: 50%;\n",
              "    cursor: pointer;\n",
              "    display: none;\n",
              "    fill: var(--fill-color);\n",
              "    height: 32px;\n",
              "    padding: 0;\n",
              "    width: 32px;\n",
              "  }\n",
              "\n",
              "  .colab-df-quickchart:hover {\n",
              "    background-color: var(--hover-bg-color);\n",
              "    box-shadow: 0 1px 2px rgba(60, 64, 67, 0.3), 0 1px 3px 1px rgba(60, 64, 67, 0.15);\n",
              "    fill: var(--button-hover-fill-color);\n",
              "  }\n",
              "\n",
              "  .colab-df-quickchart-complete:disabled,\n",
              "  .colab-df-quickchart-complete:disabled:hover {\n",
              "    background-color: var(--disabled-bg-color);\n",
              "    fill: var(--disabled-fill-color);\n",
              "    box-shadow: none;\n",
              "  }\n",
              "\n",
              "  .colab-df-spinner {\n",
              "    border: 2px solid var(--fill-color);\n",
              "    border-color: transparent;\n",
              "    border-bottom-color: var(--fill-color);\n",
              "    animation:\n",
              "      spin 1s steps(1) infinite;\n",
              "  }\n",
              "\n",
              "  @keyframes spin {\n",
              "    0% {\n",
              "      border-color: transparent;\n",
              "      border-bottom-color: var(--fill-color);\n",
              "      border-left-color: var(--fill-color);\n",
              "    }\n",
              "    20% {\n",
              "      border-color: transparent;\n",
              "      border-left-color: var(--fill-color);\n",
              "      border-top-color: var(--fill-color);\n",
              "    }\n",
              "    30% {\n",
              "      border-color: transparent;\n",
              "      border-left-color: var(--fill-color);\n",
              "      border-top-color: var(--fill-color);\n",
              "      border-right-color: var(--fill-color);\n",
              "    }\n",
              "    40% {\n",
              "      border-color: transparent;\n",
              "      border-right-color: var(--fill-color);\n",
              "      border-top-color: var(--fill-color);\n",
              "    }\n",
              "    60% {\n",
              "      border-color: transparent;\n",
              "      border-right-color: var(--fill-color);\n",
              "    }\n",
              "    80% {\n",
              "      border-color: transparent;\n",
              "      border-right-color: var(--fill-color);\n",
              "      border-bottom-color: var(--fill-color);\n",
              "    }\n",
              "    90% {\n",
              "      border-color: transparent;\n",
              "      border-bottom-color: var(--fill-color);\n",
              "    }\n",
              "  }\n",
              "</style>\n",
              "\n",
              "  <script>\n",
              "    async function quickchart(key) {\n",
              "      const quickchartButtonEl =\n",
              "        document.querySelector('#' + key + ' button');\n",
              "      quickchartButtonEl.disabled = true;  // To prevent multiple clicks.\n",
              "      quickchartButtonEl.classList.add('colab-df-spinner');\n",
              "      try {\n",
              "        const charts = await google.colab.kernel.invokeFunction(\n",
              "            'suggestCharts', [key], {});\n",
              "      } catch (error) {\n",
              "        console.error('Error during call to suggestCharts:', error);\n",
              "      }\n",
              "      quickchartButtonEl.classList.remove('colab-df-spinner');\n",
              "      quickchartButtonEl.classList.add('colab-df-quickchart-complete');\n",
              "    }\n",
              "    (() => {\n",
              "      let quickchartButtonEl =\n",
              "        document.querySelector('#df-017a04e1-c1d5-491b-9e80-af100c90d141 button');\n",
              "      quickchartButtonEl.style.display =\n",
              "        google.colab.kernel.accessAllowed ? 'block' : 'none';\n",
              "    })();\n",
              "  </script>\n",
              "</div>\n",
              "\n",
              "  <div id=\"id_71e67c71-cd8a-4d52-a5c8-45fed05f5bf9\">\n",
              "    <style>\n",
              "      .colab-df-generate {\n",
              "        background-color: #E8F0FE;\n",
              "        border: none;\n",
              "        border-radius: 50%;\n",
              "        cursor: pointer;\n",
              "        display: none;\n",
              "        fill: #1967D2;\n",
              "        height: 32px;\n",
              "        padding: 0 0 0 0;\n",
              "        width: 32px;\n",
              "      }\n",
              "\n",
              "      .colab-df-generate:hover {\n",
              "        background-color: #E2EBFA;\n",
              "        box-shadow: 0px 1px 2px rgba(60, 64, 67, 0.3), 0px 1px 3px 1px rgba(60, 64, 67, 0.15);\n",
              "        fill: #174EA6;\n",
              "      }\n",
              "\n",
              "      [theme=dark] .colab-df-generate {\n",
              "        background-color: #3B4455;\n",
              "        fill: #D2E3FC;\n",
              "      }\n",
              "\n",
              "      [theme=dark] .colab-df-generate:hover {\n",
              "        background-color: #434B5C;\n",
              "        box-shadow: 0px 1px 3px 1px rgba(0, 0, 0, 0.15);\n",
              "        filter: drop-shadow(0px 1px 2px rgba(0, 0, 0, 0.3));\n",
              "        fill: #FFFFFF;\n",
              "      }\n",
              "    </style>\n",
              "    <button class=\"colab-df-generate\" onclick=\"generateWithVariable('X_train')\"\n",
              "            title=\"Generate code using this dataframe.\"\n",
              "            style=\"display:none;\">\n",
              "\n",
              "  <svg xmlns=\"http://www.w3.org/2000/svg\" height=\"24px\"viewBox=\"0 0 24 24\"\n",
              "       width=\"24px\">\n",
              "    <path d=\"M7,19H8.4L18.45,9,17,7.55,7,17.6ZM5,21V16.75L18.45,3.32a2,2,0,0,1,2.83,0l1.4,1.43a1.91,1.91,0,0,1,.58,1.4,1.91,1.91,0,0,1-.58,1.4L9.25,21ZM18.45,9,17,7.55Zm-12,3A5.31,5.31,0,0,0,4.9,8.1,5.31,5.31,0,0,0,1,6.5,5.31,5.31,0,0,0,4.9,4.9,5.31,5.31,0,0,0,6.5,1,5.31,5.31,0,0,0,8.1,4.9,5.31,5.31,0,0,0,12,6.5,5.46,5.46,0,0,0,6.5,12Z\"/>\n",
              "  </svg>\n",
              "    </button>\n",
              "    <script>\n",
              "      (() => {\n",
              "      const buttonEl =\n",
              "        document.querySelector('#id_71e67c71-cd8a-4d52-a5c8-45fed05f5bf9 button.colab-df-generate');\n",
              "      buttonEl.style.display =\n",
              "        google.colab.kernel.accessAllowed ? 'block' : 'none';\n",
              "\n",
              "      buttonEl.onclick = () => {\n",
              "        google.colab.notebook.generateWithVariable('X_train');\n",
              "      }\n",
              "      })();\n",
              "    </script>\n",
              "  </div>\n",
              "\n",
              "    </div>\n",
              "  </div>\n"
            ],
            "application/vnd.google.colaboratory.intrinsic+json": {
              "type": "dataframe",
              "variable_name": "X_train",
              "summary": "{\n  \"name\": \"X_train\",\n  \"rows\": 5197,\n  \"fields\": [\n    {\n      \"column\": \"fixed acidity\",\n      \"properties\": {\n        \"dtype\": \"number\",\n        \"std\": 1.000096223238135,\n        \"min\": -2.554182190795184,\n        \"max\": 6.714054782113918,\n        \"num_unique_values\": 104,\n        \"samples\": [\n          1.6937597551214878,\n          3.6246424578108836,\n          1.6165244470139122\n        ],\n        \"semantic_type\": \"\",\n        \"description\": \"\"\n      }\n    },\n    {\n      \"column\": \"volatile acidity\",\n      \"properties\": {\n        \"dtype\": \"number\",\n        \"std\": 1.0000962232381347,\n        \"min\": -1.5744341053300175,\n        \"max\": 7.554239058002189,\n        \"num_unique_values\": 180,\n        \"samples\": [\n          1.2858834858474075,\n          1.7118882334695769,\n          2.5334688181694753\n        ],\n        \"semantic_type\": \"\",\n        \"description\": \"\"\n      }\n    },\n    {\n      \"column\": \"citric acid\",\n      \"properties\": {\n        \"dtype\": \"number\",\n        \"std\": 1.0000962232381347,\n        \"min\": -2.1760703645803985,\n        \"max\": 9.195855439954553,\n        \"num_unique_values\": 89,\n        \"samples\": [\n          -2.107564787444646,\n          1.8657586864290114,\n          0.15311925803519397\n        ],\n        \"semantic_type\": \"\",\n        \"description\": \"\"\n      }\n    },\n    {\n      \"column\": \"residual sugar\",\n      \"properties\": {\n        \"dtype\": \"number\",\n        \"std\": 1.0000962232381347,\n        \"min\": -1.0097005070620428,\n        \"max\": 12.563439853366164,\n        \"num_unique_values\": 303,\n        \"samples\": [\n          1.7382358849264905,\n          1.686191635078223,\n          0.09363758972123198\n        ],\n        \"semantic_type\": \"\",\n        \"description\": \"\"\n      }\n    },\n    {\n      \"column\": \"chlorides\",\n      \"properties\": {\n        \"dtype\": \"number\",\n        \"std\": 1.0000962232381345,\n        \"min\": -1.2397827209954477,\n        \"max\": 15.671744747989765,\n        \"num_unique_values\": 201,\n        \"samples\": [\n          -1.0986180509705294,\n          8.83937471878372,\n          -0.08223242679111768\n        ],\n        \"semantic_type\": \"\",\n        \"description\": \"\"\n      }\n    },\n    {\n      \"column\": \"free sulfur dioxide\",\n      \"properties\": {\n        \"dtype\": \"number\",\n        \"std\": 1.0000962232381347,\n        \"min\": -1.6407851611718844,\n        \"max\": 14.396556724669772,\n        \"num_unique_values\": 131,\n        \"samples\": [\n          -1.0282477974765434,\n          0.47525300432111195,\n          0.3638825745583227\n        ],\n        \"semantic_type\": \"\",\n        \"description\": \"\"\n      }\n    },\n    {\n      \"column\": \"total sulfur dioxide\",\n      \"properties\": {\n        \"dtype\": \"number\",\n        \"std\": 1.0000962232381345,\n        \"min\": -1.9199634206362726,\n        \"max\": 5.706238002328185,\n        \"num_unique_values\": 271,\n        \"samples\": [\n          -0.4614963282260194,\n          1.9809967542441638,\n          0.6631048032710434\n        ],\n        \"semantic_type\": \"\",\n        \"description\": \"\"\n      }\n    },\n    {\n      \"column\": \"density\",\n      \"properties\": {\n        \"dtype\": \"number\",\n        \"std\": 1.0000962232381347,\n        \"min\": -2.4991099074263445,\n        \"max\": 14.647227233403658,\n        \"num_unique_values\": 942,\n        \"samples\": [\n          -0.4322900977794997,\n          0.28200282843441976,\n          0.32499268047509816\n        ],\n        \"semantic_type\": \"\",\n        \"description\": \"\"\n      }\n    },\n    {\n      \"column\": \"pH\",\n      \"properties\": {\n        \"dtype\": \"number\",\n        \"std\": 1.0000962232381347,\n        \"min\": -3.0915766886499796,\n        \"max\": 4.899483162634867,\n        \"num_unique_values\": 108,\n        \"samples\": [\n          1.9880117439496912,\n          -0.6137286727477013,\n          0.5632491348058809\n        ],\n        \"semantic_type\": \"\",\n        \"description\": \"\"\n      }\n    },\n    {\n      \"column\": \"sulphates\",\n      \"properties\": {\n        \"dtype\": \"number\",\n        \"std\": 1.0000962232381345,\n        \"min\": -2.0753924365905405,\n        \"max\": 9.848778436396751,\n        \"num_unique_values\": 106,\n        \"samples\": [\n          3.8866929999031057,\n          3.819703275897559,\n          -1.0035568525017953\n        ],\n        \"semantic_type\": \"\",\n        \"description\": \"\"\n      }\n    },\n    {\n      \"column\": \"quality\",\n      \"properties\": {\n        \"dtype\": \"number\",\n        \"std\": 1.0000962232381345,\n        \"min\": -3.2258750044385143,\n        \"max\": 3.642628538641155,\n        \"num_unique_values\": 7,\n        \"samples\": [\n          0.2083767671013203,\n          1.3531273576145986,\n          2.4978779481278766\n        ],\n        \"semantic_type\": \"\",\n        \"description\": \"\"\n      }\n    },\n    {\n      \"column\": \"type\",\n      \"properties\": {\n        \"dtype\": \"number\",\n        \"std\": 1.0000962232381347,\n        \"min\": -0.5713510849527388,\n        \"max\": 1.7502373345151139,\n        \"num_unique_values\": 2,\n        \"samples\": [\n          1.7502373345151139,\n          -0.5713510849527388\n        ],\n        \"semantic_type\": \"\",\n        \"description\": \"\"\n      }\n    }\n  ]\n}"
            }
          },
          "metadata": {},
          "execution_count": 30
        }
      ]
    },
    {
      "cell_type": "markdown",
      "source": [
        "# Linear Regression"
      ],
      "metadata": {
        "id": "S7a1b5STlQwo"
      }
    },
    {
      "cell_type": "markdown",
      "source": [
        "## Multiple Linear Regression"
      ],
      "metadata": {
        "id": "EtzQOfqVk4Nf"
      }
    },
    {
      "cell_type": "markdown",
      "source": [
        "Now we are ready to fit some models!\n",
        "\n",
        "First, let's fit a few ***Multiple Linear Regression*** models with varying features or predictors. We can use ***Cross Validation*** (**CV**) to score the performance of the fitted model. Once we have fitted a few **MLR** models with **CV**, we can then compare the **CV** scores and determine which fit had the best performance. The model with the best performance will then be used to fit the whole test set."
      ],
      "metadata": {
        "id": "ACtJvZkWf8wX"
      }
    },
    {
      "cell_type": "markdown",
      "source": [
        "Full MLR\n",
        "\n",
        "For this model, we use all the features in the training set. The function ```cross_validate()``` takes in the arguments ```LinearRegression()``` as the model type, the predictor values (```X_```), the response value (```y_```), the number of cross validation folds (```cv```), and a scoring metric. For the **MLR** models, we will use **negative mean squared errro.**"
      ],
      "metadata": {
        "id": "2ZXuzkQ1jCng"
      }
    },
    {
      "cell_type": "code",
      "source": [
        "full_mlr_cv = cross_validate(\n",
        "    LinearRegression(),\n",
        "    X_train,\n",
        "    y_train,\n",
        "    cv=5,\n",
        "    scoring = 'neg_mean_squared_error')"
      ],
      "metadata": {
        "id": "SdmQzxTSUXae"
      },
      "execution_count": 31,
      "outputs": []
    },
    {
      "cell_type": "markdown",
      "source": [
        "Let's look at the results for each fold."
      ],
      "metadata": {
        "id": "qyp57fLXkcfg"
      }
    },
    {
      "cell_type": "code",
      "source": [
        "full_mlr_cv['test_score']"
      ],
      "metadata": {
        "colab": {
          "base_uri": "https://localhost:8080/"
        },
        "id": "1mDVIrz1Var5",
        "outputId": "89c6f559-2090-4756-f785-c6969cc1bb34"
      },
      "execution_count": 32,
      "outputs": [
        {
          "output_type": "execute_result",
          "data": {
            "text/plain": [
              "array([-0.25396337, -0.20616874, -0.19578511, -0.47696453, -0.20807482])"
            ]
          },
          "metadata": {},
          "execution_count": 32
        }
      ]
    },
    {
      "cell_type": "markdown",
      "source": [
        "Selected MLR\n",
        "\n",
        "For this model, we'll do the same as above except instead of selecting all the features, we'll only select a few."
      ],
      "metadata": {
        "id": "lKdQoEVCY7y_"
      }
    },
    {
      "cell_type": "code",
      "source": [
        "part_mlr_cv = cross_validate(\n",
        "    LinearRegression(),\n",
        "    X_train[['residual sugar', 'density', 'pH', 'sulphates']],\n",
        "    y_train,\n",
        "    cv=5,\n",
        "    scoring = 'neg_mean_squared_error')"
      ],
      "metadata": {
        "id": "XqaTGqL5VvdF"
      },
      "execution_count": 33,
      "outputs": []
    },
    {
      "cell_type": "code",
      "source": [
        "part_mlr_cv['test_score']"
      ],
      "metadata": {
        "colab": {
          "base_uri": "https://localhost:8080/"
        },
        "id": "tK3OmwIMW-3H",
        "outputId": "d5d7c2b9-5ce6-4db1-b310-250007ab6a88"
      },
      "execution_count": 34,
      "outputs": [
        {
          "output_type": "execute_result",
          "data": {
            "text/plain": [
              "array([-0.70380477, -0.71255881, -0.57263128, -0.81646771, -0.5653009 ])"
            ]
          },
          "metadata": {},
          "execution_count": 34
        }
      ]
    },
    {
      "cell_type": "markdown",
      "source": [
        "Interaction MLR\n",
        "\n",
        "In order to inlcude interaction terms, we'll need to transform the predictor variables/features to include interactions (```feature_1 * feature_2```). Use ```PolynomialFeatures()``` to do this: set ```interaction_only``` to ```True``` and apply to ```X_train``` with the selected features. This produces a data frame of the selected variables along with their interactions."
      ],
      "metadata": {
        "id": "jz5cgnbWZHeY"
      }
    },
    {
      "cell_type": "code",
      "source": [
        "poly = PolynomialFeatures(interaction_only=True, include_bias=False)\n",
        "interaction_mlr_cv = cross_validate(\n",
        "    LinearRegression(),\n",
        "    poly.fit_transform(X_train[['fixed acidity', 'citric acid', 'residual sugar', 'density', 'pH', 'sulphates']]),\n",
        "    y_train,\n",
        "    cv=5,\n",
        "    scoring='neg_mean_squared_error')"
      ],
      "metadata": {
        "id": "ES90LpCdXee0"
      },
      "execution_count": 35,
      "outputs": []
    },
    {
      "cell_type": "code",
      "source": [
        "interaction_mlr_cv['test_score']"
      ],
      "metadata": {
        "colab": {
          "base_uri": "https://localhost:8080/"
        },
        "id": "LbrXj1GqYyHb",
        "outputId": "938bc612-649a-4df1-bbfa-cff3fcdbedf2"
      },
      "execution_count": 36,
      "outputs": [
        {
          "output_type": "execute_result",
          "data": {
            "text/plain": [
              "array([-0.34990485, -0.3191202 , -0.27593181, -0.52736628, -0.28915516])"
            ]
          },
          "metadata": {},
          "execution_count": 36
        }
      ]
    },
    {
      "cell_type": "markdown",
      "source": [
        "Polynomial MLR\n",
        "\n",
        "Polynomial features can also be included using ```PolynomialFeatures()```. Instead of the ```interaction_only``` argument, use ```degree=``` and enter the number of degrees you wish to include. Transform the predictor variables the same as above."
      ],
      "metadata": {
        "id": "rX3auIOWZKaL"
      }
    },
    {
      "cell_type": "code",
      "source": [
        "poly = PolynomialFeatures(degree=2, include_bias=False)\n",
        "poly_mlr_cv = cross_validate(\n",
        "    LinearRegression(),\n",
        "    poly.fit_transform(X_train[['fixed acidity', 'citric acid', 'residual sugar', 'total sulfur dioxide', 'density', 'sulphates']]),\n",
        "    y_train,\n",
        "    cv=5,\n",
        "    scoring='neg_mean_squared_error')"
      ],
      "metadata": {
        "id": "E4u_hNsaY3o1"
      },
      "execution_count": 37,
      "outputs": []
    },
    {
      "cell_type": "code",
      "source": [
        "poly_mlr_cv['test_score']"
      ],
      "metadata": {
        "colab": {
          "base_uri": "https://localhost:8080/"
        },
        "id": "LYrv2lZGbyZN",
        "outputId": "76605301-bceb-4201-9169-4a1910afe586"
      },
      "execution_count": 38,
      "outputs": [
        {
          "output_type": "execute_result",
          "data": {
            "text/plain": [
              "array([-0.3801997 , -0.34820705, -0.31465346, -0.33930002, -0.35856483])"
            ]
          },
          "metadata": {},
          "execution_count": 38
        }
      ]
    },
    {
      "cell_type": "markdown",
      "source": [
        "Determine best MLR model\n",
        "\n",
        "Now we have scoring results from four different **MLR**'s. Let's transform these results into **Root Mean Squared Errors** (**RMSE**) and select the best score. Take the negative mean of all five negative mean squared errors (thus making it positive) and take it's square root."
      ],
      "metadata": {
        "id": "p9osyvwCcleI"
      }
    },
    {
      "cell_type": "code",
      "source": [
        "print({'full mlr:': np.sqrt(-np.mean(full_mlr_cv['test_score'])),\n",
        "      'part mlr:': np.sqrt(-np.mean(part_mlr_cv['test_score'])),\n",
        "      'interaction_mlr_cv:': np.sqrt(-np.mean(interaction_mlr_cv['test_score'])),\n",
        "      'poly mlr:': np.sqrt(-np.mean(poly_mlr_cv['test_score']))})\n"
      ],
      "metadata": {
        "colab": {
          "base_uri": "https://localhost:8080/"
        },
        "id": "ck8Q8ZYucyvm",
        "outputId": "47b2b39b-1c68-49dd-c4f5-5184e09d2bbc"
      },
      "execution_count": 39,
      "outputs": [
        {
          "output_type": "stream",
          "name": "stdout",
          "text": [
            "{'full mlr:': 0.5178719099853325, 'part mlr:': 0.8210680214674717, 'interaction_mlr_cv:': 0.5935449940117055, 'poly mlr:': 0.5900720413099979}\n"
          ]
        }
      ]
    },
    {
      "cell_type": "markdown",
      "source": [
        "It looks like the full fit MLR has the best RMSE!\n",
        "\n",
        "Let's go ahead and fit this model to the full test set."
      ],
      "metadata": {
        "id": "7uHofkhvqIYM"
      }
    },
    {
      "cell_type": "code",
      "source": [
        "mlr_best = LinearRegression().fit(\n",
        "    X_train,\n",
        "    y_train)"
      ],
      "metadata": {
        "id": "hZAXQxTKkvuo"
      },
      "execution_count": 40,
      "outputs": []
    },
    {
      "cell_type": "markdown",
      "source": [
        "## LASSO"
      ],
      "metadata": {
        "id": "RdepAshooAwB"
      }
    },
    {
      "cell_type": "markdown",
      "source": [
        "LASSO utilizes a 'penalty' value to determine a best fit model. This tuning parameter can shrink some coefficients to zero, thus eliminating the feature from the model. Thus the LASSO is a variable selection model.\n",
        "\n",
        "To determine the best parameters for the LASSO, we'll run ```LassoCV``` and give it a range of ```alphas``` to run through and determine optimal fit."
      ],
      "metadata": {
        "id": "ivr_saqzqZb1"
      }
    },
    {
      "cell_type": "code",
      "source": [
        "lasso_mod = LassoCV(n_alphas=100, cv=5, random_state=55) \\\n",
        "    .fit(X_train,\n",
        "         y_train)"
      ],
      "metadata": {
        "id": "T8cVoETumAqd"
      },
      "execution_count": 41,
      "outputs": []
    },
    {
      "cell_type": "markdown",
      "source": [
        "Inspect the selected ```alpha``` value."
      ],
      "metadata": {
        "id": "ZQOEVKkYvBId"
      }
    },
    {
      "cell_type": "code",
      "source": [
        "lasso_mod.alpha_"
      ],
      "metadata": {
        "colab": {
          "base_uri": "https://localhost:8080/"
        },
        "id": "t-BrADdxnHOf",
        "outputId": "7283c98e-319e-4626-9104-c67301ae09e5"
      },
      "execution_count": 42,
      "outputs": [
        {
          "output_type": "execute_result",
          "data": {
            "text/plain": [
              "0.0023165833890366936"
            ]
          },
          "metadata": {},
          "execution_count": 42
        }
      ]
    },
    {
      "cell_type": "markdown",
      "source": [
        "Use the selected ```alpha``` value to fit a LASSO regression on the full data set."
      ],
      "metadata": {
        "id": "F67dZTXjvKSJ"
      }
    },
    {
      "cell_type": "code",
      "source": [
        "lasso_best = Lasso(lasso_mod.alpha_).fit(X_train, y_train)"
      ],
      "metadata": {
        "id": "otEqGzAFptRL"
      },
      "execution_count": 43,
      "outputs": []
    },
    {
      "cell_type": "markdown",
      "source": [
        "## Ridge"
      ],
      "metadata": {
        "id": "StUqAjYfxGhU"
      }
    },
    {
      "cell_type": "markdown",
      "source": [
        "Ridge is another method that shrinks coefficients to determine best fit. It is useful when there is a high degree of multicollinearity. Similar to running a LASSO, we'll utilize ```RidgeCV()``` and pass it a range of ```alphas``` to run through. ```RidgeCV()``` will select the best parameters."
      ],
      "metadata": {
        "id": "GAVFd1IUqFTc"
      }
    },
    {
      "cell_type": "code",
      "source": [
        "ridge_mod = RidgeCV(alphas = np.arange(0.1, 10, 0.1).tolist(), cv=5) \\\n",
        "  .fit(X_train, y_train)"
      ],
      "metadata": {
        "id": "kjQOCkQWqGwd"
      },
      "execution_count": 44,
      "outputs": []
    },
    {
      "cell_type": "markdown",
      "source": [
        "Inspect the selected ```alpha``` value."
      ],
      "metadata": {
        "id": "neyTRcZDwwRF"
      }
    },
    {
      "cell_type": "code",
      "source": [
        "ridge_mod.alpha_"
      ],
      "metadata": {
        "colab": {
          "base_uri": "https://localhost:8080/"
        },
        "id": "UXC_EJ21tBZv",
        "outputId": "e9db3fda-e101-48bb-8675-d3de5a88c3c7"
      },
      "execution_count": 45,
      "outputs": [
        {
          "output_type": "execute_result",
          "data": {
            "text/plain": [
              "5.0"
            ]
          },
          "metadata": {},
          "execution_count": 45
        }
      ]
    },
    {
      "cell_type": "markdown",
      "source": [
        "Use the selected ```alpha``` value to to fit the Ridge Regression on the full data set."
      ],
      "metadata": {
        "id": "u2RLPT5iw1Zv"
      }
    },
    {
      "cell_type": "code",
      "source": [
        "ridge_best = Ridge(ridge_mod.alpha_).fit(X_train, y_train)"
      ],
      "metadata": {
        "id": "nziiZdg8vNzM"
      },
      "execution_count": 46,
      "outputs": []
    },
    {
      "cell_type": "markdown",
      "source": [
        "## ElasticNet"
      ],
      "metadata": {
        "id": "3cNiBE1jzcZC"
      }
    },
    {
      "cell_type": "markdown",
      "source": [
        "Elastic Net is a combination of both LASSO and Ridge ```alpha``` values. The proportion of the ```alpha``` value that is used in calculating the LASSO penalty and the Ridge penalty is called the l1 ratio. (l1 for the LASSO portion and 1-l1 for the Ridge portion).\n",
        "\n",
        "To cross validate a Ridge model, use ```ElasticNetCV()``` and pass it a list of l1 ratio values. The cross validation will select the best l1 ratio and alpha value."
      ],
      "metadata": {
        "id": "yaa237rOxObm"
      }
    },
    {
      "cell_type": "code",
      "source": [
        "EN_mod = ElasticNetCV(l1_ratio = [.1, .5, .7, .9, .95, .99, 1], cv =5, random_state = 55) \\\n",
        "  .fit(X_train, y_train)"
      ],
      "metadata": {
        "id": "7A5enxDf2Dw7"
      },
      "execution_count": 47,
      "outputs": []
    },
    {
      "cell_type": "markdown",
      "source": [
        "Inspect the ```alpha``` value as on previous models."
      ],
      "metadata": {
        "id": "Y11LmSMczAaH"
      }
    },
    {
      "cell_type": "code",
      "source": [
        "EN_mod.alpha_"
      ],
      "metadata": {
        "colab": {
          "base_uri": "https://localhost:8080/"
        },
        "id": "0mE7XjwZ3rnP",
        "outputId": "f3d4f3ed-67ea-4c33-d0b0-513ce1b9594b"
      },
      "execution_count": 48,
      "outputs": [
        {
          "output_type": "execute_result",
          "data": {
            "text/plain": [
              "0.0023165833890366936"
            ]
          },
          "metadata": {},
          "execution_count": 48
        }
      ]
    },
    {
      "cell_type": "markdown",
      "source": [
        "But we can also inspect the selected l1 ratio."
      ],
      "metadata": {
        "id": "4uKMmVZ9zEsV"
      }
    },
    {
      "cell_type": "code",
      "source": [
        "EN_mod.l1_ratio_"
      ],
      "metadata": {
        "colab": {
          "base_uri": "https://localhost:8080/"
        },
        "id": "AE4d4dGA32mE",
        "outputId": "f4128aca-e401-49e5-ff7d-50cb0bbb0932"
      },
      "execution_count": 49,
      "outputs": [
        {
          "output_type": "execute_result",
          "data": {
            "text/plain": [
              "1.0"
            ]
          },
          "metadata": {},
          "execution_count": 49
        }
      ]
    },
    {
      "cell_type": "markdown",
      "source": [
        "Here, the l1 ratio is 1, which is the equivalent of a LASSO model (i.e., there was no combination of the two models).\n",
        "\n",
        "Normally, we would go ahead and fit the model on the full data set using the selected ```alpha``` and ```l1_ratio```. But since that would be the same as the LASSO model, we'll alter the ```l1_ratio``` to 0.9 so the model will differ from the LASSO."
      ],
      "metadata": {
        "id": "GTUL5_EIzTx9"
      }
    },
    {
      "cell_type": "code",
      "source": [
        "EN_best = ElasticNet(alpha=EN_mod.alpha_, l1_ratio=0.9).fit(X_train, y_train)"
      ],
      "metadata": {
        "id": "dNQQSyIR4Mcn"
      },
      "execution_count": 50,
      "outputs": []
    },
    {
      "cell_type": "markdown",
      "source": [
        "## Compare Best Linear Models"
      ],
      "metadata": {
        "id": "854soDlu4usv"
      }
    },
    {
      "cell_type": "markdown",
      "source": [
        "Before we compare the results of the models, we'll need to scale our test set the same as we did for our train set. Remember earlier that we saved the mean and stds of the train set? Now we'll use those values to scale the test set!\n",
        "\n",
        "Write a quick function to take in a series or column of data and scale each element by subtracting it from the mean and dividing by the std. Then run that function in a ```for loop```, iterating over the columns of the test set."
      ],
      "metadata": {
        "id": "SEvbbDzA0Zzv"
      }
    },
    {
      "cell_type": "code",
      "source": [
        "def my_std_fun(x, means, stds):\n",
        "    return(x-means)/stds\n",
        "#loop through the columns and use the function on each\n",
        "for x in X_test.columns:\n",
        "    X_test[x] = my_std_fun(X_test[x], means[x], stds[x])\n",
        "X_test.head()"
      ],
      "metadata": {
        "colab": {
          "base_uri": "https://localhost:8080/",
          "height": 206
        },
        "id": "1N5QUmWS4xqW",
        "outputId": "8a298cb2-67d0-42b3-c887-06493f246251"
      },
      "execution_count": 51,
      "outputs": [
        {
          "output_type": "execute_result",
          "data": {
            "text/plain": [
              "      fixed acidity  volatile acidity  citric acid  residual sugar  chlorides  \\\n",
              "4969      -0.932241         -0.296420    -0.463431       -0.843159  -0.646891   \n",
              "2982      -0.082652          0.129585     1.660242       -0.863977  -0.279863   \n",
              "5553      -0.700535         -0.052989    -0.805959        2.591762   0.284796   \n",
              "5727      -0.468829         -0.052989     0.016108        2.112954  -0.053999   \n",
              "2077      -0.082652          1.285883    -1.285498       -0.780706   0.482426   \n",
              "\n",
              "      free sulfur dioxide  total sulfur dioxide   density        pH  \\\n",
              "4969            -0.025914             -0.022199 -2.231250 -0.861513   \n",
              "2982            -0.304340             -0.233062 -0.789437  0.129626   \n",
              "5553             0.308197              0.803680  1.459263 -0.489836   \n",
              "5727             1.756013              1.963425  0.877247  0.191572   \n",
              "2077            -0.527081              0.873968 -0.227262 -1.542922   \n",
              "\n",
              "      sulphates   quality      type  \n",
              "4969  -0.668608  0.208377 -0.571351  \n",
              "2982  -1.338505  0.208377 -0.571351  \n",
              "5553  -0.132690 -0.936374 -0.571351  \n",
              "5727   0.202258 -0.936374 -0.571351  \n",
              "2077   0.336238  0.208377 -0.571351  "
            ],
            "text/html": [
              "\n",
              "  <div id=\"df-3212be65-9215-4ecb-9da4-e9d988c6dee8\" class=\"colab-df-container\">\n",
              "    <div>\n",
              "<style scoped>\n",
              "    .dataframe tbody tr th:only-of-type {\n",
              "        vertical-align: middle;\n",
              "    }\n",
              "\n",
              "    .dataframe tbody tr th {\n",
              "        vertical-align: top;\n",
              "    }\n",
              "\n",
              "    .dataframe thead th {\n",
              "        text-align: right;\n",
              "    }\n",
              "</style>\n",
              "<table border=\"1\" class=\"dataframe\">\n",
              "  <thead>\n",
              "    <tr style=\"text-align: right;\">\n",
              "      <th></th>\n",
              "      <th>fixed acidity</th>\n",
              "      <th>volatile acidity</th>\n",
              "      <th>citric acid</th>\n",
              "      <th>residual sugar</th>\n",
              "      <th>chlorides</th>\n",
              "      <th>free sulfur dioxide</th>\n",
              "      <th>total sulfur dioxide</th>\n",
              "      <th>density</th>\n",
              "      <th>pH</th>\n",
              "      <th>sulphates</th>\n",
              "      <th>quality</th>\n",
              "      <th>type</th>\n",
              "    </tr>\n",
              "  </thead>\n",
              "  <tbody>\n",
              "    <tr>\n",
              "      <th>4969</th>\n",
              "      <td>-0.932241</td>\n",
              "      <td>-0.296420</td>\n",
              "      <td>-0.463431</td>\n",
              "      <td>-0.843159</td>\n",
              "      <td>-0.646891</td>\n",
              "      <td>-0.025914</td>\n",
              "      <td>-0.022199</td>\n",
              "      <td>-2.231250</td>\n",
              "      <td>-0.861513</td>\n",
              "      <td>-0.668608</td>\n",
              "      <td>0.208377</td>\n",
              "      <td>-0.571351</td>\n",
              "    </tr>\n",
              "    <tr>\n",
              "      <th>2982</th>\n",
              "      <td>-0.082652</td>\n",
              "      <td>0.129585</td>\n",
              "      <td>1.660242</td>\n",
              "      <td>-0.863977</td>\n",
              "      <td>-0.279863</td>\n",
              "      <td>-0.304340</td>\n",
              "      <td>-0.233062</td>\n",
              "      <td>-0.789437</td>\n",
              "      <td>0.129626</td>\n",
              "      <td>-1.338505</td>\n",
              "      <td>0.208377</td>\n",
              "      <td>-0.571351</td>\n",
              "    </tr>\n",
              "    <tr>\n",
              "      <th>5553</th>\n",
              "      <td>-0.700535</td>\n",
              "      <td>-0.052989</td>\n",
              "      <td>-0.805959</td>\n",
              "      <td>2.591762</td>\n",
              "      <td>0.284796</td>\n",
              "      <td>0.308197</td>\n",
              "      <td>0.803680</td>\n",
              "      <td>1.459263</td>\n",
              "      <td>-0.489836</td>\n",
              "      <td>-0.132690</td>\n",
              "      <td>-0.936374</td>\n",
              "      <td>-0.571351</td>\n",
              "    </tr>\n",
              "    <tr>\n",
              "      <th>5727</th>\n",
              "      <td>-0.468829</td>\n",
              "      <td>-0.052989</td>\n",
              "      <td>0.016108</td>\n",
              "      <td>2.112954</td>\n",
              "      <td>-0.053999</td>\n",
              "      <td>1.756013</td>\n",
              "      <td>1.963425</td>\n",
              "      <td>0.877247</td>\n",
              "      <td>0.191572</td>\n",
              "      <td>0.202258</td>\n",
              "      <td>-0.936374</td>\n",
              "      <td>-0.571351</td>\n",
              "    </tr>\n",
              "    <tr>\n",
              "      <th>2077</th>\n",
              "      <td>-0.082652</td>\n",
              "      <td>1.285883</td>\n",
              "      <td>-1.285498</td>\n",
              "      <td>-0.780706</td>\n",
              "      <td>0.482426</td>\n",
              "      <td>-0.527081</td>\n",
              "      <td>0.873968</td>\n",
              "      <td>-0.227262</td>\n",
              "      <td>-1.542922</td>\n",
              "      <td>0.336238</td>\n",
              "      <td>0.208377</td>\n",
              "      <td>-0.571351</td>\n",
              "    </tr>\n",
              "  </tbody>\n",
              "</table>\n",
              "</div>\n",
              "    <div class=\"colab-df-buttons\">\n",
              "\n",
              "  <div class=\"colab-df-container\">\n",
              "    <button class=\"colab-df-convert\" onclick=\"convertToInteractive('df-3212be65-9215-4ecb-9da4-e9d988c6dee8')\"\n",
              "            title=\"Convert this dataframe to an interactive table.\"\n",
              "            style=\"display:none;\">\n",
              "\n",
              "  <svg xmlns=\"http://www.w3.org/2000/svg\" height=\"24px\" viewBox=\"0 -960 960 960\">\n",
              "    <path d=\"M120-120v-720h720v720H120Zm60-500h600v-160H180v160Zm220 220h160v-160H400v160Zm0 220h160v-160H400v160ZM180-400h160v-160H180v160Zm440 0h160v-160H620v160ZM180-180h160v-160H180v160Zm440 0h160v-160H620v160Z\"/>\n",
              "  </svg>\n",
              "    </button>\n",
              "\n",
              "  <style>\n",
              "    .colab-df-container {\n",
              "      display:flex;\n",
              "      gap: 12px;\n",
              "    }\n",
              "\n",
              "    .colab-df-convert {\n",
              "      background-color: #E8F0FE;\n",
              "      border: none;\n",
              "      border-radius: 50%;\n",
              "      cursor: pointer;\n",
              "      display: none;\n",
              "      fill: #1967D2;\n",
              "      height: 32px;\n",
              "      padding: 0 0 0 0;\n",
              "      width: 32px;\n",
              "    }\n",
              "\n",
              "    .colab-df-convert:hover {\n",
              "      background-color: #E2EBFA;\n",
              "      box-shadow: 0px 1px 2px rgba(60, 64, 67, 0.3), 0px 1px 3px 1px rgba(60, 64, 67, 0.15);\n",
              "      fill: #174EA6;\n",
              "    }\n",
              "\n",
              "    .colab-df-buttons div {\n",
              "      margin-bottom: 4px;\n",
              "    }\n",
              "\n",
              "    [theme=dark] .colab-df-convert {\n",
              "      background-color: #3B4455;\n",
              "      fill: #D2E3FC;\n",
              "    }\n",
              "\n",
              "    [theme=dark] .colab-df-convert:hover {\n",
              "      background-color: #434B5C;\n",
              "      box-shadow: 0px 1px 3px 1px rgba(0, 0, 0, 0.15);\n",
              "      filter: drop-shadow(0px 1px 2px rgba(0, 0, 0, 0.3));\n",
              "      fill: #FFFFFF;\n",
              "    }\n",
              "  </style>\n",
              "\n",
              "    <script>\n",
              "      const buttonEl =\n",
              "        document.querySelector('#df-3212be65-9215-4ecb-9da4-e9d988c6dee8 button.colab-df-convert');\n",
              "      buttonEl.style.display =\n",
              "        google.colab.kernel.accessAllowed ? 'block' : 'none';\n",
              "\n",
              "      async function convertToInteractive(key) {\n",
              "        const element = document.querySelector('#df-3212be65-9215-4ecb-9da4-e9d988c6dee8');\n",
              "        const dataTable =\n",
              "          await google.colab.kernel.invokeFunction('convertToInteractive',\n",
              "                                                    [key], {});\n",
              "        if (!dataTable) return;\n",
              "\n",
              "        const docLinkHtml = 'Like what you see? Visit the ' +\n",
              "          '<a target=\"_blank\" href=https://colab.research.google.com/notebooks/data_table.ipynb>data table notebook</a>'\n",
              "          + ' to learn more about interactive tables.';\n",
              "        element.innerHTML = '';\n",
              "        dataTable['output_type'] = 'display_data';\n",
              "        await google.colab.output.renderOutput(dataTable, element);\n",
              "        const docLink = document.createElement('div');\n",
              "        docLink.innerHTML = docLinkHtml;\n",
              "        element.appendChild(docLink);\n",
              "      }\n",
              "    </script>\n",
              "  </div>\n",
              "\n",
              "\n",
              "<div id=\"df-fd462798-0419-4875-bb81-945542b004f6\">\n",
              "  <button class=\"colab-df-quickchart\" onclick=\"quickchart('df-fd462798-0419-4875-bb81-945542b004f6')\"\n",
              "            title=\"Suggest charts\"\n",
              "            style=\"display:none;\">\n",
              "\n",
              "<svg xmlns=\"http://www.w3.org/2000/svg\" height=\"24px\"viewBox=\"0 0 24 24\"\n",
              "     width=\"24px\">\n",
              "    <g>\n",
              "        <path d=\"M19 3H5c-1.1 0-2 .9-2 2v14c0 1.1.9 2 2 2h14c1.1 0 2-.9 2-2V5c0-1.1-.9-2-2-2zM9 17H7v-7h2v7zm4 0h-2V7h2v10zm4 0h-2v-4h2v4z\"/>\n",
              "    </g>\n",
              "</svg>\n",
              "  </button>\n",
              "\n",
              "<style>\n",
              "  .colab-df-quickchart {\n",
              "      --bg-color: #E8F0FE;\n",
              "      --fill-color: #1967D2;\n",
              "      --hover-bg-color: #E2EBFA;\n",
              "      --hover-fill-color: #174EA6;\n",
              "      --disabled-fill-color: #AAA;\n",
              "      --disabled-bg-color: #DDD;\n",
              "  }\n",
              "\n",
              "  [theme=dark] .colab-df-quickchart {\n",
              "      --bg-color: #3B4455;\n",
              "      --fill-color: #D2E3FC;\n",
              "      --hover-bg-color: #434B5C;\n",
              "      --hover-fill-color: #FFFFFF;\n",
              "      --disabled-bg-color: #3B4455;\n",
              "      --disabled-fill-color: #666;\n",
              "  }\n",
              "\n",
              "  .colab-df-quickchart {\n",
              "    background-color: var(--bg-color);\n",
              "    border: none;\n",
              "    border-radius: 50%;\n",
              "    cursor: pointer;\n",
              "    display: none;\n",
              "    fill: var(--fill-color);\n",
              "    height: 32px;\n",
              "    padding: 0;\n",
              "    width: 32px;\n",
              "  }\n",
              "\n",
              "  .colab-df-quickchart:hover {\n",
              "    background-color: var(--hover-bg-color);\n",
              "    box-shadow: 0 1px 2px rgba(60, 64, 67, 0.3), 0 1px 3px 1px rgba(60, 64, 67, 0.15);\n",
              "    fill: var(--button-hover-fill-color);\n",
              "  }\n",
              "\n",
              "  .colab-df-quickchart-complete:disabled,\n",
              "  .colab-df-quickchart-complete:disabled:hover {\n",
              "    background-color: var(--disabled-bg-color);\n",
              "    fill: var(--disabled-fill-color);\n",
              "    box-shadow: none;\n",
              "  }\n",
              "\n",
              "  .colab-df-spinner {\n",
              "    border: 2px solid var(--fill-color);\n",
              "    border-color: transparent;\n",
              "    border-bottom-color: var(--fill-color);\n",
              "    animation:\n",
              "      spin 1s steps(1) infinite;\n",
              "  }\n",
              "\n",
              "  @keyframes spin {\n",
              "    0% {\n",
              "      border-color: transparent;\n",
              "      border-bottom-color: var(--fill-color);\n",
              "      border-left-color: var(--fill-color);\n",
              "    }\n",
              "    20% {\n",
              "      border-color: transparent;\n",
              "      border-left-color: var(--fill-color);\n",
              "      border-top-color: var(--fill-color);\n",
              "    }\n",
              "    30% {\n",
              "      border-color: transparent;\n",
              "      border-left-color: var(--fill-color);\n",
              "      border-top-color: var(--fill-color);\n",
              "      border-right-color: var(--fill-color);\n",
              "    }\n",
              "    40% {\n",
              "      border-color: transparent;\n",
              "      border-right-color: var(--fill-color);\n",
              "      border-top-color: var(--fill-color);\n",
              "    }\n",
              "    60% {\n",
              "      border-color: transparent;\n",
              "      border-right-color: var(--fill-color);\n",
              "    }\n",
              "    80% {\n",
              "      border-color: transparent;\n",
              "      border-right-color: var(--fill-color);\n",
              "      border-bottom-color: var(--fill-color);\n",
              "    }\n",
              "    90% {\n",
              "      border-color: transparent;\n",
              "      border-bottom-color: var(--fill-color);\n",
              "    }\n",
              "  }\n",
              "</style>\n",
              "\n",
              "  <script>\n",
              "    async function quickchart(key) {\n",
              "      const quickchartButtonEl =\n",
              "        document.querySelector('#' + key + ' button');\n",
              "      quickchartButtonEl.disabled = true;  // To prevent multiple clicks.\n",
              "      quickchartButtonEl.classList.add('colab-df-spinner');\n",
              "      try {\n",
              "        const charts = await google.colab.kernel.invokeFunction(\n",
              "            'suggestCharts', [key], {});\n",
              "      } catch (error) {\n",
              "        console.error('Error during call to suggestCharts:', error);\n",
              "      }\n",
              "      quickchartButtonEl.classList.remove('colab-df-spinner');\n",
              "      quickchartButtonEl.classList.add('colab-df-quickchart-complete');\n",
              "    }\n",
              "    (() => {\n",
              "      let quickchartButtonEl =\n",
              "        document.querySelector('#df-fd462798-0419-4875-bb81-945542b004f6 button');\n",
              "      quickchartButtonEl.style.display =\n",
              "        google.colab.kernel.accessAllowed ? 'block' : 'none';\n",
              "    })();\n",
              "  </script>\n",
              "</div>\n",
              "\n",
              "    </div>\n",
              "  </div>\n"
            ],
            "application/vnd.google.colaboratory.intrinsic+json": {
              "type": "dataframe",
              "variable_name": "X_test",
              "summary": "{\n  \"name\": \"X_test\",\n  \"rows\": 1300,\n  \"fields\": [\n    {\n      \"column\": \"fixed acidity\",\n      \"properties\": {\n        \"dtype\": \"number\",\n        \"std\": 1.0060995086172544,\n        \"min\": -2.63141749890276,\n        \"max\": 6.482348857791189,\n        \"num_unique_values\": 84,\n        \"samples\": [\n          1.8482303713366388,\n          -0.9322407205360911,\n          -1.627358493504274\n        ],\n        \"semantic_type\": \"\",\n        \"description\": \"\"\n      }\n    },\n    {\n      \"column\": \"volatile acidity\",\n      \"properties\": {\n        \"dtype\": \"number\",\n        \"std\": 1.0093353238223672,\n        \"min\": -1.5744341053300175,\n        \"max\": 6.032793530780155,\n        \"num_unique_values\": 118,\n        \"samples\": [\n          0.9207365593141189,\n          1.3467413069362888,\n          -0.7224246100856783\n        ],\n        \"semantic_type\": \"\",\n        \"description\": \"\"\n      }\n    },\n    {\n      \"column\": \"citric acid\",\n      \"properties\": {\n        \"dtype\": \"number\",\n        \"std\": 0.9768667027296425,\n        \"min\": -2.1760703645803985,\n        \"max\": 3.3728813834155718,\n        \"num_unique_values\": 79,\n        \"samples\": [\n          -1.6280257474943767,\n          -0.46343093618658066,\n          0.9066806065284737\n        ],\n        \"semantic_type\": \"\",\n        \"description\": \"\"\n      }\n    },\n    {\n      \"column\": \"residual sugar\",\n      \"properties\": {\n        \"dtype\": \"number\",\n        \"std\": 0.9513416604023901,\n        \"min\": -0.9888828071227357,\n        \"max\": 3.174657180738678,\n        \"num_unique_values\": 210,\n        \"samples\": [\n          1.5300588855334198,\n          0.780621687718365,\n          0.718168587900444\n        ],\n        \"semantic_type\": \"\",\n        \"description\": \"\"\n      }\n    },\n    {\n      \"column\": \"chlorides\",\n      \"properties\": {\n        \"dtype\": \"number\",\n        \"std\": 0.9441168234501731,\n        \"min\": -1.3244815230103988,\n        \"max\": 11.521503449257168,\n        \"num_unique_values\": 134,\n        \"samples\": [\n          2.6563621716922974,\n          1.4988118774879673,\n          1.3858801414680326\n        ],\n        \"semantic_type\": \"\",\n        \"description\": \"\"\n      }\n    },\n    {\n      \"column\": \"free sulfur dioxide\",\n      \"properties\": {\n        \"dtype\": \"number\",\n        \"std\": 0.9403329054163366,\n        \"min\": -1.5294147314090951,\n        \"max\": 3.7606806823233963,\n        \"num_unique_values\": 89,\n        \"samples\": [\n          -0.1372843593742291,\n          2.2014946656443457,\n          1.1991607977792422\n        ],\n        \"semantic_type\": \"\",\n        \"description\": \"\"\n      }\n    },\n    {\n      \"column\": \"total sulfur dioxide\",\n      \"properties\": {\n        \"dtype\": \"number\",\n        \"std\": 0.9647542699288353,\n        \"min\": -1.8848196352769895,\n        \"max\": 2.8595913882262445,\n        \"num_unique_values\": 226,\n        \"samples\": [\n          -1.6212412450823654,\n          2.1215718956812966,\n          1.6295589006513316\n        ],\n        \"semantic_type\": \"\",\n        \"description\": \"\"\n      }\n    },\n    {\n      \"column\": \"density\",\n      \"properties\": {\n        \"dtype\": \"number\",\n        \"std\": 0.9573351647738797,\n        \"min\": -2.5057237308171842,\n        \"max\": 2.798562628660384,\n        \"num_unique_values\": 532,\n        \"samples\": [\n          0.30184429860704903,\n          -0.9382475871810506,\n          0.20263694774397611\n        ],\n        \"semantic_type\": \"\",\n        \"description\": \"\"\n      }\n    },\n    {\n      \"column\": \"pH\",\n      \"properties\": {\n        \"dtype\": \"number\",\n        \"std\": 0.9797841794004845,\n        \"min\": -2.5960070854695263,\n        \"max\": 3.2888819522983876,\n        \"num_unique_values\": 89,\n        \"samples\": [\n          3.226935751900832,\n          1.120764938383893,\n          1.1827111387814513\n        ],\n        \"semantic_type\": \"\",\n        \"description\": \"\"\n      }\n    },\n    {\n      \"column\": \"sulphates\",\n      \"properties\": {\n        \"dtype\": \"number\",\n        \"std\": 0.9831555356761185,\n        \"min\": -2.008402712584994,\n        \"max\": 9.714798988385658,\n        \"num_unique_values\": 83,\n        \"samples\": [\n          -1.204526024518435,\n          -0.6686082324740624,\n          -0.4676390604574225\n        ],\n        \"semantic_type\": \"\",\n        \"description\": \"\"\n      }\n    },\n    {\n      \"column\": \"quality\",\n      \"properties\": {\n        \"dtype\": \"number\",\n        \"std\": 0.9982938536304334,\n        \"min\": -3.2258750044385143,\n        \"max\": 2.4978779481278766,\n        \"num_unique_values\": 6,\n        \"samples\": [\n          0.2083767671013203,\n          -0.9363738234119579,\n          -3.2258750044385143\n        ],\n        \"semantic_type\": \"\",\n        \"description\": \"\"\n      }\n    },\n    {\n      \"column\": \"type\",\n      \"properties\": {\n        \"dtype\": \"number\",\n        \"std\": 1.0004537215363505,\n        \"min\": -0.5713510849527388,\n        \"max\": 1.7502373345151139,\n        \"num_unique_values\": 2,\n        \"samples\": [\n          1.7502373345151139,\n          -0.5713510849527388\n        ],\n        \"semantic_type\": \"\",\n        \"description\": \"\"\n      }\n    }\n  ]\n}"
            }
          },
          "metadata": {},
          "execution_count": 51
        }
      ]
    },
    {
      "cell_type": "markdown",
      "source": [
        "Now let's collect the predictions from each model."
      ],
      "metadata": {
        "id": "8knL5l6i1TXo"
      }
    },
    {
      "cell_type": "code",
      "source": [
        "mlr_pred = mlr_best.predict(X_test)\n",
        "lasso_pred = lasso_best.predict(X_test)\n",
        "ridge_pred = ridge_best.predict(X_test)\n",
        "EN_pred = EN_best.predict(X_test)"
      ],
      "metadata": {
        "id": "EgPyPsSFUjYs"
      },
      "execution_count": 52,
      "outputs": []
    },
    {
      "cell_type": "markdown",
      "source": [
        "RMSE\n",
        "\n",
        "First, compare the results using **RMSE**, the same method we used in determing best **MLR** model. Use the ```mean_squared_error``` function from ```sklearn.metrics```. Remember to take the square root of the result!"
      ],
      "metadata": {
        "id": "0C2gWCJFVAYh"
      }
    },
    {
      "cell_type": "code",
      "source": [
        "print({'mlr:': np.sqrt(mean_squared_error(y_test, mlr_pred)),\n",
        "       'lasso:': np.sqrt(mean_squared_error(y_test, lasso_pred)),\n",
        "       'ridge:': np.sqrt(mean_squared_error(y_test, ridge_pred)),\n",
        "      'ENet:': np.sqrt(mean_squared_error(y_test, EN_pred))})"
      ],
      "metadata": {
        "colab": {
          "base_uri": "https://localhost:8080/"
        },
        "id": "dxeikIVzU_H8",
        "outputId": "2c3b2338-5e1f-41f2-a288-7f079d9f9751"
      },
      "execution_count": 53,
      "outputs": [
        {
          "output_type": "stream",
          "name": "stdout",
          "text": [
            "{'mlr:': 0.46070896241429804, 'lasso:': 0.461690327155807, 'ridge:': 0.4612060627638537, 'ENet:': 0.46172844172773714}\n"
          ]
        }
      ]
    },
    {
      "cell_type": "markdown",
      "source": [
        "The best RMSE was the MLR.  The LASSO and ENet are really close in values. Had we kept the ```l1_ratio``` equal to 1.0, they would have been the same because they would have been the same model!\n",
        "\n",
        "MAE\n",
        "\n",
        "Next, compare the results using ```mean_absolute_error()```. This measurement takes the absolute value of the difference between each prediction and actual value, sums them together and takes the average."
      ],
      "metadata": {
        "id": "gGBI6eQaWpAD"
      }
    },
    {
      "cell_type": "code",
      "source": [
        "print({'mlr:': mean_absolute_error(y_test, mlr_pred),\n",
        "       'lasso:': mean_absolute_error(y_test, lasso_pred),\n",
        "       'ridge:': mean_absolute_error(y_test, ridge_pred),\n",
        "      'ENet:': mean_absolute_error(y_test, EN_pred)})"
      ],
      "metadata": {
        "colab": {
          "base_uri": "https://localhost:8080/"
        },
        "id": "jYLHPXc4X5Kh",
        "outputId": "0861dc4f-67e7-4133-b64c-30111b3639cf"
      },
      "execution_count": 54,
      "outputs": [
        {
          "output_type": "stream",
          "name": "stdout",
          "text": [
            "{'mlr:': 0.3491597963617877, 'lasso:': 0.3505833813356069, 'ridge:': 0.35015495828488635, 'ENet:': 0.3506906955624804}\n"
          ]
        }
      ]
    },
    {
      "cell_type": "markdown",
      "source": [
        "Again, the results are all pretty similar, but the full fit MLR has the best score."
      ],
      "metadata": {
        "id": "RgUZClqF3Gzu"
      }
    },
    {
      "cell_type": "markdown",
      "source": [
        "# Logistic Regression"
      ],
      "metadata": {
        "id": "cHTDx_2EjcjF"
      }
    },
    {
      "cell_type": "markdown",
      "source": [
        "For Logistic Regression, our target response will be wine type: red or white. We already transformed this variable to a binary category with red = 1 and white = 0.\n",
        "\n",
        "We'll need to create new Test/Train sets, dropping ```['type']``` from the predictors (```X_```) and adding it to the response (```y_```)."
      ],
      "metadata": {
        "id": "4yOD_JxllisX"
      }
    },
    {
      "cell_type": "code",
      "source": [
        "X_train, X_test, y_train, y_test = train_test_split(\n",
        "  wine_data.drop(\"type\", axis = 1),\n",
        "  wine_data[\"type\"],\n",
        "  test_size=0.20,\n",
        "  random_state=36,\n",
        "  stratify=wine_data['type'])"
      ],
      "metadata": {
        "id": "YZt12rppleKA"
      },
      "execution_count": 55,
      "outputs": []
    },
    {
      "cell_type": "markdown",
      "source": [
        "Scale the data as before. Keeping a record of the means and stds to use later in ```X_test```."
      ],
      "metadata": {
        "id": "KR_gGe4v5AFd"
      }
    },
    {
      "cell_type": "code",
      "source": [
        "means = X_train.apply(np.mean, axis = 0)\n",
        "stds = X_train.apply(np.std, axis = 0)\n",
        "X_train = X_train.apply(lambda x: (x-np.mean(x))/np.std(x), axis = 0)"
      ],
      "metadata": {
        "id": "UFsaL7fAmHq0"
      },
      "execution_count": 56,
      "outputs": []
    },
    {
      "cell_type": "markdown",
      "source": [
        "## Basic Logistic Regression"
      ],
      "metadata": {
        "id": "lW7se6efo5R2"
      }
    },
    {
      "cell_type": "markdown",
      "source": [
        "Use the same ```cross_validate()``` function as in the linear regression, but instead of using ```LinearRegression()``` as an argument, we'll use ```LogisticRegression(penalty='none')```. It may be easier to create an instance of this function as done below.\n",
        "\n",
        "We'll score these models on **negative log loss** which is based on the difference between the predicted probability of a result and an the actual result. The smaller the difference, the smaller the score.\n",
        "\n",
        "Let's fit the first one on all the features/variables."
      ],
      "metadata": {
        "id": "Ydf2okGa5VsA"
      }
    },
    {
      "cell_type": "code",
      "source": [
        "log_reg1 = LogisticRegression(penalty='none')\n",
        "cv1 = cross_validate(log_reg1, X = X_train, y = y_train, cv=5, scoring='neg_log_loss')"
      ],
      "metadata": {
        "id": "Sso3PIgho6ew",
        "collapsed": true
      },
      "execution_count": null,
      "outputs": []
    },
    {
      "cell_type": "markdown",
      "source": [
        "Inspect the negative log loss score for each fold."
      ],
      "metadata": {
        "id": "lQYQcBKY6TGf"
      }
    },
    {
      "cell_type": "code",
      "source": [
        "cv1['test_score']"
      ],
      "metadata": {
        "colab": {
          "base_uri": "https://localhost:8080/"
        },
        "id": "JE68j5HhqQDv",
        "outputId": "2f30b8f3-beb1-442c-d615-6f125cc8fc18"
      },
      "execution_count": 59,
      "outputs": [
        {
          "output_type": "execute_result",
          "data": {
            "text/plain": [
              "array([-0.0619739 , -0.04531764, -0.0169939 , -0.03049174, -0.02807723])"
            ]
          },
          "metadata": {},
          "execution_count": 59
        }
      ]
    },
    {
      "cell_type": "markdown",
      "source": [
        "Now let's fit the same model on a limited number of features/variables."
      ],
      "metadata": {
        "id": "YgjfEv267HXE"
      }
    },
    {
      "cell_type": "code",
      "source": [
        "cv2 = cross_validate(log_reg1, X = X_train[['residual sugar', 'density', 'pH']], y=y_train, cv=5, scoring='neg_log_loss')"
      ],
      "metadata": {
        "id": "2j1UehrbrMCX"
      },
      "execution_count": null,
      "outputs": []
    },
    {
      "cell_type": "code",
      "source": [
        "cv2['test_score']"
      ],
      "metadata": {
        "colab": {
          "base_uri": "https://localhost:8080/"
        },
        "id": "z1NZNl_artw4",
        "outputId": "dd30c4c6-ded6-4671-b4ba-7f3a0ff68fa0"
      },
      "execution_count": 61,
      "outputs": [
        {
          "output_type": "execute_result",
          "data": {
            "text/plain": [
              "array([-0.16722455, -0.13379049, -0.14076984, -0.13044344, -0.14346168])"
            ]
          },
          "metadata": {},
          "execution_count": 61
        }
      ]
    },
    {
      "cell_type": "markdown",
      "source": [
        "We'll use the same set up with ```PolynomialFeatures()``` as we did before to include interaction terms."
      ],
      "metadata": {
        "id": "Zqma6x9w7OZS"
      }
    },
    {
      "cell_type": "code",
      "source": [
        "poly=PolynomialFeatures(interaction_only=True, include_bias=False)\n",
        "X_transform = poly.fit_transform(X_train[['sulphates', 'citric acid', 'chlorides', 'residual sugar', 'pH', 'density']])\n",
        "cv3 = cross_validate(log_reg1, X=X_transform, y=y_train, cv=5, scoring='neg_log_loss')"
      ],
      "metadata": {
        "id": "TOxXK79etN9M"
      },
      "execution_count": null,
      "outputs": []
    },
    {
      "cell_type": "code",
      "source": [
        "cv3['test_score']"
      ],
      "metadata": {
        "colab": {
          "base_uri": "https://localhost:8080/"
        },
        "id": "YQpR4gvLvg4z",
        "outputId": "4c4708ed-d55e-47a2-a255-baa0d2259e82"
      },
      "execution_count": 63,
      "outputs": [
        {
          "output_type": "execute_result",
          "data": {
            "text/plain": [
              "array([-0.09230727, -0.084699  , -0.07265015, -0.08916984, -0.1049967 ])"
            ]
          },
          "metadata": {},
          "execution_count": 63
        }
      ]
    },
    {
      "cell_type": "markdown",
      "source": [
        "Again, we'll use the same ```PolynomialFeatures()``` settings to transform the predictors into polynomials, but here we will need to set up a new ```LogisticRegression()``` instance. This one will need to include a ```solver``` and a ```max_iter```."
      ],
      "metadata": {
        "id": "8MU52EVJ7gt9"
      }
    },
    {
      "cell_type": "code",
      "source": [
        "poly=PolynomialFeatures(degree=2, include_bias=False)\n",
        "X_transform = poly.fit_transform(X_train[['residual sugar', 'pH', 'density']])\n",
        "log_reg2 = LogisticRegression(penalty='none', solver='lbfgs', max_iter=5000)\n",
        "cv4 = cross_validate(log_reg2, X=X_transform, y=y_train, cv=5, scoring='neg_log_loss')"
      ],
      "metadata": {
        "id": "3mQL_niVymQI"
      },
      "execution_count": null,
      "outputs": []
    },
    {
      "cell_type": "code",
      "source": [
        "cv4['test_score']"
      ],
      "metadata": {
        "colab": {
          "base_uri": "https://localhost:8080/"
        },
        "id": "zbmLp1iF0DgL",
        "outputId": "f119b9b2-a0c3-47eb-9c91-eaf995a3761d"
      },
      "execution_count": 65,
      "outputs": [
        {
          "output_type": "execute_result",
          "data": {
            "text/plain": [
              "array([-0.15459723, -0.12936377, -0.12788461, -0.11273159, -0.14285132])"
            ]
          },
          "metadata": {},
          "execution_count": 65
        }
      ]
    },
    {
      "cell_type": "markdown",
      "source": [
        "To determine the best Logistic Model, just take the mean of the five log loss scores."
      ],
      "metadata": {
        "id": "r2sATkXB1XTR"
      }
    },
    {
      "cell_type": "code",
      "source": [
        "print({'cv1:': round(cv1['test_score'].mean(),4),\n",
        "       'cv2:': round(cv2['test_score'].mean(),4),\n",
        "       'cv3:': round(cv3['test_score'].mean(),4),\n",
        "       'cv4:': round(cv4['test_score'].mean(),4)})"
      ],
      "metadata": {
        "colab": {
          "base_uri": "https://localhost:8080/"
        },
        "id": "g9W4wuPz1bRw",
        "outputId": "877fd7d7-37d3-44a9-c357-b3b7a7d20039"
      },
      "execution_count": 66,
      "outputs": [
        {
          "output_type": "stream",
          "name": "stdout",
          "text": [
            "{'cv1:': -0.0366, 'cv2:': -0.1431, 'cv3:': -0.0888, 'cv4:': -0.1335}\n"
          ]
        }
      ]
    },
    {
      "cell_type": "markdown",
      "source": [
        "```cv1``` has the best ```log_loss``` result.\n",
        "\n",
        "So now we'll fit the **Logistic Regression** model it's parameters."
      ],
      "metadata": {
        "id": "ECQ3OKkO2U-G"
      }
    },
    {
      "cell_type": "code",
      "source": [
        "mlr_log = log_reg1.fit(X=X_train, y=y_train)"
      ],
      "metadata": {
        "id": "lCTNK2cD2P4M"
      },
      "execution_count": null,
      "outputs": []
    },
    {
      "cell_type": "markdown",
      "source": [
        "Inspect the intercept and coefficients of the model."
      ],
      "metadata": {
        "id": "jYNAWOOs8eQQ"
      }
    },
    {
      "cell_type": "code",
      "source": [
        "print(mlr_log.intercept_, mlr_log.coef_)"
      ],
      "metadata": {
        "colab": {
          "base_uri": "https://localhost:8080/"
        },
        "id": "dCNBA1373fvC",
        "outputId": "aa1511f4-ed59-452b-80df-479c0a40cb89"
      },
      "execution_count": 68,
      "outputs": [
        {
          "output_type": "stream",
          "name": "stdout",
          "text": [
            "[-4.34976708] [[-0.23567289  1.20629342 -0.3206709  -4.1965084   0.99136051  1.06339408\n",
            "  -3.26011156  4.91155915  0.03272167  0.63728033  1.70983294  0.35603188]]\n"
          ]
        }
      ]
    },
    {
      "cell_type": "markdown",
      "source": [
        "## LASSO"
      ],
      "metadata": {
        "id": "MK6JAqqb38Zb"
      }
    },
    {
      "cell_type": "markdown",
      "source": [
        "For Regularized Regression, we'll use the ```LogisticRegressionCV()``` function to run cross validations.\n",
        "\n",
        "To fit a LASSO model, specify ```penalty='l1'```. ```solver=``` can be either 'liblinear' or 'saga' and ```Cs=``` is the range of the regularization parameters the model will iterate through."
      ],
      "metadata": {
        "id": "JpqAAiZX84K3"
      }
    },
    {
      "cell_type": "code",
      "source": [
        "l1_cv = LogisticRegressionCV(cv=5, solver='liblinear', penalty='l1', Cs=250, scoring='neg_log_loss', random_state=0) \\\n",
        "  .fit(X_train, y_train)"
      ],
      "metadata": {
        "id": "5frkUvJ74BSK"
      },
      "execution_count": 69,
      "outputs": []
    },
    {
      "cell_type": "markdown",
      "source": [
        "Here, you can see the best regularization parameter the model selected."
      ],
      "metadata": {
        "id": "ZYsFfz2b-zEx"
      }
    },
    {
      "cell_type": "code",
      "source": [
        "l1_cv.C_[0]"
      ],
      "metadata": {
        "colab": {
          "base_uri": "https://localhost:8080/"
        },
        "id": "pm1O10DaUkBp",
        "outputId": "47dc0cb1-6048-46ca-baae-090d8ea851e7"
      },
      "execution_count": 70,
      "outputs": [
        {
          "output_type": "execute_result",
          "data": {
            "text/plain": [
              "1.3950131878249619"
            ]
          },
          "metadata": {},
          "execution_count": 70
        }
      ]
    },
    {
      "cell_type": "markdown",
      "source": [
        "This is the parameter that will be used to fit the LASSO Logistic Regression model on the full train data set, as below."
      ],
      "metadata": {
        "id": "-kL7F7xt-4ux"
      }
    },
    {
      "cell_type": "code",
      "source": [
        "lasso_log = LogisticRegression(solver='liblinear', penalty='l1', C=l1_cv.C_[0], random_state=33) \\\n",
        "  .fit(X_train, y_train)"
      ],
      "metadata": {
        "id": "pTnh0nDmZ4nq"
      },
      "execution_count": 71,
      "outputs": []
    },
    {
      "cell_type": "markdown",
      "source": [
        "## Ridge"
      ],
      "metadata": {
        "id": "pqjXny--aayI"
      }
    },
    {
      "cell_type": "markdown",
      "source": [
        "Use the same ```LogisticRegressionCV()``` function to fit the Ridge CV model. Specify ```penalty='l2``` for a Ridge model."
      ],
      "metadata": {
        "id": "KLSDV1L5_TRe"
      }
    },
    {
      "cell_type": "code",
      "source": [
        "l2_cv = LogisticRegressionCV(cv=5, solver='liblinear', penalty='l2', Cs=250, scoring='neg_log_loss', random_state=81) \\\n",
        "  .fit(X_train, y_train)"
      ],
      "metadata": {
        "id": "EgvyCRusaY-B"
      },
      "execution_count": 72,
      "outputs": []
    },
    {
      "cell_type": "markdown",
      "source": [
        "Inspect the selected best regularization parameter."
      ],
      "metadata": {
        "id": "EWQmWW09_xe0"
      }
    },
    {
      "cell_type": "code",
      "source": [
        "l2_cv.C_"
      ],
      "metadata": {
        "colab": {
          "base_uri": "https://localhost:8080/"
        },
        "id": "P8YIQ4vWcxEy",
        "outputId": "96060007-af1b-48e6-d8c8-3b1ee90eb65c"
      },
      "execution_count": 73,
      "outputs": [
        {
          "output_type": "execute_result",
          "data": {
            "text/plain": [
              "array([0.96368643])"
            ]
          },
          "metadata": {},
          "execution_count": 73
        }
      ]
    },
    {
      "cell_type": "markdown",
      "source": [
        "Use this parameter to fit the Ridge Logistic Regression model on the full data set."
      ],
      "metadata": {
        "id": "D_WSSuCK_4tS"
      }
    },
    {
      "cell_type": "code",
      "source": [
        "ridge_log = LogisticRegression(solver='liblinear', penalty='l2', C=l2_cv.C_[0], random_state=77) \\\n",
        "  .fit(X_train, y_train)"
      ],
      "metadata": {
        "id": "ItbZZVoTc2El"
      },
      "execution_count": 74,
      "outputs": []
    },
    {
      "cell_type": "markdown",
      "source": [
        "## ElasticNet"
      ],
      "metadata": {
        "id": "EXq6hmWkdJaF"
      }
    },
    {
      "cell_type": "markdown",
      "source": [
        "To run a cross validation for Elastic Net, use the same ```LogisticRegressionCV()``` function, but specify ```solver='saga'```, ```penalty='elasticnet'```, a limit for ```Cs```, and a list of values between 0 and 1 for ```l1_ratios```."
      ],
      "metadata": {
        "id": "GCsgkRnIAIG7"
      }
    },
    {
      "cell_type": "code",
      "source": [
        "elasticnet_cv = LogisticRegressionCV(cv=5, solver='saga', penalty='elasticnet', Cs=100, l1_ratios=list(np.arange(0.1, 0.95, 0.2)),\n",
        "                                     scoring='neg_log_loss', random_state=33) \\\n",
        "                                     .fit(X_train, y_train)"
      ],
      "metadata": {
        "id": "w_HMyojmddsP"
      },
      "execution_count": null,
      "outputs": []
    },
    {
      "cell_type": "markdown",
      "source": [
        "Two 'best' parameters will be selected by the Elastic Net CV, an ```l1_ratio``` along with the ```C_``` value."
      ],
      "metadata": {
        "id": "VapiNNGVBStJ"
      }
    },
    {
      "cell_type": "code",
      "source": [
        "print(elasticnet_cv.l1_ratio_)\n",
        "print(elasticnet_cv.C_)"
      ],
      "metadata": {
        "colab": {
          "base_uri": "https://localhost:8080/"
        },
        "id": "4QpXZJcid3c-",
        "outputId": "b9a4befa-f566-453c-dbbc-16e656c1cfc0"
      },
      "execution_count": 76,
      "outputs": [
        {
          "output_type": "stream",
          "name": "stdout",
          "text": [
            "[0.1]\n",
            "[0.75646333]\n"
          ]
        }
      ]
    },
    {
      "cell_type": "markdown",
      "source": [
        "Both will be used to fit an Elastic Net Logistic Regression on the full testing data set."
      ],
      "metadata": {
        "id": "IZqulyBbBnTn"
      }
    },
    {
      "cell_type": "code",
      "source": [
        "elasticnet_log = LogisticRegression(solver='saga', penalty='elasticnet', C=elasticnet_cv.C_[0], l1_ratio=elasticnet_cv.l1_ratio_[0],\n",
        "                                    random_state=90, max_iter=500).fit(X_train, y_train)"
      ],
      "metadata": {
        "id": "irNkwntOlzao"
      },
      "execution_count": 77,
      "outputs": []
    },
    {
      "cell_type": "markdown",
      "source": [
        "## Model Comparison"
      ],
      "metadata": {
        "id": "qJIBAfwSoCC0"
      }
    },
    {
      "cell_type": "markdown",
      "source": [
        "Now we are ready to compare how each model does in predicting types of wine.\n",
        "\n",
        "But first, let's scale our test predictors using our earlier calculated training mean and stds."
      ],
      "metadata": {
        "id": "ZQhCXgt3ByhE"
      }
    },
    {
      "cell_type": "code",
      "source": [
        "for x in X_test.columns:\n",
        "    X_test[x] = my_std_fun(X_test[x], means[x], stds[x])\n",
        "X_test.head()"
      ],
      "metadata": {
        "colab": {
          "base_uri": "https://localhost:8080/",
          "height": 206
        },
        "id": "UX_cMb88sbrf",
        "outputId": "91cbe716-8c25-48c0-d910-b048fc926e61"
      },
      "execution_count": 78,
      "outputs": [
        {
          "output_type": "execute_result",
          "data": {
            "text/plain": [
              "      fixed acidity  volatile acidity  citric acid  residual sugar  chlorides  \\\n",
              "354       -0.849229         -0.790034     0.558534       -0.848825   0.289747   \n",
              "3820       0.987744         -0.361431     0.149107        1.752419  -0.427376   \n",
              "1427       0.298879          0.434547     0.080869       -0.618069   0.633966   \n",
              "5763      -0.160364         -0.177743     0.217345       -0.806869   0.203692   \n",
              "2520       0.375420         -0.116514     2.059766        1.081131  -0.570801   \n",
              "\n",
              "      free sulfur dioxide  total sulfur dioxide   density        pH  \\\n",
              "354              0.568292              0.866128 -1.168368  0.195564   \n",
              "3820             0.081573              0.795286  1.132596 -0.554369   \n",
              "1427            -1.407217             -1.648769  0.332261  0.508036   \n",
              "5763            -1.006389              0.051443 -0.954945  0.008081   \n",
              "2520             1.455840              0.653602  1.032555 -0.554369   \n",
              "\n",
              "      sulphates   alcohol   quality  \n",
              "354    0.388754  1.186711  0.215330  \n",
              "3820  -0.878720 -0.491885  0.215330  \n",
              "1427   0.322045  0.599202 -0.934794  \n",
              "5763  -0.211629  0.179553 -0.934794  \n",
              "2520  -0.611884 -1.331183  0.215330  "
            ],
            "text/html": [
              "\n",
              "  <div id=\"df-c27f406e-ea7f-4b38-8d40-72195fba32d6\" class=\"colab-df-container\">\n",
              "    <div>\n",
              "<style scoped>\n",
              "    .dataframe tbody tr th:only-of-type {\n",
              "        vertical-align: middle;\n",
              "    }\n",
              "\n",
              "    .dataframe tbody tr th {\n",
              "        vertical-align: top;\n",
              "    }\n",
              "\n",
              "    .dataframe thead th {\n",
              "        text-align: right;\n",
              "    }\n",
              "</style>\n",
              "<table border=\"1\" class=\"dataframe\">\n",
              "  <thead>\n",
              "    <tr style=\"text-align: right;\">\n",
              "      <th></th>\n",
              "      <th>fixed acidity</th>\n",
              "      <th>volatile acidity</th>\n",
              "      <th>citric acid</th>\n",
              "      <th>residual sugar</th>\n",
              "      <th>chlorides</th>\n",
              "      <th>free sulfur dioxide</th>\n",
              "      <th>total sulfur dioxide</th>\n",
              "      <th>density</th>\n",
              "      <th>pH</th>\n",
              "      <th>sulphates</th>\n",
              "      <th>alcohol</th>\n",
              "      <th>quality</th>\n",
              "    </tr>\n",
              "  </thead>\n",
              "  <tbody>\n",
              "    <tr>\n",
              "      <th>354</th>\n",
              "      <td>-0.849229</td>\n",
              "      <td>-0.790034</td>\n",
              "      <td>0.558534</td>\n",
              "      <td>-0.848825</td>\n",
              "      <td>0.289747</td>\n",
              "      <td>0.568292</td>\n",
              "      <td>0.866128</td>\n",
              "      <td>-1.168368</td>\n",
              "      <td>0.195564</td>\n",
              "      <td>0.388754</td>\n",
              "      <td>1.186711</td>\n",
              "      <td>0.215330</td>\n",
              "    </tr>\n",
              "    <tr>\n",
              "      <th>3820</th>\n",
              "      <td>0.987744</td>\n",
              "      <td>-0.361431</td>\n",
              "      <td>0.149107</td>\n",
              "      <td>1.752419</td>\n",
              "      <td>-0.427376</td>\n",
              "      <td>0.081573</td>\n",
              "      <td>0.795286</td>\n",
              "      <td>1.132596</td>\n",
              "      <td>-0.554369</td>\n",
              "      <td>-0.878720</td>\n",
              "      <td>-0.491885</td>\n",
              "      <td>0.215330</td>\n",
              "    </tr>\n",
              "    <tr>\n",
              "      <th>1427</th>\n",
              "      <td>0.298879</td>\n",
              "      <td>0.434547</td>\n",
              "      <td>0.080869</td>\n",
              "      <td>-0.618069</td>\n",
              "      <td>0.633966</td>\n",
              "      <td>-1.407217</td>\n",
              "      <td>-1.648769</td>\n",
              "      <td>0.332261</td>\n",
              "      <td>0.508036</td>\n",
              "      <td>0.322045</td>\n",
              "      <td>0.599202</td>\n",
              "      <td>-0.934794</td>\n",
              "    </tr>\n",
              "    <tr>\n",
              "      <th>5763</th>\n",
              "      <td>-0.160364</td>\n",
              "      <td>-0.177743</td>\n",
              "      <td>0.217345</td>\n",
              "      <td>-0.806869</td>\n",
              "      <td>0.203692</td>\n",
              "      <td>-1.006389</td>\n",
              "      <td>0.051443</td>\n",
              "      <td>-0.954945</td>\n",
              "      <td>0.008081</td>\n",
              "      <td>-0.211629</td>\n",
              "      <td>0.179553</td>\n",
              "      <td>-0.934794</td>\n",
              "    </tr>\n",
              "    <tr>\n",
              "      <th>2520</th>\n",
              "      <td>0.375420</td>\n",
              "      <td>-0.116514</td>\n",
              "      <td>2.059766</td>\n",
              "      <td>1.081131</td>\n",
              "      <td>-0.570801</td>\n",
              "      <td>1.455840</td>\n",
              "      <td>0.653602</td>\n",
              "      <td>1.032555</td>\n",
              "      <td>-0.554369</td>\n",
              "      <td>-0.611884</td>\n",
              "      <td>-1.331183</td>\n",
              "      <td>0.215330</td>\n",
              "    </tr>\n",
              "  </tbody>\n",
              "</table>\n",
              "</div>\n",
              "    <div class=\"colab-df-buttons\">\n",
              "\n",
              "  <div class=\"colab-df-container\">\n",
              "    <button class=\"colab-df-convert\" onclick=\"convertToInteractive('df-c27f406e-ea7f-4b38-8d40-72195fba32d6')\"\n",
              "            title=\"Convert this dataframe to an interactive table.\"\n",
              "            style=\"display:none;\">\n",
              "\n",
              "  <svg xmlns=\"http://www.w3.org/2000/svg\" height=\"24px\" viewBox=\"0 -960 960 960\">\n",
              "    <path d=\"M120-120v-720h720v720H120Zm60-500h600v-160H180v160Zm220 220h160v-160H400v160Zm0 220h160v-160H400v160ZM180-400h160v-160H180v160Zm440 0h160v-160H620v160ZM180-180h160v-160H180v160Zm440 0h160v-160H620v160Z\"/>\n",
              "  </svg>\n",
              "    </button>\n",
              "\n",
              "  <style>\n",
              "    .colab-df-container {\n",
              "      display:flex;\n",
              "      gap: 12px;\n",
              "    }\n",
              "\n",
              "    .colab-df-convert {\n",
              "      background-color: #E8F0FE;\n",
              "      border: none;\n",
              "      border-radius: 50%;\n",
              "      cursor: pointer;\n",
              "      display: none;\n",
              "      fill: #1967D2;\n",
              "      height: 32px;\n",
              "      padding: 0 0 0 0;\n",
              "      width: 32px;\n",
              "    }\n",
              "\n",
              "    .colab-df-convert:hover {\n",
              "      background-color: #E2EBFA;\n",
              "      box-shadow: 0px 1px 2px rgba(60, 64, 67, 0.3), 0px 1px 3px 1px rgba(60, 64, 67, 0.15);\n",
              "      fill: #174EA6;\n",
              "    }\n",
              "\n",
              "    .colab-df-buttons div {\n",
              "      margin-bottom: 4px;\n",
              "    }\n",
              "\n",
              "    [theme=dark] .colab-df-convert {\n",
              "      background-color: #3B4455;\n",
              "      fill: #D2E3FC;\n",
              "    }\n",
              "\n",
              "    [theme=dark] .colab-df-convert:hover {\n",
              "      background-color: #434B5C;\n",
              "      box-shadow: 0px 1px 3px 1px rgba(0, 0, 0, 0.15);\n",
              "      filter: drop-shadow(0px 1px 2px rgba(0, 0, 0, 0.3));\n",
              "      fill: #FFFFFF;\n",
              "    }\n",
              "  </style>\n",
              "\n",
              "    <script>\n",
              "      const buttonEl =\n",
              "        document.querySelector('#df-c27f406e-ea7f-4b38-8d40-72195fba32d6 button.colab-df-convert');\n",
              "      buttonEl.style.display =\n",
              "        google.colab.kernel.accessAllowed ? 'block' : 'none';\n",
              "\n",
              "      async function convertToInteractive(key) {\n",
              "        const element = document.querySelector('#df-c27f406e-ea7f-4b38-8d40-72195fba32d6');\n",
              "        const dataTable =\n",
              "          await google.colab.kernel.invokeFunction('convertToInteractive',\n",
              "                                                    [key], {});\n",
              "        if (!dataTable) return;\n",
              "\n",
              "        const docLinkHtml = 'Like what you see? Visit the ' +\n",
              "          '<a target=\"_blank\" href=https://colab.research.google.com/notebooks/data_table.ipynb>data table notebook</a>'\n",
              "          + ' to learn more about interactive tables.';\n",
              "        element.innerHTML = '';\n",
              "        dataTable['output_type'] = 'display_data';\n",
              "        await google.colab.output.renderOutput(dataTable, element);\n",
              "        const docLink = document.createElement('div');\n",
              "        docLink.innerHTML = docLinkHtml;\n",
              "        element.appendChild(docLink);\n",
              "      }\n",
              "    </script>\n",
              "  </div>\n",
              "\n",
              "\n",
              "<div id=\"df-81cb970f-c7bc-444b-be5d-16cfdb77f6c6\">\n",
              "  <button class=\"colab-df-quickchart\" onclick=\"quickchart('df-81cb970f-c7bc-444b-be5d-16cfdb77f6c6')\"\n",
              "            title=\"Suggest charts\"\n",
              "            style=\"display:none;\">\n",
              "\n",
              "<svg xmlns=\"http://www.w3.org/2000/svg\" height=\"24px\"viewBox=\"0 0 24 24\"\n",
              "     width=\"24px\">\n",
              "    <g>\n",
              "        <path d=\"M19 3H5c-1.1 0-2 .9-2 2v14c0 1.1.9 2 2 2h14c1.1 0 2-.9 2-2V5c0-1.1-.9-2-2-2zM9 17H7v-7h2v7zm4 0h-2V7h2v10zm4 0h-2v-4h2v4z\"/>\n",
              "    </g>\n",
              "</svg>\n",
              "  </button>\n",
              "\n",
              "<style>\n",
              "  .colab-df-quickchart {\n",
              "      --bg-color: #E8F0FE;\n",
              "      --fill-color: #1967D2;\n",
              "      --hover-bg-color: #E2EBFA;\n",
              "      --hover-fill-color: #174EA6;\n",
              "      --disabled-fill-color: #AAA;\n",
              "      --disabled-bg-color: #DDD;\n",
              "  }\n",
              "\n",
              "  [theme=dark] .colab-df-quickchart {\n",
              "      --bg-color: #3B4455;\n",
              "      --fill-color: #D2E3FC;\n",
              "      --hover-bg-color: #434B5C;\n",
              "      --hover-fill-color: #FFFFFF;\n",
              "      --disabled-bg-color: #3B4455;\n",
              "      --disabled-fill-color: #666;\n",
              "  }\n",
              "\n",
              "  .colab-df-quickchart {\n",
              "    background-color: var(--bg-color);\n",
              "    border: none;\n",
              "    border-radius: 50%;\n",
              "    cursor: pointer;\n",
              "    display: none;\n",
              "    fill: var(--fill-color);\n",
              "    height: 32px;\n",
              "    padding: 0;\n",
              "    width: 32px;\n",
              "  }\n",
              "\n",
              "  .colab-df-quickchart:hover {\n",
              "    background-color: var(--hover-bg-color);\n",
              "    box-shadow: 0 1px 2px rgba(60, 64, 67, 0.3), 0 1px 3px 1px rgba(60, 64, 67, 0.15);\n",
              "    fill: var(--button-hover-fill-color);\n",
              "  }\n",
              "\n",
              "  .colab-df-quickchart-complete:disabled,\n",
              "  .colab-df-quickchart-complete:disabled:hover {\n",
              "    background-color: var(--disabled-bg-color);\n",
              "    fill: var(--disabled-fill-color);\n",
              "    box-shadow: none;\n",
              "  }\n",
              "\n",
              "  .colab-df-spinner {\n",
              "    border: 2px solid var(--fill-color);\n",
              "    border-color: transparent;\n",
              "    border-bottom-color: var(--fill-color);\n",
              "    animation:\n",
              "      spin 1s steps(1) infinite;\n",
              "  }\n",
              "\n",
              "  @keyframes spin {\n",
              "    0% {\n",
              "      border-color: transparent;\n",
              "      border-bottom-color: var(--fill-color);\n",
              "      border-left-color: var(--fill-color);\n",
              "    }\n",
              "    20% {\n",
              "      border-color: transparent;\n",
              "      border-left-color: var(--fill-color);\n",
              "      border-top-color: var(--fill-color);\n",
              "    }\n",
              "    30% {\n",
              "      border-color: transparent;\n",
              "      border-left-color: var(--fill-color);\n",
              "      border-top-color: var(--fill-color);\n",
              "      border-right-color: var(--fill-color);\n",
              "    }\n",
              "    40% {\n",
              "      border-color: transparent;\n",
              "      border-right-color: var(--fill-color);\n",
              "      border-top-color: var(--fill-color);\n",
              "    }\n",
              "    60% {\n",
              "      border-color: transparent;\n",
              "      border-right-color: var(--fill-color);\n",
              "    }\n",
              "    80% {\n",
              "      border-color: transparent;\n",
              "      border-right-color: var(--fill-color);\n",
              "      border-bottom-color: var(--fill-color);\n",
              "    }\n",
              "    90% {\n",
              "      border-color: transparent;\n",
              "      border-bottom-color: var(--fill-color);\n",
              "    }\n",
              "  }\n",
              "</style>\n",
              "\n",
              "  <script>\n",
              "    async function quickchart(key) {\n",
              "      const quickchartButtonEl =\n",
              "        document.querySelector('#' + key + ' button');\n",
              "      quickchartButtonEl.disabled = true;  // To prevent multiple clicks.\n",
              "      quickchartButtonEl.classList.add('colab-df-spinner');\n",
              "      try {\n",
              "        const charts = await google.colab.kernel.invokeFunction(\n",
              "            'suggestCharts', [key], {});\n",
              "      } catch (error) {\n",
              "        console.error('Error during call to suggestCharts:', error);\n",
              "      }\n",
              "      quickchartButtonEl.classList.remove('colab-df-spinner');\n",
              "      quickchartButtonEl.classList.add('colab-df-quickchart-complete');\n",
              "    }\n",
              "    (() => {\n",
              "      let quickchartButtonEl =\n",
              "        document.querySelector('#df-81cb970f-c7bc-444b-be5d-16cfdb77f6c6 button');\n",
              "      quickchartButtonEl.style.display =\n",
              "        google.colab.kernel.accessAllowed ? 'block' : 'none';\n",
              "    })();\n",
              "  </script>\n",
              "</div>\n",
              "\n",
              "    </div>\n",
              "  </div>\n"
            ],
            "application/vnd.google.colaboratory.intrinsic+json": {
              "type": "dataframe",
              "variable_name": "X_test",
              "summary": "{\n  \"name\": \"X_test\",\n  \"rows\": 1300,\n  \"fields\": [\n    {\n      \"column\": \"fixed acidity\",\n      \"properties\": {\n        \"dtype\": \"number\",\n        \"std\": 0.9606586924585263,\n        \"min\": -2.1504178701854757,\n        \"max\": 4.355527538295987,\n        \"num_unique_values\": 78,\n        \"samples\": [\n          1.0642845669465406,\n          -0.8492287884891838,\n          0.605041361641967\n        ],\n        \"semantic_type\": \"\",\n        \"description\": \"\"\n      }\n    },\n    {\n      \"column\": \"volatile acidity\",\n      \"properties\": {\n        \"dtype\": \"number\",\n        \"std\": 1.0395041654587258,\n        \"min\": -1.5860116612754196,\n        \"max\": 7.59834691429799,\n        \"num_unique_values\": 124,\n        \"samples\": [\n          -1.157408261081994,\n          0.6794634540326878,\n          1.2305249685670925\n        ],\n        \"semantic_type\": \"\",\n        \"description\": \"\"\n      }\n    },\n    {\n      \"column\": \"citric acid\",\n      \"properties\": {\n        \"dtype\": \"number\",\n        \"std\": 0.9572334512975004,\n        \"min\": -2.1709792743428658,\n        \"max\": 3.697474106125189,\n        \"num_unique_values\": 79,\n        \"samples\": [\n          -0.4650335242068034,\n          0.5585339258748341,\n          -0.8062226742340158\n        ],\n        \"semantic_type\": \"\",\n        \"description\": \"\"\n      }\n    },\n    {\n      \"column\": \"residual sugar\",\n      \"properties\": {\n        \"dtype\": \"number\",\n        \"std\": 0.9903646722192694,\n        \"min\": -0.9746916615488138,\n        \"max\": 5.486463934486732,\n        \"num_unique_values\": 219,\n        \"samples\": [\n          1.9412194678308639,\n          0.9972194619165797,\n          0.934286128188961\n        ],\n        \"semantic_type\": \"\",\n        \"description\": \"\"\n      }\n    },\n    {\n      \"column\": \"chlorides\",\n      \"properties\": {\n        \"dtype\": \"number\",\n        \"std\": 1.0243032676410757,\n        \"min\": -1.259239548571522,\n        \"max\": 11.706352672687261,\n        \"num_unique_values\": 136,\n        \"samples\": [\n          -1.1158148558584824,\n          0.8347609650388567,\n          -0.11184200686720507\n        ],\n        \"semantic_type\": \"\",\n        \"description\": \"\"\n      }\n    },\n    {\n      \"column\": \"free sulfur dioxide\",\n      \"properties\": {\n        \"dtype\": \"number\",\n        \"std\": 1.0792151333134155,\n        \"min\": -1.579000317613471,\n        \"max\": 14.797684340990752,\n        \"num_unique_values\": 95,\n        \"samples\": [\n          1.1695341705438809,\n          -1.4644780472735814,\n          0.8832284946941567\n        ],\n        \"semantic_type\": \"\",\n        \"description\": \"\"\n      }\n    },\n    {\n      \"column\": \"total sulfur dioxide\",\n      \"properties\": {\n        \"dtype\": \"number\",\n        \"std\": 1.0047704132503676,\n        \"min\": -1.9321379563669403,\n        \"max\": 5.73652789605781,\n        \"num_unique_values\": 237,\n        \"samples\": [\n          1.1494968203580171,\n          -0.12566239759713774,\n          1.6276815270912002\n        ],\n        \"semantic_type\": \"\",\n        \"description\": \"\"\n      }\n    },\n    {\n      \"column\": \"density\",\n      \"properties\": {\n        \"dtype\": \"number\",\n        \"std\": 0.9998296625332252,\n        \"min\": -2.5256036087080562,\n        \"max\": 5.200968538185999,\n        \"num_unique_values\": 541,\n        \"samples\": [\n          -1.2350626415746824,\n          0.6023742392792804,\n          0.7857844542465336\n        ],\n        \"semantic_type\": \"\",\n        \"description\": \"\"\n      }\n    },\n    {\n      \"column\": \"pH\",\n      \"properties\": {\n        \"dtype\": \"number\",\n        \"std\": 1.0239119736976752,\n        \"min\": -2.6166852547868737,\n        \"max\": 4.945140948852849,\n        \"num_unique_values\": 94,\n        \"samples\": [\n          0.3830474540949995,\n          0.13306972835484593,\n          0.25805859122492136\n        ],\n        \"semantic_type\": \"\",\n        \"description\": \"\"\n      }\n    },\n    {\n      \"column\": \"sulphates\",\n      \"properties\": {\n        \"dtype\": \"number\",\n        \"std\": 0.9626984523075971,\n        \"min\": -1.81264864706394,\n        \"max\": 7.259798065789627,\n        \"num_unique_values\": 80,\n        \"samples\": [\n          1.0558455342059372,\n          0.3887538641431751,\n          -0.27833780591958696\n        ],\n        \"semantic_type\": \"\",\n        \"description\": \"\"\n      }\n    },\n    {\n      \"column\": \"alcohol\",\n      \"properties\": {\n        \"dtype\": \"number\",\n        \"std\": 1.004962732962564,\n        \"min\": -1.7508323992960888,\n        \"max\": 2.949236486998589,\n        \"num_unique_values\": 65,\n        \"samples\": [\n          2.5715523800641957,\n          2.445657677752731,\n          1.186710654638085\n        ],\n        \"semantic_type\": \"\",\n        \"description\": \"\"\n      }\n    },\n    {\n      \"column\": \"quality\",\n      \"properties\": {\n        \"dtype\": \"number\",\n        \"std\": 1.0211707610673812,\n        \"min\": -3.2350417523835064,\n        \"max\": 3.6657019829306603,\n        \"num_unique_values\": 7,\n        \"samples\": [\n          0.21533011527357704,\n          -0.9347938406121175,\n          2.515578027044966\n        ],\n        \"semantic_type\": \"\",\n        \"description\": \"\"\n      }\n    }\n  ]\n}"
            }
          },
          "metadata": {},
          "execution_count": 78
        }
      ]
    },
    {
      "cell_type": "markdown",
      "source": [
        "We'll compare two scoring metrics - Log Loss and Accuracy.\n",
        "\n",
        "To calculate Log Loss, we'll need to collect the probability predictions (probability of 0 and probability of 1), which we can do using ```.predict_proba()```, for each model."
      ],
      "metadata": {
        "id": "FV23DLeHCceu"
      }
    },
    {
      "cell_type": "code",
      "source": [
        "mlr_proba_preds = mlr_log.predict_proba(X_test)\n",
        "lasso_proba_preds = lasso_log.predict_proba(X_test)\n",
        "ridge_proba_preds = ridge_log.predict_proba(X_test)\n",
        "elasticnet_proba_preds = elasticnet_log.predict_proba(X_test)"
      ],
      "metadata": {
        "id": "ghXKiAUirv3k"
      },
      "execution_count": 79,
      "outputs": []
    },
    {
      "cell_type": "markdown",
      "source": [
        "Now calculate the Log Loss using the ```log_loss()``` function."
      ],
      "metadata": {
        "id": "eIC3Z6exDUA3"
      }
    },
    {
      "cell_type": "code",
      "source": [
        "print({'mlr_log:': log_loss(y_test, mlr_proba_preds),\n",
        "       'lasso_log:': log_loss(y_test, lasso_proba_preds),\n",
        "       'ridge_log:': log_loss(y_test, ridge_proba_preds),\n",
        "       'elasticnet_log:': log_loss(y_test, elasticnet_proba_preds)})"
      ],
      "metadata": {
        "colab": {
          "base_uri": "https://localhost:8080/"
        },
        "id": "2V8W6TFts4uj",
        "outputId": "035c9d88-3397-4346-ae75-5eaeb3ddfc3c"
      },
      "execution_count": 80,
      "outputs": [
        {
          "output_type": "stream",
          "name": "stdout",
          "text": [
            "{'mlr_log:': 0.04396004207175532, 'lasso_log:': 0.04405722602839568, 'ridge_log:': 0.045252880972079516, 'elasticnet_log:': 0.04633518529089332}\n"
          ]
        }
      ]
    },
    {
      "cell_type": "markdown",
      "source": [
        "The full logistic regression model has the lowest log loss score.\n",
        "\n",
        "Now lets look at the accuracy of the four models. This metric counts the number of correct predictions and divides by the total number of predictions.\n",
        "\n",
        "Collect the predictions using ```.predict()```"
      ],
      "metadata": {
        "id": "V3jlW6zoD3O-"
      }
    },
    {
      "cell_type": "code",
      "source": [
        "mlr_cat_preds = mlr_log.predict(X_test)\n",
        "lasso_cat_preds = lasso_log.predict(X_test)\n",
        "ridge_cat_preds = ridge_log.predict(X_test)\n",
        "elasticnet_cat_preds = elasticnet_log.predict(X_test)"
      ],
      "metadata": {
        "id": "nIbWiFdLvFzg"
      },
      "execution_count": 81,
      "outputs": []
    },
    {
      "cell_type": "markdown",
      "source": [
        "Calculate the accuracy of each model using `accuracy_score()`."
      ],
      "metadata": {
        "id": "OPXE8XsPErkK"
      }
    },
    {
      "cell_type": "code",
      "source": [
        "print({'mlr_log:': accuracy_score(y_test, mlr_cat_preds),\n",
        "       'lasso_log:': accuracy_score(y_test, lasso_cat_preds),\n",
        "       'ridge_log:': accuracy_score(y_test, ridge_cat_preds),\n",
        "       'elasticnet_log:': accuracy_score(y_test, elasticnet_cat_preds)})"
      ],
      "metadata": {
        "colab": {
          "base_uri": "https://localhost:8080/"
        },
        "id": "NWKj8o4wv7w5",
        "outputId": "8945a000-abc5-4c30-dc99-002a448cbe63"
      },
      "execution_count": 82,
      "outputs": [
        {
          "output_type": "stream",
          "name": "stdout",
          "text": [
            "{'mlr_log:': 0.9923076923076923, 'lasso_log:': 0.9930769230769231, 'ridge_log:': 0.9930769230769231, 'elasticnet_log:': 0.9930769230769231}\n"
          ]
        }
      ]
    },
    {
      "cell_type": "markdown",
      "source": [
        "The best score is a three-way tie between all of the penalized regression models. This is not that surprising since the results for both the Ridge and Elastic Net CV models indicated that the best **l1_ratio** parameter was 1.0 or close to it and an **l1_ratio** of 1.0 is the same as a LASSO."
      ],
      "metadata": {
        "id": "N48NVBycE4ZV"
      }
    },
    {
      "cell_type": "code",
      "source": [
        "%%shell\n",
        "jupyter nbconvert --to html ///content/HW7_bhigginbotham.ipynb"
      ],
      "metadata": {
        "colab": {
          "base_uri": "https://localhost:8080/"
        },
        "id": "EiUNGVxoxeYW",
        "outputId": "58b95699-4e48-4e88-ee02-06ec1047a3ff"
      },
      "execution_count": null,
      "outputs": [
        {
          "output_type": "stream",
          "name": "stdout",
          "text": [
            "[NbConvertApp] Converting notebook ///content/HW7_bhigginbotham.ipynb to html\n",
            "[NbConvertApp] Writing 758453 bytes to /content/HW7_bhigginbotham.html\n"
          ]
        },
        {
          "output_type": "execute_result",
          "data": {
            "text/plain": []
          },
          "metadata": {},
          "execution_count": 180
        }
      ]
    }
  ]
}